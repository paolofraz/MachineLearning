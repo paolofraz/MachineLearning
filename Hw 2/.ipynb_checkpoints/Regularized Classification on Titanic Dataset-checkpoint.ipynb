{
 "cells": [
  {
   "cell_type": "markdown",
   "metadata": {},
   "source": [
    "# Regularized Classification on Titanic Dataset\n",
    "\n",
    "We are going to use a dataset from a Kaggle competition (https://www.kaggle.com/c/titanic/data)\n",
    " \n",
    "### Dataset description\n",
    "\n",
    ">The sinking of the RMS Titanic is one of the most infamous shipwrecks in history.  On April 15, 1912, during her maiden voyage, the Titanic sank after colliding with an iceberg, killing 1502 out of 2224 passengers and crew.  This tragedy shocked the international community and led to better safety regulations for ships.\n",
    "\n",
    ">One of the reasons that the shipwreck led to such loss of life was that there were not enough lifeboats for the passengers and crew.  Although there was some element of luck involved in surviving the sinking, some groups of people were more likely to survive than others, such as women, children, and the upper-class.\n",
    "\n",
    ">In this contest, we ask you to complete the analysis of what sorts of people were more likely to survive. \n",
    "\n",
    "From the competition [homepage](http://www.kaggle.com/c/titanic-gettingStarted).\n",
    "\n"
   ]
  },
  {
   "cell_type": "markdown",
   "metadata": {},
   "source": [
    "# TO DO: put your ID number (\"numero di matricola\")\n",
    "It will be used as seed for splitting the data into training and test. You can also try different seeds to see the impact of the random subdvision of the train and test sets and of the random components in the algorithm on the results."
   ]
  },
  {
   "cell_type": "code",
   "execution_count": 1,
   "metadata": {
    "ExecuteTime": {
     "end_time": "2018-12-15T18:14:46.820712Z",
     "start_time": "2018-12-15T18:14:46.468654Z"
    }
   },
   "outputs": [],
   "source": [
    "import numpy as np\n",
    "\n",
    "#put here your ``numero di matricola''\n",
    "IDnumber = 1205687 # substitute with your ID \n",
    "np.random.seed(IDnumber)"
   ]
  },
  {
   "cell_type": "code",
   "execution_count": 2,
   "metadata": {
    "ExecuteTime": {
     "end_time": "2018-12-15T18:14:47.526806Z",
     "start_time": "2018-12-15T18:14:46.829688Z"
    }
   },
   "outputs": [],
   "source": [
    "# let's load library for plotting\n",
    "%matplotlib inline  \n",
    "import matplotlib.pyplot as plt"
   ]
  },
  {
   "cell_type": "markdown",
   "metadata": {},
   "source": [
    "## Data Preprocessing\n",
    "\n",
    "Load the data from a .csv file. In this notebook we use the pandas (Python Data Analysis Library) package, since it provides useful functions to clean the data. In particular, it allows us to remove samples with missing data, as we do below. We also plot some descriptions of columns, check the pandas documentation for 'describe()' if you want to know more."
   ]
  },
  {
   "cell_type": "code",
   "execution_count": 3,
   "metadata": {
    "ExecuteTime": {
     "end_time": "2018-12-15T18:14:48.164772Z",
     "start_time": "2018-12-15T18:14:47.526806Z"
    }
   },
   "outputs": [
    {
     "data": {
      "text/html": [
       "<div>\n",
       "<style scoped>\n",
       "    .dataframe tbody tr th:only-of-type {\n",
       "        vertical-align: middle;\n",
       "    }\n",
       "\n",
       "    .dataframe tbody tr th {\n",
       "        vertical-align: top;\n",
       "    }\n",
       "\n",
       "    .dataframe thead th {\n",
       "        text-align: right;\n",
       "    }\n",
       "</style>\n",
       "<table border=\"1\" class=\"dataframe\">\n",
       "  <thead>\n",
       "    <tr style=\"text-align: right;\">\n",
       "      <th></th>\n",
       "      <th>PassengerId</th>\n",
       "      <th>Survived</th>\n",
       "      <th>Pclass</th>\n",
       "      <th>Sex</th>\n",
       "      <th>Age</th>\n",
       "      <th>SibSp</th>\n",
       "      <th>Parch</th>\n",
       "      <th>Fare</th>\n",
       "      <th>Embarked</th>\n",
       "    </tr>\n",
       "  </thead>\n",
       "  <tbody>\n",
       "    <tr>\n",
       "      <th>count</th>\n",
       "      <td>712.000000</td>\n",
       "      <td>712.000000</td>\n",
       "      <td>712.000000</td>\n",
       "      <td>712</td>\n",
       "      <td>712.000000</td>\n",
       "      <td>712.000000</td>\n",
       "      <td>712.000000</td>\n",
       "      <td>712.000000</td>\n",
       "      <td>712</td>\n",
       "    </tr>\n",
       "    <tr>\n",
       "      <th>unique</th>\n",
       "      <td>NaN</td>\n",
       "      <td>NaN</td>\n",
       "      <td>NaN</td>\n",
       "      <td>2</td>\n",
       "      <td>NaN</td>\n",
       "      <td>NaN</td>\n",
       "      <td>NaN</td>\n",
       "      <td>NaN</td>\n",
       "      <td>3</td>\n",
       "    </tr>\n",
       "    <tr>\n",
       "      <th>top</th>\n",
       "      <td>NaN</td>\n",
       "      <td>NaN</td>\n",
       "      <td>NaN</td>\n",
       "      <td>male</td>\n",
       "      <td>NaN</td>\n",
       "      <td>NaN</td>\n",
       "      <td>NaN</td>\n",
       "      <td>NaN</td>\n",
       "      <td>S</td>\n",
       "    </tr>\n",
       "    <tr>\n",
       "      <th>freq</th>\n",
       "      <td>NaN</td>\n",
       "      <td>NaN</td>\n",
       "      <td>NaN</td>\n",
       "      <td>453</td>\n",
       "      <td>NaN</td>\n",
       "      <td>NaN</td>\n",
       "      <td>NaN</td>\n",
       "      <td>NaN</td>\n",
       "      <td>554</td>\n",
       "    </tr>\n",
       "    <tr>\n",
       "      <th>mean</th>\n",
       "      <td>448.589888</td>\n",
       "      <td>0.404494</td>\n",
       "      <td>2.240169</td>\n",
       "      <td>NaN</td>\n",
       "      <td>29.642093</td>\n",
       "      <td>0.514045</td>\n",
       "      <td>0.432584</td>\n",
       "      <td>34.567251</td>\n",
       "      <td>NaN</td>\n",
       "    </tr>\n",
       "    <tr>\n",
       "      <th>std</th>\n",
       "      <td>258.683191</td>\n",
       "      <td>0.491139</td>\n",
       "      <td>0.836854</td>\n",
       "      <td>NaN</td>\n",
       "      <td>14.492933</td>\n",
       "      <td>0.930692</td>\n",
       "      <td>0.854181</td>\n",
       "      <td>52.938648</td>\n",
       "      <td>NaN</td>\n",
       "    </tr>\n",
       "    <tr>\n",
       "      <th>min</th>\n",
       "      <td>1.000000</td>\n",
       "      <td>0.000000</td>\n",
       "      <td>1.000000</td>\n",
       "      <td>NaN</td>\n",
       "      <td>0.420000</td>\n",
       "      <td>0.000000</td>\n",
       "      <td>0.000000</td>\n",
       "      <td>0.000000</td>\n",
       "      <td>NaN</td>\n",
       "    </tr>\n",
       "    <tr>\n",
       "      <th>25%</th>\n",
       "      <td>222.750000</td>\n",
       "      <td>0.000000</td>\n",
       "      <td>1.000000</td>\n",
       "      <td>NaN</td>\n",
       "      <td>20.000000</td>\n",
       "      <td>0.000000</td>\n",
       "      <td>0.000000</td>\n",
       "      <td>8.050000</td>\n",
       "      <td>NaN</td>\n",
       "    </tr>\n",
       "    <tr>\n",
       "      <th>50%</th>\n",
       "      <td>445.000000</td>\n",
       "      <td>0.000000</td>\n",
       "      <td>2.000000</td>\n",
       "      <td>NaN</td>\n",
       "      <td>28.000000</td>\n",
       "      <td>0.000000</td>\n",
       "      <td>0.000000</td>\n",
       "      <td>15.645850</td>\n",
       "      <td>NaN</td>\n",
       "    </tr>\n",
       "    <tr>\n",
       "      <th>75%</th>\n",
       "      <td>677.250000</td>\n",
       "      <td>1.000000</td>\n",
       "      <td>3.000000</td>\n",
       "      <td>NaN</td>\n",
       "      <td>38.000000</td>\n",
       "      <td>1.000000</td>\n",
       "      <td>1.000000</td>\n",
       "      <td>33.000000</td>\n",
       "      <td>NaN</td>\n",
       "    </tr>\n",
       "    <tr>\n",
       "      <th>max</th>\n",
       "      <td>891.000000</td>\n",
       "      <td>1.000000</td>\n",
       "      <td>3.000000</td>\n",
       "      <td>NaN</td>\n",
       "      <td>80.000000</td>\n",
       "      <td>5.000000</td>\n",
       "      <td>6.000000</td>\n",
       "      <td>512.329200</td>\n",
       "      <td>NaN</td>\n",
       "    </tr>\n",
       "  </tbody>\n",
       "</table>\n",
       "</div>"
      ],
      "text/plain": [
       "        PassengerId    Survived      Pclass   Sex         Age       SibSp  \\\n",
       "count    712.000000  712.000000  712.000000   712  712.000000  712.000000   \n",
       "unique          NaN         NaN         NaN     2         NaN         NaN   \n",
       "top             NaN         NaN         NaN  male         NaN         NaN   \n",
       "freq            NaN         NaN         NaN   453         NaN         NaN   \n",
       "mean     448.589888    0.404494    2.240169   NaN   29.642093    0.514045   \n",
       "std      258.683191    0.491139    0.836854   NaN   14.492933    0.930692   \n",
       "min        1.000000    0.000000    1.000000   NaN    0.420000    0.000000   \n",
       "25%      222.750000    0.000000    1.000000   NaN   20.000000    0.000000   \n",
       "50%      445.000000    0.000000    2.000000   NaN   28.000000    0.000000   \n",
       "75%      677.250000    1.000000    3.000000   NaN   38.000000    1.000000   \n",
       "max      891.000000    1.000000    3.000000   NaN   80.000000    5.000000   \n",
       "\n",
       "             Parch        Fare Embarked  \n",
       "count   712.000000  712.000000      712  \n",
       "unique         NaN         NaN        3  \n",
       "top            NaN         NaN        S  \n",
       "freq           NaN         NaN      554  \n",
       "mean      0.432584   34.567251      NaN  \n",
       "std       0.854181   52.938648      NaN  \n",
       "min       0.000000    0.000000      NaN  \n",
       "25%       0.000000    8.050000      NaN  \n",
       "50%       0.000000   15.645850      NaN  \n",
       "75%       1.000000   33.000000      NaN  \n",
       "max       6.000000  512.329200      NaN  "
      ]
     },
     "execution_count": 3,
     "metadata": {},
     "output_type": "execute_result"
    }
   ],
   "source": [
    "# let's load pands and numpy\n",
    "import pandas as pd\n",
    "import numpy as np\n",
    "\n",
    "# this time we use pandas to load and clean the dataset\n",
    "\n",
    "# read the data from the csv file\n",
    "df = pd.read_csv(\"data/titanicData.csv\")\n",
    "\n",
    "# remove columns 'Ticket', 'Cabin', and 'Name' from the data since they are not relevant\n",
    "df = df.drop(['Ticket','Cabin','Name'], axis=1)\n",
    "# remove samples with missing values\n",
    "df = df.dropna() \n",
    "# let's see some statistics about the data \n",
    "df.describe(include='all')"
   ]
  },
  {
   "cell_type": "markdown",
   "metadata": {
    "collapsed": true
   },
   "source": [
    "Now we create data matrices: many of the features (columns of indices 0,1,3,4,6 in Xcat below) are categorical, so we need to encode them with ***indicator matrices***. That is, if a feature can take $\\ell$ different values $v_1,\\dots,v_{\\ell}$, we create $\\ell$ indicator (0-1) features $I_1,\\dots,I_{\\ell}$, such that $I_{j} = 1$ if and only if the value of the feature is $v_j$. This can be done in Python by first encode a feature with integers with LabelEncoder() and then obtain the indicator variables with OneHotEncoder()."
   ]
  },
  {
   "cell_type": "code",
   "execution_count": 4,
   "metadata": {
    "ExecuteTime": {
     "end_time": "2018-12-15T18:14:51.512322Z",
     "start_time": "2018-12-15T18:14:48.164772Z"
    }
   },
   "outputs": [
    {
     "name": "stdout",
     "output_type": "stream",
     "text": [
      "['PassengerId', 'Survived', 'Pclass', 'Sex', 'Age', 'SibSp', 'Parch', 'Fare', 'Embarked']\n",
      "Number of samples: 712\n",
      "Number of features of each sample: 7\n",
      "Encoding for Pclass:  {1: 0, 2: 1, 3: 2}\n",
      "Encoding for 1 : {'female': 0, 'male': 1}\n",
      "Encoding for 3 : {0: 0, 1: 1, 2: 2, 3: 3, 4: 4, 5: 5}\n",
      "Encoding for 4 : {0: 0, 1: 1, 2: 2, 3: 3, 4: 4, 5: 5, 6: 6}\n",
      "Encoding for 6 : {'C': 0, 'Q': 1, 'S': 2}\n"
     ]
    }
   ],
   "source": [
    "#df.values contains the data, both the values of instances and the value of the label\n",
    "Data = df.values\n",
    "# the matrix including the categorical data is given by columns from the second one \n",
    "X_categorical = Data[:,2:]\n",
    "# the target value (class) is in the first column\n",
    "Y = Data[:,1]\n",
    "\n",
    "print(list(df))\n",
    "\n",
    "# get the number d of features of each sample\n",
    "d = X_categorical.shape[1]\n",
    "\n",
    "# get the number m of samples\n",
    "m = X_categorical.shape[0]\n",
    "\n",
    "#let's see what the number of samples is\n",
    "print(\"Number of samples: {}\".format(m))\n",
    "print(\"Number of features of each sample: {}\".format(d))\n",
    "\n",
    "#now encode categorical variables using integers and one-hot-encoder\n",
    "\n",
    "from sklearn.preprocessing import LabelEncoder, OneHotEncoder\n",
    "label_encoder = LabelEncoder()\n",
    "onehot_encoder = OneHotEncoder(categories='auto')\n",
    "\n",
    "# encode the first column of the data matrix into indicator variables\n",
    "\n",
    "X_tmp = label_encoder.fit_transform(X_categorical[:,0])\n",
    "X_tmp = X_tmp.reshape(X_tmp.shape[0],1)\n",
    "#print('LabelEncoder: ',X_tmp[0:5])\n",
    "X = onehot_encoder.fit_transform(X_tmp[:,0].reshape(-1,1)).toarray()\n",
    "#print('OneHotEncoder: ',X_tmp[0:5])\n",
    "\n",
    "# understanding encoding scheme ...\n",
    "keys = label_encoder.classes_\n",
    "values = label_encoder.transform(keys)\n",
    "dictionary = dict(zip(keys, values))\n",
    "print('Encoding for Pclass: ',dictionary)\n",
    "\n",
    "# repeat for the other categorical input variables, which have indices 1, 3, 4, and 6 in the X_categorical\n",
    "\n",
    "index_categorical = [1,3,4,6] # i.e. Sex, SibSp, Parch, Embarked\n",
    "\n",
    "for i in range(1,7):\n",
    "    if i in index_categorical:\n",
    "        X_tmp = label_encoder.fit_transform(X_categorical[:,i])\n",
    "        X_tmp = X_tmp.reshape(X_tmp.shape[0],1)\n",
    "        keys = label_encoder.classes_\n",
    "        values = label_encoder.transform(keys)\n",
    "        dictionary = dict(zip(keys, values))\n",
    "        print('Encoding for',i, ':',dictionary)\n",
    "        X_tmp = onehot_encoder.fit_transform(X_tmp[:,0].reshape(-1,1)).toarray()\n",
    "        X = np.hstack((X,X_tmp))\n",
    "    else:\n",
    "        X_tmp = X_categorical[:,i]\n",
    "        X_tmp = X_tmp.reshape(X_tmp.shape[0],1)\n",
    "        X = np.hstack((X,X_tmp))"
   ]
  },
  {
   "cell_type": "markdown",
   "metadata": {},
   "source": [
    "## Data Preprocessing\n",
    "\n",
    "The class labels are already 0-1, so we can use them directly."
   ]
  },
  {
   "cell_type": "code",
   "execution_count": 5,
   "metadata": {
    "ExecuteTime": {
     "end_time": "2018-12-15T18:14:51.559195Z",
     "start_time": "2018-12-15T18:14:51.542242Z"
    }
   },
   "outputs": [
    {
     "name": "stdout",
     "output_type": "stream",
     "text": [
      "Number of classes: 2\n"
     ]
    }
   ],
   "source": [
    "# properly encode the target labels\n",
    "Y = label_encoder.fit_transform(Y)\n",
    "K = max(Y) + 1 # number of classes\n",
    "\n",
    "print(\"Number of classes: \"+str(K))"
   ]
  },
  {
   "cell_type": "markdown",
   "metadata": {},
   "source": [
    "Given $m$ total data points, keep $m\\_training = 70$ data points as data for ***training and validation*** and $m\\_test = m - m\\_training$ as test data. Splitting is random, using as seed your ID number. Make sure that the training set contains at least 10 instances from each class.If it does not, modify the code so to apply a random\n",
    "permutation (or the same permutation multiple times) to the samples until this happens."
   ]
  },
  {
   "cell_type": "code",
   "execution_count": 6,
   "metadata": {
    "ExecuteTime": {
     "end_time": "2018-12-15T18:14:51.699828Z",
     "start_time": "2018-12-15T18:14:51.568174Z"
    }
   },
   "outputs": [
    {
     "name": "stdout",
     "output_type": "stream",
     "text": [
      "[1 0 0 1 0 0 1 1 0 1 0 0 1 1 1 1 1 0 0 1 0 1 0 0 1 0 0 0 1 0 1 0 1 0 1 1 1\n",
      " 0 1 0 0 1 0 0 0 0 0 0 1 0 0 0 0 0 1 0 0 1 0 0 1 0 1 0 0 1 1 1 1 1]\n",
      "0.4044943820224719\n"
     ]
    }
   ],
   "source": [
    "# Split data into training and validation data\n",
    "\n",
    "# load a package which is useful for the training-test splitting\n",
    "# from sklearn.cross_validation import train_test_split\n",
    "from sklearn.model_selection import train_test_split\n",
    "\n",
    "# number of samples\n",
    "m = np.shape(X)[0]\n",
    "\n",
    "#Divide in training and test: make sure that your training set\n",
    "#contains at least 10 elements from class 1 and at least 10 elements\n",
    "#from class -1! If it does not, modify the code so to apply more random\n",
    "#permutations (or the same permutation multiple times) until this happens.\n",
    "\n",
    "permutation = np.random.permutation(m)\n",
    "X = X[permutation]\n",
    "Y = Y[permutation]\n",
    "\n",
    "m_training = 70  # use 70 samples for training + validation...\n",
    "m_test = m-m_training # and the rest for testing\n",
    "\n",
    "# test_size is the proportion of samples in the test set\n",
    "X_training, X_test, Y_training, Y_test = train_test_split(X, Y, test_size =float(m_test)/float(m), random_state = IDnumber)\n",
    "\n",
    "print(Y_training)\n",
    "\n",
    "m_training = X_training.shape[0]\n",
    "m_test = X_test.shape[0]\n",
    "\n",
    "#let's see what the fraction of ones in the entire dataset is\n",
    "print(float(sum(Y_training)+sum(Y_test))/float(m_training+m_test))"
   ]
  },
  {
   "cell_type": "markdown",
   "metadata": {},
   "source": [
    "Standardize the data to have zero-mean and unit variance (columnwise):"
   ]
  },
  {
   "cell_type": "code",
   "execution_count": 7,
   "metadata": {
    "ExecuteTime": {
     "end_time": "2018-12-15T18:14:51.754716Z",
     "start_time": "2018-12-15T18:14:51.709795Z"
    }
   },
   "outputs": [],
   "source": [
    "# Standardize the Features Matrix\n",
    "from sklearn import preprocessing\n",
    "\n",
    "X = X.astype(np.float64) #standard scaler works with double precision data\n",
    "X_training = X_training.astype(np.float64)\n",
    "X_test = X_test.astype(np.float64)\n",
    "\n",
    "#let's use the standard scaling; we degine the scaling for the entire dataset\n",
    "scaler = preprocessing.StandardScaler().fit(X)\n",
    "\n",
    "#let's apply the scaling to the training set\n",
    "\n",
    "X_training = scaler.transform(X_training)\n",
    "#let's apply the scaling to the test set\n",
    "\n",
    "X_test = scaler.transform(X_test)"
   ]
  },
  {
   "cell_type": "markdown",
   "metadata": {},
   "source": [
    "### Perform Logistic Regression\n",
    "\n",
    "We now perform logistic regression using the function provided by Scikit-learn.\n",
    "\n",
    "Note: as provided by Scikit-learn, logistic regression is always implemented using regularization. However, the impact of regularization can be dampened to have almost no regularization by changing the parameter $C$, which is the inverse of $\\lambda$. Therefore to have no regularization, which is $\\lambda = 0$ for the model seen in class, we need $C$ to have a large value. Here we fix $C = 100000000$.\n",
    "\n",
    "[Note that the intercept is estimated in the model.]\n",
    "\n",
    "For all our models we are going to use 10-fold cross validation to estimate the parameters (when needed) and/or estimate the validation error."
   ]
  },
  {
   "cell_type": "code",
   "execution_count": 8,
   "metadata": {
    "ExecuteTime": {
     "end_time": "2018-12-15T18:14:52.439848Z",
     "start_time": "2018-12-15T18:14:51.761654Z"
    }
   },
   "outputs": [
    {
     "name": "stdout",
     "output_type": "stream",
     "text": [
      "Values of parameter C tried in 10-fold Cross-Validation: [100000000]\n",
      "Accuracies obtained for the different values of C with 10-fold Cross-Validation: [0.74404762]\n",
      "Best value of parameter C according to 10-fold Cross-Validation: 100000000\n",
      "10-fold Cross-Validation accuracies obtained with the best value of parameter C: 0.7440476190476191\n"
     ]
    }
   ],
   "source": [
    "from sklearn import linear_model\n",
    "\n",
    "# define a logistic regression model with very high C parameter -> low impact from regularization;\n",
    "# there are many solvers available to obtain the solution to the logistic regression problem, we just pick\n",
    "# one of them; 'cv' is -mber of folds in cross-validation; we also specify l2 as regularization penalty,\n",
    "# just to pick one; Cs contains the values of C to be tested and to pick from with validation. Here we\n",
    "# are interested in only 1 value of C, and use cross-validation just to estimate the validation error\n",
    "# in a same way as other models\n",
    "\n",
    "reg = linear_model.LogisticRegressionCV(Cs=[100000000], solver='newton-cg',cv=10, penalty='l2')\n",
    "\n",
    "#fit the model on training data\n",
    "reg.fit(X_training, Y_training)\n",
    "\n",
    "# the attribute 'Cs_' contains ALL the values of C evaluated in cross-validation;\n",
    "# let's print them\n",
    "print(\"Values of parameter C tried in 10-fold Cross-Validation: {}\".format( reg.Cs_ ))\n",
    "\n",
    "# the attribute 'scores_' contains the accuracy obtained in each fold, for each value \n",
    "# of C tried; we now compute the average accuracy across the 10 folds\n",
    "\n",
    "CV_accuracies = np.divide(np.sum(reg.scores_[1],axis=0),10)\n",
    "\n",
    "# let's print the average accuracies obtained for the various values of C\n",
    "\n",
    "print(\"Accuracies obtained for the different values of C with 10-fold Cross-Validation: {}\".format( CV_accuracies ))\n",
    "\n",
    "# the attribute 'C_' contains the best value of C as identified by cross-validation;\n",
    "# let's print it\n",
    "\n",
    "print(\"Best value of parameter C according to 10-fold Cross-Validation: {}\".format( reg.C_[0] ))\n",
    "\n",
    "# let's store the best CV accuracy, and then print it\n",
    "reg_best_CV_accuracy = max(CV_accuracies)\n",
    "print(\"10-fold Cross-Validation accuracies obtained with the best value of parameter C: {}\".format( reg_best_CV_accuracy ))"
   ]
  },
  {
   "cell_type": "markdown",
   "metadata": {},
   "source": [
    "Note that the logistic regression function in Scikit-learn has many optional parameters. Read the documentation if you want to understand what they do!"
   ]
  },
  {
   "cell_type": "markdown",
   "metadata": {},
   "source": [
    "## TODO 1\n",
    "### Learn the best model from Logistic Regression on the entire training set and examine coefficients (by printing and plotting them)\n",
    "\n",
    "Note that you can use simply $linear\\_model.LogisticRegression()$, that does not use cross-validation, without passing the best value of $C$ (and then fit())."
   ]
  },
  {
   "cell_type": "code",
   "execution_count": 9,
   "metadata": {
    "ExecuteTime": {
     "end_time": "2018-12-15T18:14:53.301542Z",
     "start_time": "2018-12-15T18:14:52.446857Z"
    }
   },
   "outputs": [
    {
     "name": "stdout",
     "output_type": "stream",
     "text": [
      "Coefficients obtained using the entire training set: \n",
      " [[ 0.54133359  0.06798929 -0.53227989  0.72874699 -0.72874699 -0.49800992\n",
      "   0.28608395 -0.13923063  1.46613021 -0.1623135  -1.71117127 -0.66050127\n",
      "  -0.0581756   0.03261836  0.18135282  0.06316095  0.05645296 -0.59612472\n",
      "   0.02816687 -0.35649243  0.29315864 -0.00600329 -0.26974583]]\n",
      "Intercept: [-0.75105774]\n"
     ]
    },
    {
     "name": "stderr",
     "output_type": "stream",
     "text": [
      "C:\\ProgramData\\Anaconda3\\lib\\site-packages\\sklearn\\linear_model\\logistic.py:432: FutureWarning: Default solver will be changed to 'lbfgs' in 0.22. Specify a solver to silence this warning.\n",
      "  FutureWarning)\n"
     ]
    },
    {
     "data": {
      "image/png": "[encoded data removed]",
      "text/plain": [
       "<Figure size 432x288 with 1 Axes>"
      ]
     },
     "metadata": {
      "needs_background": "light"
     },
     "output_type": "display_data"
    }
   ],
   "source": [
    "# let's define the Logistic Regression model\n",
    "reg_full = linear_model.LogisticRegression(C=100000000) #COMPLETE!\n",
    "\n",
    "# get the best model using the entire training dataset\n",
    "\n",
    "reg_full.fit(X_training,Y_training) #ADD CODE!\n",
    "\n",
    "# print the coefficients from the logistic regression model.\n",
    "print(\"Coefficients obtained using the entire training set: \\n {}\".format( reg_full.coef_ ))\n",
    "\n",
    "# note that the intercept is not in coef_, it is in intercept_\n",
    "\n",
    "print(\"Intercept: {}\".format( reg_full.intercept_ )) \n",
    "\n",
    "# Plot the coefficients\n",
    "reg_coef = reg_full.coef_.reshape(reg_full.coef_.shape[1],)\n",
    "plt.figure()\n",
    "ind = np.arange(1,len(reg_coef)+1)  # the x locations for the groups\n",
    "width = 0.45       # the width of the bars\n",
    "plt.bar(ind, reg_coef, width, color='r')\n",
    "plt.xlabel('Coefficient Index')\n",
    "plt.ylabel('Coefficient Value')\n",
    "plt.title('Logistic Regression Coefficients')\n",
    "plt.show()"
   ]
  },
  {
   "cell_type": "markdown",
   "metadata": {},
   "source": [
    "## TODO 2\n",
    "\n",
    "### Questions: How many coefficients do you get? Why? How many of them are \"close\" to 0? (max 5 lines)"
   ]
  },
  {
   "cell_type": "code",
   "execution_count": 10,
   "metadata": {
    "ExecuteTime": {
     "end_time": "2018-12-15T18:14:53.319492Z",
     "start_time": "2018-12-15T18:14:53.307521Z"
    }
   },
   "outputs": [
    {
     "data": {
      "text/plain": [
       "23"
      ]
     },
     "execution_count": 10,
     "metadata": {},
     "output_type": "execute_result"
    }
   ],
   "source": [
    "reg_coef.size"
   ]
  },
  {
   "cell_type": "code",
   "execution_count": 11,
   "metadata": {
    "ExecuteTime": {
     "end_time": "2018-12-15T18:14:53.358385Z",
     "start_time": "2018-12-15T18:14:53.326471Z"
    }
   },
   "outputs": [
    {
     "data": {
      "text/plain": [
       "23"
      ]
     },
     "execution_count": 11,
     "metadata": {},
     "output_type": "execute_result"
    }
   ],
   "source": [
    "X_training.shape[1]"
   ]
  },
  {
   "cell_type": "code",
   "execution_count": 12,
   "metadata": {
    "ExecuteTime": {
     "end_time": "2018-12-15T18:14:53.387317Z",
     "start_time": "2018-12-15T18:14:53.364370Z"
    }
   },
   "outputs": [
    {
     "data": {
      "text/plain": [
       "7"
      ]
     },
     "execution_count": 12,
     "metadata": {},
     "output_type": "execute_result"
    }
   ],
   "source": [
    "np.count_nonzero(np.abs(reg_full.coef_)<0.1)"
   ]
  },
  {
   "cell_type": "markdown",
   "metadata": {
    "ExecuteTime": {
     "end_time": "2018-12-01T18:25:15.773202Z",
     "start_time": "2018-12-01T18:25:15.751260Z"
    }
   },
   "source": [
    "**Answer:** I get 23 coefficients, that is obviously the same amount of features after the encoding, as it is shown in the table below. There are, for instance, 7 coefficients that are <0.1 and therefore \"close\" to zero."
   ]
  },
  {
   "cell_type": "markdown",
   "metadata": {},
   "source": [
    "|  Feature | Number of Outputs after the Encoding |\n",
    "|:--------:|:------------------------------------:|\n",
    "| Pclass   |                                    3 |\n",
    "| Sex      |                                    2 |\n",
    "| Age      |                                    1 |\n",
    "| SibSp    |                                    6 |\n",
    "| Parch    |                                    7 |\n",
    "| Fare     |                                    1 |\n",
    "| Embarked |                                    3 |\n",
    "| *TOTAL:* |                                   23 |"
   ]
  },
  {
   "cell_type": "markdown",
   "metadata": {},
   "source": [
    "## TODO 3\n",
    "### Predict labels on training and test\n",
    "\n",
    "- Compute the predicted labels on training and test data using reg.predict\n",
    " - Evaluate the accuracy using metrics.accuracy_score from scikit-learn (it returns the percentage of data correctly classified).\n",
    " - Evaluate the score used by logistic regression on training and test data using metrics.accuracy_score()"
   ]
  },
  {
   "cell_type": "code",
   "execution_count": 13,
   "metadata": {
    "ExecuteTime": {
     "end_time": "2018-12-15T18:14:53.426207Z",
     "start_time": "2018-12-15T18:14:53.394290Z"
    }
   },
   "outputs": [
    {
     "name": "stdout",
     "output_type": "stream",
     "text": [
      "Accuracy for training dataset [%]: 0.8857142857142857\n",
      "Accuracy for test dataset [%]: 0.7772585669781932\n"
     ]
    }
   ],
   "source": [
    "from sklearn import metrics\n",
    "\n",
    "# prediction on training data\n",
    "Y_training_prediction_LR = reg_full.predict(X_training)#complete!\n",
    "# compute accuracy as suggested above using metrics.accuracy_score from scikit-learn for training dataset\n",
    "accuracy_training_prediction_LR =  metrics.accuracy_score(Y_training,Y_training_prediction_LR)#ADD CODE\n",
    "print(\"Accuracy for training dataset [%]:\",accuracy_training_prediction_LR)\n",
    "\n",
    "# prediction on test data\n",
    "Y_test_prediction_LR = reg_full.predict(X_test)#complete!\n",
    "# compute accuracy as suggested above using metrics.accuracy_score from scikit-learn for test dataset\n",
    "accuracy_test_prediction_LR = metrics.accuracy_score(Y_test,Y_test_prediction_LR)#ADD CODE\n",
    "print(\"Accuracy for test dataset [%]:\",accuracy_test_prediction_LR)"
   ]
  },
  {
   "cell_type": "markdown",
   "metadata": {},
   "source": [
    "## TODO 4\n",
    "### Use L2 regularized logistic regression with cross-validation\n",
    "\n",
    "We perform the L2 regularization for different values of the regularization parameter $C$, and use the Scikit-learn function to perform cross-validation (CV).\n",
    "\n",
    "In L2 regularized logistic regression, the following L2 regularization term is added to the loss:\n",
    "\n",
    "$$\n",
    "    \\lambda \\sum_{i=1}^d w_i^2\n",
    "$$\n",
    "\n",
    "The parameter $C$ used by Scikit learn corresponds to the inverse of $\\lambda$, that is $C = \\frac{1}{\\lambda}$.\n",
    "\n",
    "Note: the CV in Scikit-learn is by default a *stratified* CV, that means that data is split into train-validation while maintaining the proportion of different classes in each fold.\n",
    "\n",
    "In the code below:\n",
    "- use LogisticRegressionCV() to select the best value of C with a 10-fold CV with L2 penalty;\n",
    "- use LogisticRegression() to learn the best model for the best C with L2 penalty on the entire training set\n",
    "\n",
    "Note that LogisticRegressionCV() picks some default values of C to try, but you may need to pass some other values in case for your dataset you need to explore a different interval of values. This applies every time that you use LogisticRegressionCV()."
   ]
  },
  {
   "cell_type": "code",
   "execution_count": 14,
   "metadata": {
    "ExecuteTime": {
     "end_time": "2018-12-15T18:15:03.032527Z",
     "start_time": "2018-12-15T18:14:53.432187Z"
    }
   },
   "outputs": [
    {
     "name": "stdout",
     "output_type": "stream",
     "text": [
      "Values of parameter C tried in 10-fold Cross-Validation: [0.008   0.00801 0.00802 0.00803 0.00804 0.00805 0.00806 0.00807 0.00808\n",
      " 0.00809 0.0081  0.00811 0.00812 0.00813 0.00814 0.00815 0.00816 0.00817\n",
      " 0.00818 0.00819 0.0082  0.00821 0.00822 0.00823 0.00824 0.00825 0.00826\n",
      " 0.00827 0.00828 0.00829 0.0083  0.00831 0.00832 0.00833 0.00834 0.00835\n",
      " 0.00836 0.00837 0.00838 0.00839 0.0084  0.00841 0.00842 0.00843 0.00844\n",
      " 0.00845 0.00846 0.00847 0.00848 0.00849 0.0085  0.00851 0.00852 0.00853\n",
      " 0.00854 0.00855 0.00856 0.00857 0.00858 0.00859 0.0086  0.00861 0.00862\n",
      " 0.00863 0.00864 0.00865 0.00866 0.00867 0.00868 0.00869 0.0087  0.00871\n",
      " 0.00872 0.00873 0.00874 0.00875 0.00876 0.00877 0.00878 0.00879 0.0088\n",
      " 0.00881 0.00882 0.00883 0.00884 0.00885 0.00886 0.00887 0.00888 0.00889\n",
      " 0.0089  0.00891 0.00892 0.00893 0.00894 0.00895 0.00896 0.00897 0.00898\n",
      " 0.00899 0.009   0.00901 0.00902 0.00903 0.00904 0.00905 0.00906 0.00907\n",
      " 0.00908 0.00909 0.0091  0.00911 0.00912 0.00913 0.00914 0.00915 0.00916\n",
      " 0.00917 0.00918 0.00919 0.0092  0.00921 0.00922 0.00923 0.00924 0.00925\n",
      " 0.00926 0.00927 0.00928 0.00929 0.0093  0.00931 0.00932 0.00933 0.00934\n",
      " 0.00935 0.00936 0.00937 0.00938 0.00939 0.0094  0.00941 0.00942 0.00943\n",
      " 0.00944 0.00945 0.00946 0.00947 0.00948 0.00949 0.0095  0.00951 0.00952\n",
      " 0.00953 0.00954 0.00955 0.00956 0.00957 0.00958 0.00959 0.0096  0.00961\n",
      " 0.00962 0.00963 0.00964 0.00965 0.00966 0.00967 0.00968 0.00969 0.0097\n",
      " 0.00971 0.00972 0.00973 0.00974 0.00975 0.00976 0.00977 0.00978 0.00979\n",
      " 0.0098  0.00981 0.00982 0.00983 0.00984 0.00985 0.00986 0.00987 0.00988\n",
      " 0.00989 0.0099  0.00991 0.00992 0.00993 0.00994 0.00995 0.00996 0.00997\n",
      " 0.00998 0.00999]\n",
      "Accuracies obtained for the different values of C with 10-fold Cross-Validation: [0.78928571 0.78928571 0.78928571 0.78928571 0.78928571 0.78928571\n",
      " 0.78928571 0.78928571 0.78928571 0.78928571 0.78928571 0.78928571\n",
      " 0.78928571 0.78928571 0.78928571 0.78928571 0.78928571 0.78928571\n",
      " 0.78928571 0.78928571 0.78928571 0.78928571 0.78928571 0.78928571\n",
      " 0.78928571 0.78928571 0.78928571 0.78928571 0.78928571 0.78928571\n",
      " 0.78928571 0.78928571 0.78928571 0.78928571 0.78928571 0.78928571\n",
      " 0.78928571 0.78928571 0.78928571 0.78928571 0.78928571 0.78928571\n",
      " 0.78928571 0.78928571 0.78928571 0.78928571 0.78928571 0.78928571\n",
      " 0.78928571 0.78928571 0.78928571 0.78928571 0.78928571 0.78928571\n",
      " 0.78928571 0.78928571 0.78928571 0.78928571 0.78928571 0.78928571\n",
      " 0.78928571 0.78928571 0.78928571 0.78928571 0.78928571 0.78928571\n",
      " 0.78928571 0.78928571 0.78928571 0.78928571 0.78928571 0.78928571\n",
      " 0.78928571 0.78928571 0.78928571 0.78928571 0.78928571 0.78928571\n",
      " 0.78928571 0.78928571 0.78928571 0.78928571 0.78928571 0.78928571\n",
      " 0.78928571 0.78928571 0.78928571 0.78928571 0.78928571 0.78928571\n",
      " 0.78928571 0.78928571 0.78928571 0.78928571 0.78928571 0.78928571\n",
      " 0.78928571 0.78928571 0.78928571 0.78928571 0.78928571 0.78928571\n",
      " 0.78928571 0.78928571 0.78928571 0.78928571 0.78928571 0.78928571\n",
      " 0.78928571 0.78928571 0.78928571 0.80357143 0.80357143 0.80357143\n",
      " 0.80357143 0.80357143 0.80357143 0.80357143 0.80357143 0.80357143\n",
      " 0.80357143 0.80357143 0.80357143 0.80357143 0.80357143 0.80357143\n",
      " 0.80357143 0.80357143 0.80357143 0.80357143 0.80357143 0.80357143\n",
      " 0.80357143 0.80357143 0.80357143 0.80357143 0.80357143 0.80357143\n",
      " 0.80357143 0.80357143 0.80357143 0.80357143 0.78928571 0.78928571\n",
      " 0.78928571 0.78928571 0.78928571 0.78928571 0.78928571 0.78928571\n",
      " 0.78928571 0.78928571 0.78928571 0.78928571 0.78928571 0.78928571\n",
      " 0.78928571 0.78928571 0.78928571 0.78928571 0.78928571 0.78928571\n",
      " 0.78928571 0.78928571 0.78928571 0.78928571 0.78928571 0.78928571\n",
      " 0.78928571 0.78928571 0.78928571 0.78928571 0.78928571 0.78928571\n",
      " 0.78928571 0.78928571 0.78928571 0.78928571 0.78928571 0.78928571\n",
      " 0.78928571 0.78928571 0.78928571 0.78928571 0.78928571 0.78928571\n",
      " 0.78928571 0.78928571 0.78928571 0.78928571 0.78928571 0.78928571\n",
      " 0.78928571 0.78928571 0.78928571 0.78928571 0.78928571 0.78928571\n",
      " 0.78928571 0.78928571]\n",
      "Best value of parameter C according to 10-fold Cross-Validation: 0.00911\n",
      "10-fold Cross-Validation accuracies obtained with the best value of parameter C: 0.8035714285714285\n"
     ]
    },
    {
     "data": {
      "text/plain": [
       "LogisticRegression(C=0.00911, class_weight=None, dual=False,\n",
       "          fit_intercept=True, intercept_scaling=1, max_iter=100,\n",
       "          multi_class='warn', n_jobs=None, penalty='l2', random_state=None,\n",
       "          solver='newton-cg', tol=0.0001, verbose=0, warm_start=False)"
      ]
     },
     "execution_count": 14,
     "metadata": {},
     "output_type": "execute_result"
    }
   ],
   "source": [
    "#define the model using LogisticRegressionCV passing an appropriate solver, cv value, and choice of penalty\n",
    "\n",
    "# after some trials, the best Cs are the ones close to 1e-3\n",
    "Cs_values = [i*10**-5 for i in range(800,1000)] \n",
    "regL2 = linear_model.LogisticRegressionCV(Cs=Cs_values, solver='newton-cg',cv=10, penalty='l2')#complete!\n",
    "\n",
    "#fit the model on training data\n",
    "\n",
    "regL2.fit(X_training,Y_training)#ADD CODE\n",
    "\n",
    "# the attribute 'Cs_' contains ALL the values of C evaluated in cross-validation;\n",
    "# let's print them\n",
    "print(\"Values of parameter C tried in 10-fold Cross-Validation: {}\".format( regL2.Cs_ ))\n",
    "\n",
    "# the attribute 'scores_' contains the accuracy obtained in each fold, for each value \n",
    "# of C tried; we now compute the average accuracy across the 10 folds\n",
    "\n",
    "CV_accuracies = np.divide(np.sum(regL2.scores_[1],axis=0),10)#complete!\n",
    "\n",
    "# let's print the average accuracies obtained for the various values of C\n",
    "\n",
    "print(\"Accuracies obtained for the different values of C with 10-fold Cross-Validation: {}\".format( CV_accuracies ))\n",
    "\n",
    "# the attribute 'C_' contains the best value of C as identified by cross-validation;\n",
    "# let's print it\n",
    "\n",
    "print(\"Best value of parameter C according to 10-fold Cross-Validation: {}\".format( regL2.C_[0] ))# ADD CODE\n",
    "\n",
    "# let's store the best CV accuracy, and then print it\n",
    "regL2_best_CV_accuracy = max(CV_accuracies)\n",
    "print(\"10-fold Cross-Validation accuracies obtained with the best value of parameter C: {}\".format( regL2_best_CV_accuracy ))\n",
    "\n",
    "#define the model using the best C and an appropriate solver\n",
    "\n",
    "regL2_full = linear_model.LogisticRegression(C=regL2.C_[0], solver='newton-cg',penalty='l2') # Complete\n",
    "\n",
    "#fit the model using the best C on the entire training set\n",
    "\n",
    "regL2_full.fit(X_training,Y_training) # ADD CODE"
   ]
  },
  {
   "cell_type": "markdown",
   "metadata": {},
   "source": [
    "### TODO 5: Print and plot the coefficients from logistic regression with and without regularization."
   ]
  },
  {
   "cell_type": "code",
   "execution_count": 15,
   "metadata": {
    "ExecuteTime": {
     "end_time": "2018-12-15T18:15:04.026866Z",
     "start_time": "2018-12-15T18:15:03.041499Z"
    }
   },
   "outputs": [
    {
     "name": "stdout",
     "output_type": "stream",
     "text": [
      "Coefficients obtained from logisic regression: \n",
      " [[ 0.54133359  0.06798929 -0.53227989  0.72874699 -0.72874699 -0.49800992\n",
      "   0.28608395 -0.13923063  1.46613021 -0.1623135  -1.71117127 -0.66050127\n",
      "  -0.0581756   0.03261836  0.18135282  0.06316095  0.05645296 -0.59612472\n",
      "   0.02816687 -0.35649243  0.29315864 -0.00600329 -0.26974583]]\n",
      "Intercept: [-0.75105774]\n",
      "Coefficients obtained from L2 regularized logistic regression: \n",
      " [[ 6.73443831e-02  1.49547513e-02 -7.17906046e-02  1.34700177e-01\n",
      "  -1.34700177e-01 -1.77820213e-02 -1.87106238e-02  3.27407238e-02\n",
      "   3.95434597e-02 -2.47660128e-02 -4.38363233e-02 -3.16764972e-02\n",
      "  -2.82703979e-02  1.53751313e-02  3.24602774e-02  1.03054912e-07\n",
      "   9.21099967e-08 -3.03081728e-02  4.59577332e-08  4.01591233e-02\n",
      "   5.42730927e-02 -5.75248351e-03 -4.77677121e-02]]\n",
      "Intercept: [-0.32335127]\n"
     ]
    },
    {
     "data": {
      "image/png": "[encoded data removed]",
      "text/plain": [
       "<Figure size 432x288 with 1 Axes>"
      ]
     },
     "metadata": {
      "needs_background": "light"
     },
     "output_type": "display_data"
    }
   ],
   "source": [
    "#print the coefficients from logistic regression\n",
    "\n",
    "print(\"Coefficients obtained from logisic regression: \\n {}\".format( reg_full.coef_ ))# ADD CODE\n",
    "print(\"Intercept: {}\".format( reg_full.intercept_ )) \n",
    "\n",
    "#print the coefficients from L2 regularized logistic regression\n",
    "\n",
    "print(\"Coefficients obtained from L2 regularized logistic regression: \\n {}\".format( regL2_full.coef_ ))# ADD CODE\n",
    "\n",
    "# note that the intercept is not in coef_, it is in intercept_\n",
    "\n",
    "print(\"Intercept: {}\".format( regL2_full.intercept_ ))\n",
    "\n",
    "# Plot the coefficients\n",
    "regL2_full_coef = regL2_full.coef_.reshape(regL2_full.coef_.shape[1],)\n",
    "ind = np.arange(1,len(reg_coef)+1)  # the x locations for the groups\n",
    "width = 0.35       # the width of the bars\n",
    "fig, ax = plt.subplots()\n",
    "\n",
    "rects1 = ax.bar(ind, reg_coef, width, color='r')\n",
    "rects2 = ax.bar(ind + width, regL2_full_coef, width, color='b')\n",
    "ax.legend((rects1[0], rects2[0]), ('Log Regr', 'Log Regr + L2 Regul'))\n",
    "plt.xlabel('Coefficient Idx')\n",
    "plt.ylabel('Coefficient Value')\n",
    "plt.title('Logistic Regression Coefficients: Standard and Regularized Version')\n",
    "plt.show()"
   ]
  },
  {
   "cell_type": "markdown",
   "metadata": {},
   "source": [
    "### TODO 6: how do the coefficients from L2 regularization compare to the ones from logistic regression? (max 5 lines)"
   ]
  },
  {
   "cell_type": "markdown",
   "metadata": {},
   "source": [
    "**Answer:** As one would expect, the coefficients from L2 regularization are closer to zero than the ones from logistic regression, since regularization bounds the norm of the solution and the L2 penalty affects more larger values of the coefficients."
   ]
  },
  {
   "cell_type": "markdown",
   "metadata": {},
   "source": [
    "### TODO 7: obtain classification accuracy on training and test data for the L2 regularized model"
   ]
  },
  {
   "cell_type": "code",
   "execution_count": 16,
   "metadata": {
    "ExecuteTime": {
     "end_time": "2018-12-15T18:15:04.053794Z",
     "start_time": "2018-12-15T18:15:04.033847Z"
    }
   },
   "outputs": [
    {
     "name": "stdout",
     "output_type": "stream",
     "text": [
      "Accuracy for training dataset [%]: 0.8142857142857143\n",
      "Accuracy for test dataset [%]: 0.7601246105919003\n"
     ]
    }
   ],
   "source": [
    "#now get training and test error and print training and test accuracy\n",
    "\n",
    "# predictions on training data \n",
    "Y_training_prediction_LR_L2 = regL2_full.predict(X_training) # Complete\n",
    "\n",
    "# predictions on test data \n",
    "Y_test_prediction_LR_L2 = regL2_full.predict(X_test) # Complete\n",
    "\n",
    "# compute accuracy as suggested above using metrics.accuracy_score from scikit-learn on training data\n",
    "\n",
    "# ADD CODE\n",
    "accuracy_training_prediction_LR_L2 = metrics.accuracy_score(Y_training,Y_training_prediction_LR_L2)#ADD CODE\n",
    "print(\"Accuracy for training dataset [%]:\",accuracy_training_prediction_LR_L2)\n",
    "\n",
    "# compute accuracy as suggested above using metrics.accuracy_score from scikit-learn on test data\n",
    "\n",
    "# ADD CODE\n",
    "accuracy_test_prediction_LR_L2 = metrics.accuracy_score(Y_test,Y_test_prediction_LR_L2)#ADD CODE\n",
    "print(\"Accuracy for test dataset [%]:\",accuracy_test_prediction_LR_L2)"
   ]
  },
  {
   "cell_type": "markdown",
   "metadata": {},
   "source": [
    "### TODO 8: how does accuracy compare to logistic regression? Comment (max 5 lines)"
   ]
  },
  {
   "cell_type": "markdown",
   "metadata": {},
   "source": [
    "**Answer:** The L2 regularized model performs slightly worse than without regularization, both on test and training datasets. By changing the initial seed (e.g. with $1234567$) I got different results, so the accuracies might be affected by the data permutation. I would expect that the regularized version could achieve a greater accuracy for the test dataset, since it prevents overfitting leading to a better generalization."
   ]
  },
  {
   "cell_type": "markdown",
   "metadata": {
    "collapsed": true
   },
   "source": [
    "### TODO 9: use larger datasets for training set\n",
    "\n",
    "Perform the same estimation procedures using different more points on the training data, that is fix $m_{training} = 500$. You can simply copy and paste all the code above into the cell below."
   ]
  },
  {
   "cell_type": "code",
   "execution_count": 17,
   "metadata": {
    "ExecuteTime": {
     "end_time": "2018-12-15T18:15:04.104656Z",
     "start_time": "2018-12-15T18:15:04.060774Z"
    }
   },
   "outputs": [
    {
     "name": "stdout",
     "output_type": "stream",
     "text": [
      "[0 1 1 0 0 0 1 0 1 0 0 0 1 0 0 0 1 0 1 1 1 0 0 1 1 0 1 0 0 1 0 0 1 0 0 0 1\n",
      " 0 0 0 0 1 1 1 0 1 0 1 0 0 0 0 0 0 0 1 0 1 0 0 1 0 1 0 0 0 1 0 0 0 1 0 0 0\n",
      " 1 0 0 0 0 1 0 0 1 0 0 0 1 1 0 1 0 0 1 1 0 0 0 0 0 1 0 0 1 0 0 1 0 0 1 1 0\n",
      " 1 1 1 1 1 1 0 0 0 0 0 0 1 0 1 0 0 0 0 1 1 1 0 0 1 0 0 1 0 0 1 1 0 0 0 0 0\n",
      " 1 1 1 0 1 1 1 0 0 1 0 0 1 0 1 1 1 1 1 1 0 1 0 0 0 0 0 0 0 0 0 0 0 0 1 1 1\n",
      " 0 0 0 0 0 1 0 0 0 0 0 0 0 0 1 1 1 0 1 0 1 0 1 1 1 1 1 1 1 1 1 0 0 1 1 0 0\n",
      " 1 0 1 0 1 0 1 0 0 0 1 0 1 0 0 0 0 1 1 1 0 0 1 0 0 0 1 0 1 0 1 0 1 0 0 0 1\n",
      " 0 1 0 1 1 0 1 1 0 0 1 0 0 0 1 1 0 0 1 0 1 1 0 1 1 0 1 0 1 1 0 0 1 1 0 0 0\n",
      " 0 0 1 0 0 0 0 0 0 0 1 1 1 1 1 1 0 0 0 1 0 0 1 1 0 0 0 0 0 1 0 0 1 0 1 1 1\n",
      " 0 0 0 0 0 0 1 1 0 0 0 1 1 1 1 0 0 1 0 1 0 0 1 1 0 1 0 1 0 1 0 0 1 1 0 0 1\n",
      " 0 0 1 0 0 1 0 0 1 0 1 1 0 1 0 0 0 0 0 0 1 1 0 0 1 0 1 0 0 1 0 0 0 0 0 1 0\n",
      " 0 0 0 0 1 0 0 1 0 0 0 0 1 1 0 1 0 1 1 0 0 1 1 1 0 0 1 0 0 1 1 0 1 0 0 1 1\n",
      " 1 1 1 0 0 1 0 1 0 0 1 0 0 0 1 0 1 0 1 0 1 1 1 0 1 0 0 1 0 0 0 0 0 0 1 0 0\n",
      " 0 0 0 1 0 0 1 0 0 1 0 1 0 0 1 1 1 1 1]\n",
      "0.4044943820224719\n"
     ]
    }
   ],
   "source": [
    "# ADD CODE\n",
    "m_training = 500  # larger dataset for training + validation...\n",
    "m_test = m-m_training # and the rest for testing\n",
    "\n",
    "# test_size is the proportion of samples in the test set\n",
    "X_training, X_test, Y_training, Y_test = train_test_split(X, Y, test_size =float(m_test)/float(m), random_state = IDnumber)\n",
    "\n",
    "print(Y_training)\n",
    "\n",
    "m_training = X_training.shape[0]\n",
    "m_test = X_test.shape[0]\n",
    "\n",
    "#let's see what the fraction of ones in the entire dataset is\n",
    "print(float(sum(Y_training)+sum(Y_test))/float(m_training+m_test))\n",
    "# Standardize the Features Matrix\n",
    "from sklearn import preprocessing\n",
    "\n",
    "X = X.astype(np.float64) #standard scaler works with double precision data\n",
    "X_training = X_training.astype(np.float64)\n",
    "X_test = X_test.astype(np.float64)\n",
    "\n",
    "#let's use the standard scaling; we degine the scaling for the entire dataset\n",
    "scaler = preprocessing.StandardScaler().fit(X)\n",
    "\n",
    "#let's apply the scaling to the training set\n",
    "\n",
    "X_training = scaler.transform(X_training)\n",
    "#let's apply the scaling to the test set\n",
    "\n",
    "X_test = scaler.transform(X_test)"
   ]
  },
  {
   "cell_type": "code",
   "execution_count": 18,
   "metadata": {
    "ExecuteTime": {
     "end_time": "2018-12-15T18:15:04.666156Z",
     "start_time": "2018-12-15T18:15:04.131586Z"
    }
   },
   "outputs": [
    {
     "name": "stdout",
     "output_type": "stream",
     "text": [
      "Values of parameter C tried in 10-fold Cross-Validation: [100000000]\n",
      "Accuracies obtained for the different values of C with 10-fold Cross-Validation: [0.79019608]\n",
      "Best value of parameter C according to 10-fold Cross-Validation: 100000000\n",
      "10-fold Cross-Validation accuracies obtained with the best value of parameter C: 0.7901960784313726\n"
     ]
    }
   ],
   "source": [
    "from sklearn import linear_model\n",
    "\n",
    "# define a logistic regression model with very high C parameter -> low impact from regularization;\n",
    "# there are many solvers available to obtain the solution to the logistic regression problem, we just pick\n",
    "# one of them; 'cv' is -mber of folds in cross-validation; we also specify l2 as regularization penalty,\n",
    "# just to pick one; Cs contains the values of C to be tested and to pick from with validation. Here we\n",
    "# are interested in only 1 value of C, and use cross-validation just to estimate the validation error\n",
    "# in a same way as other models\n",
    "\n",
    "reg = linear_model.LogisticRegressionCV(Cs=[100000000], solver='newton-cg',cv=10, penalty='l2')\n",
    "\n",
    "#fit the model on training data\n",
    "reg.fit(X_training, Y_training)\n",
    "\n",
    "# the attribute 'Cs_' contains ALL the values of C evaluated in cross-validation;\n",
    "# let's print them\n",
    "print(\"Values of parameter C tried in 10-fold Cross-Validation: {}\".format( reg.Cs_ ))\n",
    "\n",
    "# the attribute 'scores_' contains the accuracy obtained in each fold, for each value \n",
    "# of C tried; we now compute the average accuracy across the 10 folds\n",
    "\n",
    "CV_accuracies = np.divide(np.sum(reg.scores_[1],axis=0),10)\n",
    "\n",
    "# let's print the average accuracies obtained for the various values of C\n",
    "\n",
    "print(\"Accuracies obtained for the different values of C with 10-fold Cross-Validation: {}\".format( CV_accuracies ))\n",
    "\n",
    "# the attribute 'C_' contains the best value of C as identified by cross-validation;\n",
    "# let's print it\n",
    "\n",
    "print(\"Best value of parameter C according to 10-fold Cross-Validation: {}\".format( reg.C_[0] ))\n",
    "\n",
    "# let's store the best CV accuracy, and then print it\n",
    "reg_best_CV_accuracy = max(CV_accuracies)\n",
    "print(\"10-fold Cross-Validation accuracies obtained with the best value of parameter C: {}\".format( reg_best_CV_accuracy ))"
   ]
  },
  {
   "cell_type": "code",
   "execution_count": 19,
   "metadata": {
    "ExecuteTime": {
     "end_time": "2018-12-15T18:15:04.706048Z",
     "start_time": "2018-12-15T18:15:04.684106Z"
    }
   },
   "outputs": [
    {
     "name": "stdout",
     "output_type": "stream",
     "text": [
      "Coefficients obtained using the entire training set: \n",
      " [[ 0.50950363  0.0675509  -0.50403536  0.61177768 -0.61177768 -0.38887924\n",
      "   0.16140144  0.09024662 -0.00508016 -0.23377834 -0.21570147 -0.61165265\n",
      "  -0.02874593  0.1397733   0.11152763  0.00553325 -0.6770818  -0.08829808\n",
      "  -0.34714318  0.13690309  0.0970403  -0.05187919 -0.06595276]]\n",
      "Intercept: [-0.62327656]\n"
     ]
    },
    {
     "name": "stderr",
     "output_type": "stream",
     "text": [
      "C:\\ProgramData\\Anaconda3\\lib\\site-packages\\sklearn\\linear_model\\logistic.py:432: FutureWarning: Default solver will be changed to 'lbfgs' in 0.22. Specify a solver to silence this warning.\n",
      "  FutureWarning)\n"
     ]
    }
   ],
   "source": [
    "# let's define the Logistic Regression model\n",
    "reg_full = linear_model.LogisticRegression(C=100000000) #COMPLETE!\n",
    "\n",
    "# get the best model using the entire training dataset\n",
    "\n",
    "reg_full.fit(X_training,Y_training) #ADD CODE!\n",
    "\n",
    "# print the coefficients from the logistic regression model.\n",
    "print(\"Coefficients obtained using the entire training set: \\n {}\".format( reg_full.coef_ ))\n",
    "\n",
    "# note that the intercept is not in coef_, it is in intercept_\n",
    "\n",
    "print(\"Intercept: {}\".format( reg_full.intercept_ )) "
   ]
  },
  {
   "cell_type": "code",
   "execution_count": 20,
   "metadata": {
    "ExecuteTime": {
     "end_time": "2018-12-15T18:15:04.728989Z",
     "start_time": "2018-12-15T18:15:04.710038Z"
    }
   },
   "outputs": [
    {
     "name": "stdout",
     "output_type": "stream",
     "text": [
      "Accuracy for training dataset [%]: 0.814\n",
      "Accuracy for test dataset [%]: 0.7688679245283019\n"
     ]
    }
   ],
   "source": [
    "from sklearn import metrics\n",
    "\n",
    "# prediction on training data\n",
    "Y_training_prediction_LR = reg_full.predict(X_training)#complete!\n",
    "# compute accuracy as suggested above using metrics.accuracy_score from scikit-learn for training dataset\n",
    "accuracy_training_prediction_LR =  metrics.accuracy_score(Y_training,Y_training_prediction_LR)#ADD CODE\n",
    "print(\"Accuracy for training dataset [%]:\",accuracy_training_prediction_LR)\n",
    "\n",
    "# prediction on test data\n",
    "Y_test_prediction_LR = reg_full.predict(X_test)#complete!\n",
    "# compute accuracy as suggested above using metrics.accuracy_score from scikit-learn for test dataset\n",
    "accuracy_test_prediction_LR = metrics.accuracy_score(Y_test,Y_test_prediction_LR)#ADD CODE\n",
    "print(\"Accuracy for test dataset [%]:\",accuracy_test_prediction_LR)"
   ]
  },
  {
   "cell_type": "code",
   "execution_count": 21,
   "metadata": {
    "ExecuteTime": {
     "end_time": "2018-12-15T18:15:21.492172Z",
     "start_time": "2018-12-15T18:15:04.733973Z"
    }
   },
   "outputs": [
    {
     "name": "stdout",
     "output_type": "stream",
     "text": [
      "Values of parameter C tried in 10-fold Cross-Validation: [0.001   0.00101 0.00102 0.00103 0.00104 0.00105 0.00106 0.00107 0.00108\n",
      " 0.00109 0.0011  0.00111 0.00112 0.00113 0.00114 0.00115 0.00116 0.00117\n",
      " 0.00118 0.00119 0.0012  0.00121 0.00122 0.00123 0.00124 0.00125 0.00126\n",
      " 0.00127 0.00128 0.00129 0.0013  0.00131 0.00132 0.00133 0.00134 0.00135\n",
      " 0.00136 0.00137 0.00138 0.00139 0.0014  0.00141 0.00142 0.00143 0.00144\n",
      " 0.00145 0.00146 0.00147 0.00148 0.00149 0.0015  0.00151 0.00152 0.00153\n",
      " 0.00154 0.00155 0.00156 0.00157 0.00158 0.00159 0.0016  0.00161 0.00162\n",
      " 0.00163 0.00164 0.00165 0.00166 0.00167 0.00168 0.00169 0.0017  0.00171\n",
      " 0.00172 0.00173 0.00174 0.00175 0.00176 0.00177 0.00178 0.00179 0.0018\n",
      " 0.00181 0.00182 0.00183 0.00184 0.00185 0.00186 0.00187 0.00188 0.00189\n",
      " 0.0019  0.00191 0.00192 0.00193 0.00194 0.00195 0.00196 0.00197 0.00198\n",
      " 0.00199 0.002   0.00201 0.00202 0.00203 0.00204 0.00205 0.00206 0.00207\n",
      " 0.00208 0.00209 0.0021  0.00211 0.00212 0.00213 0.00214 0.00215 0.00216\n",
      " 0.00217 0.00218 0.00219 0.0022  0.00221 0.00222 0.00223 0.00224 0.00225\n",
      " 0.00226 0.00227 0.00228 0.00229 0.0023  0.00231 0.00232 0.00233 0.00234\n",
      " 0.00235 0.00236 0.00237 0.00238 0.00239 0.0024  0.00241 0.00242 0.00243\n",
      " 0.00244 0.00245 0.00246 0.00247 0.00248 0.00249 0.0025  0.00251 0.00252\n",
      " 0.00253 0.00254 0.00255 0.00256 0.00257 0.00258 0.00259 0.0026  0.00261\n",
      " 0.00262 0.00263 0.00264 0.00265 0.00266 0.00267 0.00268 0.00269 0.0027\n",
      " 0.00271 0.00272 0.00273 0.00274 0.00275 0.00276 0.00277 0.00278 0.00279\n",
      " 0.0028  0.00281 0.00282 0.00283 0.00284 0.00285 0.00286 0.00287 0.00288\n",
      " 0.00289 0.0029  0.00291 0.00292 0.00293 0.00294 0.00295 0.00296 0.00297\n",
      " 0.00298 0.00299 0.003   0.00301 0.00302 0.00303 0.00304 0.00305 0.00306\n",
      " 0.00307 0.00308 0.00309 0.0031  0.00311 0.00312 0.00313 0.00314 0.00315\n",
      " 0.00316 0.00317 0.00318 0.00319 0.0032  0.00321 0.00322 0.00323 0.00324\n",
      " 0.00325 0.00326 0.00327 0.00328 0.00329 0.0033  0.00331 0.00332 0.00333\n",
      " 0.00334 0.00335 0.00336 0.00337 0.00338 0.00339 0.0034  0.00341 0.00342\n",
      " 0.00343 0.00344 0.00345 0.00346 0.00347 0.00348 0.00349 0.0035  0.00351\n",
      " 0.00352 0.00353 0.00354 0.00355 0.00356 0.00357 0.00358 0.00359 0.0036\n",
      " 0.00361 0.00362 0.00363 0.00364 0.00365 0.00366 0.00367 0.00368 0.00369\n",
      " 0.0037  0.00371 0.00372 0.00373 0.00374 0.00375 0.00376 0.00377 0.00378\n",
      " 0.00379 0.0038  0.00381 0.00382 0.00383 0.00384 0.00385 0.00386 0.00387\n",
      " 0.00388 0.00389 0.0039  0.00391 0.00392 0.00393 0.00394 0.00395 0.00396\n",
      " 0.00397 0.00398 0.00399 0.004   0.00401 0.00402 0.00403 0.00404 0.00405\n",
      " 0.00406 0.00407 0.00408 0.00409 0.0041  0.00411 0.00412 0.00413 0.00414\n",
      " 0.00415 0.00416 0.00417 0.00418 0.00419 0.0042  0.00421 0.00422 0.00423\n",
      " 0.00424 0.00425 0.00426 0.00427 0.00428 0.00429 0.0043  0.00431 0.00432\n",
      " 0.00433 0.00434 0.00435 0.00436 0.00437 0.00438 0.00439 0.0044  0.00441\n",
      " 0.00442 0.00443 0.00444 0.00445 0.00446 0.00447 0.00448 0.00449 0.0045\n",
      " 0.00451 0.00452 0.00453 0.00454 0.00455 0.00456 0.00457 0.00458 0.00459\n",
      " 0.0046  0.00461 0.00462 0.00463 0.00464 0.00465 0.00466 0.00467 0.00468\n",
      " 0.00469 0.0047  0.00471 0.00472 0.00473 0.00474 0.00475 0.00476 0.00477\n",
      " 0.00478 0.00479 0.0048  0.00481 0.00482 0.00483 0.00484 0.00485 0.00486\n",
      " 0.00487 0.00488 0.00489 0.0049  0.00491 0.00492 0.00493 0.00494 0.00495\n",
      " 0.00496 0.00497 0.00498 0.00499]\n",
      "Accuracies obtained for the different values of C with 10-fold Cross-Validation: [0.71628651 0.71832733 0.72028812 0.7222489  0.7222489  0.72420968\n",
      " 0.7302521  0.73229292 0.73229292 0.73221289 0.73621449 0.73621449\n",
      " 0.74013605 0.74013605 0.74013605 0.74217687 0.74413766 0.74413766\n",
      " 0.74413766 0.74813926 0.74813926 0.74813926 0.74813926 0.74813926\n",
      " 0.74813926 0.74813926 0.75010004 0.75010004 0.75010004 0.75214086\n",
      " 0.75410164 0.75410164 0.75810324 0.75810324 0.75810324 0.75810324\n",
      " 0.75810324 0.75810324 0.75810324 0.75810324 0.75810324 0.75810324\n",
      " 0.75810324 0.76006403 0.76210484 0.76210484 0.76414566 0.76618647\n",
      " 0.76618647 0.76814726 0.76814726 0.76814726 0.76814726 0.76814726\n",
      " 0.76814726 0.77010804 0.77010804 0.77010804 0.77010804 0.77010804\n",
      " 0.77206883 0.77214886 0.77214886 0.77214886 0.77214886 0.77214886\n",
      " 0.77214886 0.77010804 0.76814726 0.76814726 0.76814726 0.76814726\n",
      " 0.76814726 0.76610644 0.76610644 0.76610644 0.76610644 0.76610644\n",
      " 0.76610644 0.76610644 0.76610644 0.76406563 0.76406563 0.76406563\n",
      " 0.76406563 0.76602641 0.76602641 0.76602641 0.76602641 0.76602641\n",
      " 0.76602641 0.77206883 0.77206883 0.77206883 0.77206883 0.77206883\n",
      " 0.77206883 0.77410964 0.77607043 0.77607043 0.77811124 0.77811124\n",
      " 0.77811124 0.77811124 0.77811124 0.77811124 0.77803121 0.77803121\n",
      " 0.77803121 0.77803121 0.77803121 0.78007203 0.78211285 0.78211285\n",
      " 0.78211285 0.78211285 0.78211285 0.7839936  0.78595438 0.7839936\n",
      " 0.78595438 0.7879952  0.7879952  0.78995598 0.78995598 0.78995598\n",
      " 0.78995598 0.78995598 0.7919968  0.79395758 0.79591837 0.79591837\n",
      " 0.79591837 0.79591837 0.79591837 0.79787915 0.79991997 0.79991997\n",
      " 0.80188075 0.80188075 0.80188075 0.80188075 0.79983994 0.79983994\n",
      " 0.79983994 0.79983994 0.80180072 0.80180072 0.80180072 0.80180072\n",
      " 0.80180072 0.80180072 0.80180072 0.80180072 0.79983994 0.79983994\n",
      " 0.80180072 0.79983994 0.79983994 0.79983994 0.79983994 0.79983994\n",
      " 0.79983994 0.79983994 0.79983994 0.79983994 0.80180072 0.80180072\n",
      " 0.80180072 0.80180072 0.80180072 0.80180072 0.80180072 0.80180072\n",
      " 0.80384154 0.80792317 0.80792317 0.80792317 0.80792317 0.80792317\n",
      " 0.80996399 0.80996399 0.8120048  0.8120048  0.8120048  0.8120048\n",
      " 0.8120048  0.8120048  0.8120048  0.8120048  0.8120048  0.80996399\n",
      " 0.80996399 0.80996399 0.80996399 0.80996399 0.80996399 0.80996399\n",
      " 0.80996399 0.80996399 0.80996399 0.80996399 0.80996399 0.80996399\n",
      " 0.80996399 0.80996399 0.80996399 0.80996399 0.80996399 0.80996399\n",
      " 0.80996399 0.80996399 0.80996399 0.80996399 0.80996399 0.80996399\n",
      " 0.8080032  0.8080032  0.8080032  0.80604242 0.80604242 0.80604242\n",
      " 0.80604242 0.80604242 0.80604242 0.80604242 0.80604242 0.80604242\n",
      " 0.80604242 0.80604242 0.8080032  0.8080032  0.8080032  0.8080032\n",
      " 0.8080032  0.8080032  0.8080032  0.8080032  0.8080032  0.8080032\n",
      " 0.8080032  0.8080032  0.8080032  0.8080032  0.8080032  0.8080032\n",
      " 0.80596238 0.80596238 0.80596238 0.80596238 0.80596238 0.80596238\n",
      " 0.80596238 0.80596238 0.80596238 0.80596238 0.80596238 0.80596238\n",
      " 0.80596238 0.80596238 0.80596238 0.80596238 0.80596238 0.8040016\n",
      " 0.8040016  0.8040016  0.8040016  0.8040016  0.8040016  0.8040016\n",
      " 0.8040016  0.8040016  0.8040016  0.80204082 0.80204082 0.80204082\n",
      " 0.80204082 0.80204082 0.80204082 0.80204082 0.80204082 0.80204082\n",
      " 0.80204082 0.80204082 0.80204082 0.80204082 0.80204082 0.80204082\n",
      " 0.80204082 0.80204082 0.80204082 0.80204082 0.80204082 0.80204082\n",
      " 0.80204082 0.80204082 0.80204082 0.80204082 0.80204082 0.80204082\n",
      " 0.80204082 0.80008003 0.80008003 0.80008003 0.80008003 0.80008003\n",
      " 0.80008003 0.80008003 0.80008003 0.80008003 0.80008003 0.80008003\n",
      " 0.80008003 0.80008003 0.80008003 0.80008003 0.80008003 0.80008003\n",
      " 0.80008003 0.80008003 0.80212085 0.80212085 0.80212085 0.80212085\n",
      " 0.80212085 0.80212085 0.80212085 0.80008003 0.80008003 0.80008003\n",
      " 0.80008003 0.80008003 0.80008003 0.80008003 0.80008003 0.80008003\n",
      " 0.80008003 0.80008003 0.80008003 0.80008003 0.80008003 0.80008003\n",
      " 0.80008003 0.80008003 0.80008003 0.80008003 0.80008003 0.80008003\n",
      " 0.80008003 0.80008003 0.80008003 0.80008003 0.80008003 0.80008003\n",
      " 0.80008003 0.80008003 0.80008003 0.80008003 0.80008003 0.80008003\n",
      " 0.80008003 0.80008003 0.80008003 0.80008003 0.80008003 0.80008003\n",
      " 0.80008003 0.80008003 0.80008003 0.80008003 0.80008003 0.80008003\n",
      " 0.80008003 0.80008003 0.80008003 0.80008003 0.80008003 0.80008003\n",
      " 0.80008003 0.80008003 0.80008003 0.80008003 0.80008003 0.80008003\n",
      " 0.80008003 0.80008003 0.80008003 0.80008003 0.80008003 0.80008003\n",
      " 0.80212085 0.80212085 0.80212085 0.80212085 0.80212085 0.80212085\n",
      " 0.80212085 0.80212085 0.80212085 0.80212085]\n",
      "Best value of parameter C according to 10-fold Cross-Validation: 0.00282\n",
      "10-fold Cross-Validation accuracies obtained with the best value of parameter C: 0.8120048019207682\n"
     ]
    },
    {
     "data": {
      "text/plain": [
       "LogisticRegression(C=0.00282, class_weight=None, dual=False,\n",
       "          fit_intercept=True, intercept_scaling=1, max_iter=100,\n",
       "          multi_class='warn', n_jobs=None, penalty='l2', random_state=None,\n",
       "          solver='newton-cg', tol=0.0001, verbose=0, warm_start=False)"
      ]
     },
     "execution_count": 21,
     "metadata": {},
     "output_type": "execute_result"
    }
   ],
   "source": [
    "#define the model using LogisticRegressionCV passing an appropriate solver, cv value, and choice of penalty\n",
    "\n",
    "#the best Cs are different now!!\n",
    "Cs_values = [i*10**-5 for i in range(100,500)]  \n",
    "regL2 = linear_model.LogisticRegressionCV(Cs=Cs_values, solver='newton-cg',cv=10, penalty='l2')#complete!\n",
    "\n",
    "#fit the model on training data\n",
    "\n",
    "regL2.fit(X_training,Y_training)#ADD CODE\n",
    "\n",
    "# the attribute 'Cs_' contains ALL the values of C evaluated in cross-validation;\n",
    "# let's print them\n",
    "print(\"Values of parameter C tried in 10-fold Cross-Validation: {}\".format( regL2.Cs_ ))\n",
    "\n",
    "# the attribute 'scores_' contains the accuracy obtained in each fold, for each value \n",
    "# of C tried; we now compute the average accuracy across the 10 folds\n",
    "\n",
    "CV_accuracies = np.divide(np.sum(regL2.scores_[1],axis=0),10)#complete!\n",
    "\n",
    "# let's print the average accuracies obtained for the various values of C\n",
    "\n",
    "print(\"Accuracies obtained for the different values of C with 10-fold Cross-Validation: {}\".format( CV_accuracies ))\n",
    "\n",
    "# the attribute 'C_' contains the best value of C as identified by cross-validation;\n",
    "# let's print it\n",
    "\n",
    "print(\"Best value of parameter C according to 10-fold Cross-Validation: {}\".format( regL2.C_[0] ))# ADD CODE\n",
    "\n",
    "# let's store the best CV accuracy, and then print it\n",
    "regL2_best_CV_accuracy = max(CV_accuracies)\n",
    "print(\"10-fold Cross-Validation accuracies obtained with the best value of parameter C: {}\".format( regL2_best_CV_accuracy ))\n",
    "\n",
    "#define the model using the best C and an appropriate solver\n",
    "\n",
    "regL2_full = linear_model.LogisticRegression(C=regL2.C_[0], solver='newton-cg',penalty='l2') # Complete\n",
    "\n",
    "#fit the model using the best C on the entire training set\n",
    "\n",
    "regL2_full.fit(X_training,Y_training) # ADD CODE"
   ]
  },
  {
   "cell_type": "code",
   "execution_count": 22,
   "metadata": {
    "ExecuteTime": {
     "end_time": "2018-12-15T18:15:22.022754Z",
     "start_time": "2018-12-15T18:15:21.495164Z"
    }
   },
   "outputs": [
    {
     "name": "stdout",
     "output_type": "stream",
     "text": [
      "Coefficients obtained from logisic regression: \n",
      " [[ 0.50950363  0.0675509  -0.50403536  0.61177768 -0.61177768 -0.38887924\n",
      "   0.16140144  0.09024662 -0.00508016 -0.23377834 -0.21570147 -0.61165265\n",
      "  -0.02874593  0.1397733   0.11152763  0.00553325 -0.6770818  -0.08829808\n",
      "  -0.34714318  0.13690309  0.0970403  -0.05187919 -0.06595276]]\n",
      "Intercept: [-0.62327656]\n",
      "Coefficients obtained from L2 regularized logistic regression: \n",
      " [[ 0.11762459  0.04302799 -0.13989339  0.20324368 -0.20324368 -0.02688266\n",
      "  -0.00868758  0.03730792  0.00314396 -0.02987558 -0.04296475 -0.02601759\n",
      "  -0.04849221  0.0456761   0.03928672  0.00149434 -0.04512947 -0.02765698\n",
      "  -0.02515518  0.0793549   0.0677482  -0.02519008 -0.05120357]]\n",
      "Intercept: [-0.40275873]\n"
     ]
    },
    {
     "data": {
      "image/png": "[encoded data removed]",
      "text/plain": [
       "<Figure size 432x288 with 1 Axes>"
      ]
     },
     "metadata": {
      "needs_background": "light"
     },
     "output_type": "display_data"
    }
   ],
   "source": [
    "#print the coefficients from logistic regression\n",
    "\n",
    "print(\"Coefficients obtained from logisic regression: \\n {}\".format( reg_full.coef_ ))# ADD CODE\n",
    "print(\"Intercept: {}\".format( reg_full.intercept_ )) \n",
    "\n",
    "#print the coefficients from L2 regularized logistic regression\n",
    "\n",
    "print(\"Coefficients obtained from L2 regularized logistic regression: \\n {}\".format( regL2_full.coef_ ))# ADD CODE\n",
    "\n",
    "# note that the intercept is not in coef_, it is in intercept_\n",
    "\n",
    "print(\"Intercept: {}\".format( regL2_full.intercept_ ))\n",
    "\n",
    "# Plot the coefficients\n",
    "regL2_full_coef = regL2_full.coef_.reshape(regL2_full.coef_.shape[1],)\n",
    "ind = np.arange(1,len(reg_coef)+1)  # the x locations for the groups\n",
    "width = 0.35       # the width of the bars\n",
    "fig, ax = plt.subplots()\n",
    "\n",
    "rects1 = ax.bar(ind, reg_coef, width, color='r')\n",
    "rects2 = ax.bar(ind + width, regL2_full_coef, width, color='b')\n",
    "ax.legend((rects1[0], rects2[0]), ('Log Regr', 'Log Regr + L2 Regul'))\n",
    "plt.xlabel('Coefficient Idx')\n",
    "plt.ylabel('Coefficient Value')\n",
    "plt.title('Logistic Regression Coefficients: Standard and Regularized Version')\n",
    "plt.show()"
   ]
  },
  {
   "cell_type": "code",
   "execution_count": 23,
   "metadata": {
    "ExecuteTime": {
     "end_time": "2018-12-15T18:15:22.037714Z",
     "start_time": "2018-12-15T18:15:22.025746Z"
    }
   },
   "outputs": [
    {
     "name": "stdout",
     "output_type": "stream",
     "text": [
      "Accuracy for training dataset [%]: 0.808\n",
      "Accuracy for test dataset [%]: 0.7688679245283019\n"
     ]
    }
   ],
   "source": [
    "#now get training and test error and print training and test accuracy\n",
    "\n",
    "# predictions on training data \n",
    "Y_training_prediction_LR_L2 = regL2_full.predict(X_training) # Complete\n",
    "\n",
    "# predictions on test data \n",
    "Y_test_prediction_LR_L2 = regL2_full.predict(X_test) # Complete\n",
    "\n",
    "# compute accuracy as suggested above using metrics.accuracy_score from scikit-learn on training data\n",
    "\n",
    "# ADD CODE\n",
    "accuracy_training_prediction_LR_L2 = metrics.accuracy_score(Y_training,Y_training_prediction_LR_L2)#ADD CODE\n",
    "print(\"Accuracy for training dataset [%]:\",accuracy_training_prediction_LR_L2)\n",
    "\n",
    "# compute accuracy as suggested above using metrics.accuracy_score from scikit-learn on test data\n",
    "\n",
    "# ADD CODE\n",
    "accuracy_test_prediction_LR_L2 = metrics.accuracy_score(Y_test,Y_test_prediction_LR_L2)#ADD CODE\n",
    "print(\"Accuracy for test dataset [%]:\",accuracy_test_prediction_LR_L2)"
   ]
  },
  {
   "cell_type": "markdown",
   "metadata": {
    "collapsed": true
   },
   "source": [
    "### TODO 10: Discuss all the questions above for the larger set (max 7 lines)\n"
   ]
  },
  {
   "cell_type": "markdown",
   "metadata": {},
   "source": [
    "**Answer:** Again, the regularization makes the coefficients closer to zero. Even with a larger training dataset, for both models the accuracies for the test set do not improve ($0.7688$) and the ones concerning the training set are slightly worse, probably due to the data variance. But again with a different seed ($1234567$) the test accuracies are better with a larger dataset and they are closer to the training ones. Notice that in TODO 9 I changed also the value of C ($ 0.00282$) for the L2 regularized regression. "
   ]
  },
  {
   "cell_type": "code",
   "execution_count": null,
   "metadata": {},
   "outputs": [],
   "source": []
  }
 ],
 "metadata": {
  "anaconda-cloud": {},
  "kernelspec": {
   "display_name": "Python 3",
   "language": "python",
   "name": "python3"
  },
  "language_info": {
   "codemirror_mode": {
    "name": "ipython",
    "version": 3
   },
   "file_extension": ".py",
   "mimetype": "text/x-python",
   "name": "python",
   "nbconvert_exporter": "python",
   "pygments_lexer": "ipython3",
   "version": "3.6.7"
  },
  "varInspector": {
   "cols": {
    "lenName": 16,
    "lenType": 16,
    "lenVar": 40
   },
   "kernels_config": {
    "python": {
     "delete_cmd_postfix": "",
     "delete_cmd_prefix": "del ",
     "library": "var_list.py",
     "varRefreshCmd": "print(var_dic_list())"
    },
    "r": {
     "delete_cmd_postfix": ") ",
     "delete_cmd_prefix": "rm(",
     "library": "var_list.r",
     "varRefreshCmd": "cat(var_dic_list()) "
    }
   },
   "types_to_exclude": [
    "module",
    "function",
    "builtin_function_or_method",
    "instance",
    "_Feature"
   ],
   "window_display": false
  }
 },
 "nbformat": 4,
 "nbformat_minor": 1
}
