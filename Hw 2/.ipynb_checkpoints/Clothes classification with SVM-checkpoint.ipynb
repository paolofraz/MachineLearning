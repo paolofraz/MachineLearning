{
 "cells": [
  {
   "cell_type": "markdown",
   "metadata": {},
   "source": [
    "# Clothes Classification with Support Vector Machines\n",
    "\n",
    "In this notebook we are going to explore the use of Support Vector Machines (SVM) for image classification. We are going to use a new version of the famous MNIST dataset (the original is a dataset of handwritten digits). The version we are going to use is called Fashion MNIST (https://pravarmahajan.github.io/fashion/) and is a dataset of small images of clothes and accessories.\n",
    "\n",
    "\n",
    "\n",
    "The dataset labels are the following:\n",
    "\n",
    "| Label | Description |\n",
    "| --- | --- |\n",
    "| 0 | T-shirt/top |\n",
    "| 1 | Trouser |\n",
    "| 2 | Pullover |\n",
    "| 3 | Dress |\n",
    "| 4 | Coat |\n",
    "| 5 | Sandal |\n",
    "| 6 | Shirt |\n",
    "| 7 | Sneaker |\n",
    "| 8 | Bag |\n",
    "| 9 | Ankle boot |"
   ]
  },
  {
   "cell_type": "code",
   "execution_count": 1,
   "metadata": {
    "ExecuteTime": {
     "end_time": "2018-12-16T13:43:54.223630Z",
     "start_time": "2018-12-16T13:43:48.134043Z"
    }
   },
   "outputs": [],
   "source": [
    "#load the required packages\n",
    "\n",
    "%matplotlib inline  \n",
    "\n",
    "import numpy as np\n",
    "import scipy as sp\n",
    "import matplotlib.pyplot as plt\n",
    "import pandas as pd\n",
    "\n",
    "import warnings # ignore FutureWarnings, DeprecationWarning ...\n",
    "warnings.simplefilter(action='ignore', category=FutureWarning)\n",
    "warnings.simplefilter(action='ignore', category=DeprecationWarning)\n",
    "\n",
    "import sklearn\n",
    "import sklearn.metrics as skm\n",
    "from sklearn.datasets import fetch_mldata\n",
    "from sklearn.neural_network import MLPClassifier"
   ]
  },
  {
   "cell_type": "code",
   "execution_count": 2,
   "metadata": {
    "ExecuteTime": {
     "end_time": "2018-12-16T13:43:54.262801Z",
     "start_time": "2018-12-16T13:43:54.223630Z"
    }
   },
   "outputs": [],
   "source": [
    "# helper function to load Fashion MNIST dataset\n",
    "def load_mnist(path, kind='train'):\n",
    "    import os\n",
    "    import gzip\n",
    "    import numpy as np\n",
    "    labels_path = os.path.join(path, '%s-labels-idx1-ubyte.gz' % kind)\n",
    "    images_path = os.path.join(path, '%s-images-idx3-ubyte.gz' % kind)\n",
    "    with gzip.open(labels_path, 'rb') as lbpath:\n",
    "        labels = np.frombuffer(lbpath.read(), dtype=np.uint8,offset=8)\n",
    "    with gzip.open(images_path, 'rb') as imgpath:\n",
    "        images = np.frombuffer(imgpath.read(), dtype=np.uint8,offset=16).reshape(len(labels), 784) # 28x28 = 784\n",
    "    return images, labels"
   ]
  },
  {
   "cell_type": "code",
   "execution_count": 3,
   "metadata": {
    "ExecuteTime": {
     "end_time": "2018-12-16T13:43:54.318803Z",
     "start_time": "2018-12-16T13:43:54.282807Z"
    }
   },
   "outputs": [],
   "source": [
    "#fix your ID (\"numero di matricola\") and the seed for random generator (as usual you can try different seeds)\n",
    "ID = 1205687 #replace with your ID\n",
    "np.random.seed(ID)"
   ]
  },
  {
   "cell_type": "code",
   "execution_count": 4,
   "metadata": {
    "ExecuteTime": {
     "end_time": "2018-12-16T13:43:56.893262Z",
     "start_time": "2018-12-16T13:43:54.338807Z"
    }
   },
   "outputs": [],
   "source": [
    "#load the Fashion MNIST dataset from the 'data' folder and let's normalize the features so that each value is in [0,1] \n",
    "\n",
    "X, y = load_mnist('data', kind='train')\n",
    "# rescale the data\n",
    "X, y = X / 255., y # original pixel values are between 0 and 255"
   ]
  },
  {
   "cell_type": "markdown",
   "metadata": {},
   "source": [
    "Now split into training and test. Make sure that each label is present at least 10 times\n",
    "in training. If it is not, then keep adding permutations to the initial data until this \n",
    "happens."
   ]
  },
  {
   "cell_type": "code",
   "execution_count": 5,
   "metadata": {
    "ExecuteTime": {
     "end_time": "2018-12-16T13:43:57.957770Z",
     "start_time": "2018-12-16T13:43:56.893262Z"
    }
   },
   "outputs": [
    {
     "name": "stdout",
     "output_type": "stream",
     "text": [
      "Labels in training dataset:  [0 1 2 3 4 5 6 7 8 9]\n",
      "Frequencies in training dataset:  [58 50 55 51 52 37 54 46 51 46]\n"
     ]
    }
   ],
   "source": [
    "#random permute the data and split into training and test taking the first 500\n",
    "#data samples as training and the rests as test\n",
    "permutation = np.random.permutation(X.shape[0])\n",
    "\n",
    "X = X[permutation]\n",
    "y = y[permutation]\n",
    "\n",
    "m_training = 500\n",
    "\n",
    "X_train, X_test = X[:m_training], X[m_training:]\n",
    "y_train, y_test = y[:m_training], y[m_training:]\n",
    "\n",
    "labels, freqs = np.unique(y_train, return_counts=True)\n",
    "print(\"Labels in training dataset: \", labels)\n",
    "print(\"Frequencies in training dataset: \", freqs)\n"
   ]
  },
  {
   "cell_type": "code",
   "execution_count": 6,
   "metadata": {
    "ExecuteTime": {
     "end_time": "2018-12-16T13:43:57.990955Z",
     "start_time": "2018-12-16T13:43:57.970955Z"
    }
   },
   "outputs": [],
   "source": [
    "#function for plotting a image and printing the corresponding label\n",
    "def plot_input(X_matrix, labels, index):\n",
    "    print(\"INPUT:\")\n",
    "    plt.imshow(\n",
    "        X_matrix[index].reshape(28,28),\n",
    "        cmap          = plt.cm.gray_r,\n",
    "        interpolation = \"nearest\"\n",
    "    )\n",
    "    plt.show()\n",
    "    print(\"LABEL: %i\"%labels[index])\n",
    "    return"
   ]
  },
  {
   "cell_type": "code",
   "execution_count": 7,
   "metadata": {
    "ExecuteTime": {
     "end_time": "2018-12-16T13:44:00.095204Z",
     "start_time": "2018-12-16T13:43:57.998954Z"
    }
   },
   "outputs": [
    {
     "name": "stdout",
     "output_type": "stream",
     "text": [
      "INPUT:\n"
     ]
    },
    {
     "data": {
      "image/png": "[encoded data removed]",
      "text/plain": [
       "<Figure size 432x288 with 1 Axes>"
      ]
     },
     "metadata": {
      "needs_background": "light"
     },
     "output_type": "display_data"
    },
    {
     "name": "stdout",
     "output_type": "stream",
     "text": [
      "LABEL: 1\n",
      "INPUT:\n"
     ]
    },
    {
     "data": {
      "image/png": "[encoded data removed]",
      "text/plain": [
       "<Figure size 432x288 with 1 Axes>"
      ]
     },
     "metadata": {
      "needs_background": "light"
     },
     "output_type": "display_data"
    },
    {
     "name": "stdout",
     "output_type": "stream",
     "text": [
      "LABEL: 5\n",
      "INPUT:\n"
     ]
    },
    {
     "data": {
      "image/png": "[encoded data removed]",
      "text/plain": [
       "<Figure size 432x288 with 1 Axes>"
      ]
     },
     "metadata": {
      "needs_background": "light"
     },
     "output_type": "display_data"
    },
    {
     "name": "stdout",
     "output_type": "stream",
     "text": [
      "LABEL: 1\n",
      "INPUT:\n"
     ]
    },
    {
     "data": {
      "image/png": "[encoded data removed]",
      "text/plain": [
       "<Figure size 432x288 with 1 Axes>"
      ]
     },
     "metadata": {
      "needs_background": "light"
     },
     "output_type": "display_data"
    },
    {
     "name": "stdout",
     "output_type": "stream",
     "text": [
      "LABEL: 6\n"
     ]
    }
   ],
   "source": [
    "#let's try the plotting function\n",
    "plot_input(X_train,y_train,10)\n",
    "plot_input(X_test,y_test,100)\n",
    "plot_input(X_test,y_test,1000)\n",
    "plot_input(X_test,y_test,10000)"
   ]
  },
  {
   "cell_type": "markdown",
   "metadata": {},
   "source": [
    "## TO DO 1\n",
    "Use a SVM classifier with cross validation to pick a model. Use a 5-fold cross-validation. Let's start with a Linear kernel:"
   ]
  },
  {
   "cell_type": "code",
   "execution_count": 8,
   "metadata": {
    "ExecuteTime": {
     "end_time": "2018-12-16T13:44:21.904775Z",
     "start_time": "2018-12-16T13:44:00.103207Z"
    }
   },
   "outputs": [
    {
     "name": "stdout",
     "output_type": "stream",
     "text": [
      "Fitting 5 folds for each of 6 candidates, totalling 30 fits\n"
     ]
    },
    {
     "name": "stderr",
     "output_type": "stream",
     "text": [
      "[Parallel(n_jobs=-1)]: Using backend LokyBackend with 4 concurrent workers.\n",
      "[Parallel(n_jobs=-1)]: Done  30 out of  30 | elapsed:   20.6s finished\n",
      "C:\\ProgramData\\Anaconda3\\lib\\site-packages\\sklearn\\model_selection\\_search.py:841: DeprecationWarning: The default of the `iid` parameter will change from True to False in version 0.22 and will be removed in 0.24. This will change numeric results when test-set sizes are unequal.\n",
      "  DeprecationWarning)\n"
     ]
    },
    {
     "name": "stdout",
     "output_type": "stream",
     "text": [
      "RESULTS FOR LINEAR KERNEL \n",
      "\n",
      "Best parameters set found: {'C': 0.1}\n",
      "Score with best parameters: 0.794\n"
     ]
    }
   ],
   "source": [
    "#import SVC\n",
    "from sklearn.svm import SVC\n",
    "#import for Cross-Validation\n",
    "from sklearn.model_selection import GridSearchCV\n",
    "\n",
    "#grid of parameters for your SVC\n",
    "#param_grid = [\n",
    "#  {'C': [1, 10, 100, 1000], 'kernel': ['linear']},\n",
    "#  {'C': [1, 10, 100, 1000], 'gamma': [0.01, 0.001], 'kernel': ['rbf']},\n",
    "#  {'C': [1, 10, 100, 1000], 'gamma': [0.01, 0.001], 'kernel': ['poly']},\n",
    "# ]\n",
    "\n",
    "# parameters for linear SVM\n",
    "parameters = {'C': [0.001, 0.01, 0.1, 1, 10, 100]}\n",
    "\n",
    "#run linear SVM\n",
    "\n",
    "### ADD CODE: FIT MODEL USING 5-fold CV\n",
    "lin_svm = SVC(kernel='linear',decision_function_shape='ovo')\n",
    "grid_search_lin = GridSearchCV(lin_svm, parameters, cv=5,verbose=2, n_jobs=-1) # verbose output and use all processors\n",
    "grid_search_lin.fit(X_train,y_train)\n",
    "\n",
    "print ('RESULTS FOR LINEAR KERNEL \\n')\n",
    "\n",
    "lin_best_params = grid_search_lin.best_params_\n",
    "print(\"Best parameters set found:\", lin_best_params)\n",
    "### ADD CODE\n",
    "\n",
    "lin_best_score = grid_search_lin.best_score_\n",
    "print(\"Score with best parameters:\", lin_best_score)\n",
    "### ADD CODE"
   ]
  },
  {
   "cell_type": "code",
   "execution_count": 9,
   "metadata": {
    "ExecuteTime": {
     "end_time": "2018-12-16T13:44:22.304776Z",
     "start_time": "2018-12-16T13:44:21.924772Z"
    },
    "scrolled": false
   },
   "outputs": [
    {
     "name": "stdout",
     "output_type": "stream",
     "text": [
      "All scores on the grid:\n"
     ]
    },
    {
     "data": {
      "text/html": [
       "<div>\n",
       "<style scoped>\n",
       "    .dataframe tbody tr th:only-of-type {\n",
       "        vertical-align: middle;\n",
       "    }\n",
       "\n",
       "    .dataframe tbody tr th {\n",
       "        vertical-align: top;\n",
       "    }\n",
       "\n",
       "    .dataframe thead th {\n",
       "        text-align: right;\n",
       "    }\n",
       "</style>\n",
       "<table border=\"1\" class=\"dataframe\">\n",
       "  <thead>\n",
       "    <tr style=\"text-align: right;\">\n",
       "      <th></th>\n",
       "      <th>mean_fit_time</th>\n",
       "      <th>std_fit_time</th>\n",
       "      <th>mean_score_time</th>\n",
       "      <th>std_score_time</th>\n",
       "      <th>param_C</th>\n",
       "      <th>params</th>\n",
       "      <th>split0_test_score</th>\n",
       "      <th>split1_test_score</th>\n",
       "      <th>split2_test_score</th>\n",
       "      <th>split3_test_score</th>\n",
       "      <th>split4_test_score</th>\n",
       "      <th>mean_test_score</th>\n",
       "      <th>std_test_score</th>\n",
       "      <th>rank_test_score</th>\n",
       "      <th>split0_train_score</th>\n",
       "      <th>split1_train_score</th>\n",
       "      <th>split2_train_score</th>\n",
       "      <th>split3_train_score</th>\n",
       "      <th>split4_train_score</th>\n",
       "      <th>mean_train_score</th>\n",
       "      <th>std_train_score</th>\n",
       "    </tr>\n",
       "  </thead>\n",
       "  <tbody>\n",
       "    <tr>\n",
       "      <th>0</th>\n",
       "      <td>1.067203</td>\n",
       "      <td>0.023103</td>\n",
       "      <td>0.166400</td>\n",
       "      <td>0.019032</td>\n",
       "      <td>0.001</td>\n",
       "      <td>{'C': 0.001}</td>\n",
       "      <td>0.590476</td>\n",
       "      <td>0.574257</td>\n",
       "      <td>0.676768</td>\n",
       "      <td>0.551020</td>\n",
       "      <td>0.670103</td>\n",
       "      <td>0.612</td>\n",
       "      <td>0.050984</td>\n",
       "      <td>6</td>\n",
       "      <td>0.648101</td>\n",
       "      <td>0.694236</td>\n",
       "      <td>0.660848</td>\n",
       "      <td>0.656716</td>\n",
       "      <td>0.655087</td>\n",
       "      <td>0.662998</td>\n",
       "      <td>0.016152</td>\n",
       "    </tr>\n",
       "    <tr>\n",
       "      <th>1</th>\n",
       "      <td>0.556003</td>\n",
       "      <td>0.025548</td>\n",
       "      <td>0.123400</td>\n",
       "      <td>0.012450</td>\n",
       "      <td>0.01</td>\n",
       "      <td>{'C': 0.01}</td>\n",
       "      <td>0.752381</td>\n",
       "      <td>0.722772</td>\n",
       "      <td>0.757576</td>\n",
       "      <td>0.785714</td>\n",
       "      <td>0.886598</td>\n",
       "      <td>0.780</td>\n",
       "      <td>0.055966</td>\n",
       "      <td>5</td>\n",
       "      <td>0.850633</td>\n",
       "      <td>0.869674</td>\n",
       "      <td>0.850374</td>\n",
       "      <td>0.848259</td>\n",
       "      <td>0.828784</td>\n",
       "      <td>0.849545</td>\n",
       "      <td>0.012959</td>\n",
       "    </tr>\n",
       "    <tr>\n",
       "      <th>2</th>\n",
       "      <td>0.442035</td>\n",
       "      <td>0.022236</td>\n",
       "      <td>0.116739</td>\n",
       "      <td>0.012285</td>\n",
       "      <td>0.1</td>\n",
       "      <td>{'C': 0.1}</td>\n",
       "      <td>0.790476</td>\n",
       "      <td>0.712871</td>\n",
       "      <td>0.818182</td>\n",
       "      <td>0.795918</td>\n",
       "      <td>0.855670</td>\n",
       "      <td>0.794</td>\n",
       "      <td>0.046760</td>\n",
       "      <td>1</td>\n",
       "      <td>0.987342</td>\n",
       "      <td>0.987469</td>\n",
       "      <td>0.980050</td>\n",
       "      <td>0.985075</td>\n",
       "      <td>0.977667</td>\n",
       "      <td>0.983520</td>\n",
       "      <td>0.003973</td>\n",
       "    </tr>\n",
       "    <tr>\n",
       "      <th>3</th>\n",
       "      <td>0.598872</td>\n",
       "      <td>0.182893</td>\n",
       "      <td>0.193474</td>\n",
       "      <td>0.071805</td>\n",
       "      <td>1</td>\n",
       "      <td>{'C': 1}</td>\n",
       "      <td>0.780952</td>\n",
       "      <td>0.742574</td>\n",
       "      <td>0.808081</td>\n",
       "      <td>0.785714</td>\n",
       "      <td>0.835052</td>\n",
       "      <td>0.790</td>\n",
       "      <td>0.030555</td>\n",
       "      <td>2</td>\n",
       "      <td>1.000000</td>\n",
       "      <td>1.000000</td>\n",
       "      <td>1.000000</td>\n",
       "      <td>1.000000</td>\n",
       "      <td>1.000000</td>\n",
       "      <td>1.000000</td>\n",
       "      <td>0.000000</td>\n",
       "    </tr>\n",
       "    <tr>\n",
       "      <th>4</th>\n",
       "      <td>0.715997</td>\n",
       "      <td>0.169762</td>\n",
       "      <td>0.134403</td>\n",
       "      <td>0.035481</td>\n",
       "      <td>10</td>\n",
       "      <td>{'C': 10}</td>\n",
       "      <td>0.780952</td>\n",
       "      <td>0.742574</td>\n",
       "      <td>0.808081</td>\n",
       "      <td>0.785714</td>\n",
       "      <td>0.835052</td>\n",
       "      <td>0.790</td>\n",
       "      <td>0.030555</td>\n",
       "      <td>2</td>\n",
       "      <td>1.000000</td>\n",
       "      <td>1.000000</td>\n",
       "      <td>1.000000</td>\n",
       "      <td>1.000000</td>\n",
       "      <td>1.000000</td>\n",
       "      <td>1.000000</td>\n",
       "      <td>0.000000</td>\n",
       "    </tr>\n",
       "    <tr>\n",
       "      <th>5</th>\n",
       "      <td>0.632805</td>\n",
       "      <td>0.104351</td>\n",
       "      <td>0.172796</td>\n",
       "      <td>0.053807</td>\n",
       "      <td>100</td>\n",
       "      <td>{'C': 100}</td>\n",
       "      <td>0.780952</td>\n",
       "      <td>0.742574</td>\n",
       "      <td>0.808081</td>\n",
       "      <td>0.785714</td>\n",
       "      <td>0.835052</td>\n",
       "      <td>0.790</td>\n",
       "      <td>0.030555</td>\n",
       "      <td>2</td>\n",
       "      <td>1.000000</td>\n",
       "      <td>1.000000</td>\n",
       "      <td>1.000000</td>\n",
       "      <td>1.000000</td>\n",
       "      <td>1.000000</td>\n",
       "      <td>1.000000</td>\n",
       "      <td>0.000000</td>\n",
       "    </tr>\n",
       "  </tbody>\n",
       "</table>\n",
       "</div>"
      ],
      "text/plain": [
       "   mean_fit_time  std_fit_time  mean_score_time  std_score_time param_C  \\\n",
       "0       1.067203      0.023103         0.166400        0.019032   0.001   \n",
       "1       0.556003      0.025548         0.123400        0.012450    0.01   \n",
       "2       0.442035      0.022236         0.116739        0.012285     0.1   \n",
       "3       0.598872      0.182893         0.193474        0.071805       1   \n",
       "4       0.715997      0.169762         0.134403        0.035481      10   \n",
       "5       0.632805      0.104351         0.172796        0.053807     100   \n",
       "\n",
       "         params  split0_test_score  split1_test_score  split2_test_score  \\\n",
       "0  {'C': 0.001}           0.590476           0.574257           0.676768   \n",
       "1   {'C': 0.01}           0.752381           0.722772           0.757576   \n",
       "2    {'C': 0.1}           0.790476           0.712871           0.818182   \n",
       "3      {'C': 1}           0.780952           0.742574           0.808081   \n",
       "4     {'C': 10}           0.780952           0.742574           0.808081   \n",
       "5    {'C': 100}           0.780952           0.742574           0.808081   \n",
       "\n",
       "   split3_test_score  split4_test_score  mean_test_score  std_test_score  \\\n",
       "0           0.551020           0.670103            0.612        0.050984   \n",
       "1           0.785714           0.886598            0.780        0.055966   \n",
       "2           0.795918           0.855670            0.794        0.046760   \n",
       "3           0.785714           0.835052            0.790        0.030555   \n",
       "4           0.785714           0.835052            0.790        0.030555   \n",
       "5           0.785714           0.835052            0.790        0.030555   \n",
       "\n",
       "   rank_test_score  split0_train_score  split1_train_score  \\\n",
       "0                6            0.648101            0.694236   \n",
       "1                5            0.850633            0.869674   \n",
       "2                1            0.987342            0.987469   \n",
       "3                2            1.000000            1.000000   \n",
       "4                2            1.000000            1.000000   \n",
       "5                2            1.000000            1.000000   \n",
       "\n",
       "   split2_train_score  split3_train_score  split4_train_score  \\\n",
       "0            0.660848            0.656716            0.655087   \n",
       "1            0.850374            0.848259            0.828784   \n",
       "2            0.980050            0.985075            0.977667   \n",
       "3            1.000000            1.000000            1.000000   \n",
       "4            1.000000            1.000000            1.000000   \n",
       "5            1.000000            1.000000            1.000000   \n",
       "\n",
       "   mean_train_score  std_train_score  \n",
       "0          0.662998         0.016152  \n",
       "1          0.849545         0.012959  \n",
       "2          0.983520         0.003973  \n",
       "3          1.000000         0.000000  \n",
       "4          1.000000         0.000000  \n",
       "5          1.000000         0.000000  "
      ]
     },
     "execution_count": 9,
     "metadata": {},
     "output_type": "execute_result"
    }
   ],
   "source": [
    "print(\"All scores on the grid:\")\n",
    "pd.set_option('display.max_columns', 50) # display all columns\n",
    "pd.set_option('display.max_rows', 50) # display all rows\n",
    "pd.DataFrame(grid_search_lin.cv_results_)### ADD CODE"
   ]
  },
  {
   "cell_type": "markdown",
   "metadata": {
    "ExecuteTime": {
     "end_time": "2018-12-06T21:46:32.098333Z",
     "start_time": "2018-12-06T21:46:32.082378Z"
    },
    "collapsed": true
   },
   "source": [
    "## TO DO 2\n",
    "Pick a model for the Polynomial kernel with degree=2:"
   ]
  },
  {
   "cell_type": "code",
   "execution_count": 10,
   "metadata": {
    "ExecuteTime": {
     "end_time": "2018-12-16T13:44:41.892774Z",
     "start_time": "2018-12-16T13:44:22.324767Z"
    }
   },
   "outputs": [
    {
     "name": "stdout",
     "output_type": "stream",
     "text": [
      "Fitting 5 folds for each of 9 candidates, totalling 45 fits\n"
     ]
    },
    {
     "name": "stderr",
     "output_type": "stream",
     "text": [
      "[Parallel(n_jobs=-1)]: Using backend LokyBackend with 4 concurrent workers.\n",
      "[Parallel(n_jobs=-1)]: Done  33 tasks      | elapsed:   15.7s\n",
      "[Parallel(n_jobs=-1)]: Done  45 out of  45 | elapsed:   18.9s finished\n",
      "C:\\ProgramData\\Anaconda3\\lib\\site-packages\\sklearn\\model_selection\\_search.py:841: DeprecationWarning: The default of the `iid` parameter will change from True to False in version 0.22 and will be removed in 0.24. This will change numeric results when test-set sizes are unequal.\n",
      "  DeprecationWarning)\n"
     ]
    },
    {
     "name": "stdout",
     "output_type": "stream",
     "text": [
      "RESULTS FOR POLY DEGREE=2 KERNEL\n",
      "Best parameters set found: {'C': 0.01, 'gamma': 1.0}\n",
      "Score with best parameters: 0.794\n"
     ]
    }
   ],
   "source": [
    "# parameters for poly with degree 2 kernel\n",
    "parameters = {'C': [0.01, 0.1, 1],'gamma':[0.01,0.1,1.]}\n",
    "\n",
    "#run SVM with poly of degree 2 kernel\n",
    "\n",
    "# ADD CODE\n",
    "poly_svm = SVC(kernel='poly',degree=2,decision_function_shape='ovo')\n",
    "grid_search_poly = GridSearchCV(poly_svm, parameters, cv=5, verbose=2, n_jobs=-1) # verbose output and using all processors\n",
    "grid_search_poly.fit(X_train,y_train)\n",
    "\n",
    "print ('RESULTS FOR POLY DEGREE=2 KERNEL')\n",
    "\n",
    "poly_best_params = grid_search_poly.best_params_\n",
    "print(\"Best parameters set found:\", poly_best_params)\n",
    "### ADD CODE\n",
    "\n",
    "poly_score = grid_search_poly.best_score_\n",
    "print(\"Score with best parameters:\",poly_score)\n",
    "### ADD CODE"
   ]
  },
  {
   "cell_type": "code",
   "execution_count": 11,
   "metadata": {
    "ExecuteTime": {
     "end_time": "2018-12-16T13:44:42.104776Z",
     "start_time": "2018-12-16T13:44:41.900777Z"
    }
   },
   "outputs": [
    {
     "name": "stdout",
     "output_type": "stream",
     "text": [
      "\n",
      "All scores on the grid:\n"
     ]
    },
    {
     "data": {
      "text/html": [
       "<div>\n",
       "<style scoped>\n",
       "    .dataframe tbody tr th:only-of-type {\n",
       "        vertical-align: middle;\n",
       "    }\n",
       "\n",
       "    .dataframe tbody tr th {\n",
       "        vertical-align: top;\n",
       "    }\n",
       "\n",
       "    .dataframe thead th {\n",
       "        text-align: right;\n",
       "    }\n",
       "</style>\n",
       "<table border=\"1\" class=\"dataframe\">\n",
       "  <thead>\n",
       "    <tr style=\"text-align: right;\">\n",
       "      <th></th>\n",
       "      <th>mean_fit_time</th>\n",
       "      <th>std_fit_time</th>\n",
       "      <th>mean_score_time</th>\n",
       "      <th>std_score_time</th>\n",
       "      <th>param_C</th>\n",
       "      <th>param_gamma</th>\n",
       "      <th>params</th>\n",
       "      <th>split0_test_score</th>\n",
       "      <th>split1_test_score</th>\n",
       "      <th>split2_test_score</th>\n",
       "      <th>split3_test_score</th>\n",
       "      <th>split4_test_score</th>\n",
       "      <th>mean_test_score</th>\n",
       "      <th>std_test_score</th>\n",
       "      <th>rank_test_score</th>\n",
       "      <th>split0_train_score</th>\n",
       "      <th>split1_train_score</th>\n",
       "      <th>split2_train_score</th>\n",
       "      <th>split3_train_score</th>\n",
       "      <th>split4_train_score</th>\n",
       "      <th>mean_train_score</th>\n",
       "      <th>std_train_score</th>\n",
       "    </tr>\n",
       "  </thead>\n",
       "  <tbody>\n",
       "    <tr>\n",
       "      <th>0</th>\n",
       "      <td>2.601601</td>\n",
       "      <td>0.084724</td>\n",
       "      <td>0.337602</td>\n",
       "      <td>0.025874</td>\n",
       "      <td>0.01</td>\n",
       "      <td>0.01</td>\n",
       "      <td>{'C': 0.01, 'gamma': 0.01}</td>\n",
       "      <td>0.114286</td>\n",
       "      <td>0.118812</td>\n",
       "      <td>0.121212</td>\n",
       "      <td>0.112245</td>\n",
       "      <td>0.113402</td>\n",
       "      <td>0.116</td>\n",
       "      <td>0.003416</td>\n",
       "      <td>9</td>\n",
       "      <td>0.116456</td>\n",
       "      <td>0.117794</td>\n",
       "      <td>0.114713</td>\n",
       "      <td>0.116915</td>\n",
       "      <td>0.116625</td>\n",
       "      <td>0.116501</td>\n",
       "      <td>0.001006</td>\n",
       "    </tr>\n",
       "    <tr>\n",
       "      <th>1</th>\n",
       "      <td>1.204800</td>\n",
       "      <td>0.085731</td>\n",
       "      <td>0.303203</td>\n",
       "      <td>0.051501</td>\n",
       "      <td>0.01</td>\n",
       "      <td>0.1</td>\n",
       "      <td>{'C': 0.01, 'gamma': 0.1}</td>\n",
       "      <td>0.733333</td>\n",
       "      <td>0.683168</td>\n",
       "      <td>0.818182</td>\n",
       "      <td>0.744898</td>\n",
       "      <td>0.845361</td>\n",
       "      <td>0.764</td>\n",
       "      <td>0.058773</td>\n",
       "      <td>6</td>\n",
       "      <td>0.873418</td>\n",
       "      <td>0.892231</td>\n",
       "      <td>0.877805</td>\n",
       "      <td>0.878109</td>\n",
       "      <td>0.880893</td>\n",
       "      <td>0.880491</td>\n",
       "      <td>0.006339</td>\n",
       "    </tr>\n",
       "    <tr>\n",
       "      <th>2</th>\n",
       "      <td>0.598402</td>\n",
       "      <td>0.210880</td>\n",
       "      <td>0.125599</td>\n",
       "      <td>0.035474</td>\n",
       "      <td>0.01</td>\n",
       "      <td>1</td>\n",
       "      <td>{'C': 0.01, 'gamma': 1.0}</td>\n",
       "      <td>0.790476</td>\n",
       "      <td>0.712871</td>\n",
       "      <td>0.828283</td>\n",
       "      <td>0.816327</td>\n",
       "      <td>0.824742</td>\n",
       "      <td>0.794</td>\n",
       "      <td>0.042964</td>\n",
       "      <td>1</td>\n",
       "      <td>1.000000</td>\n",
       "      <td>1.000000</td>\n",
       "      <td>1.000000</td>\n",
       "      <td>1.000000</td>\n",
       "      <td>1.000000</td>\n",
       "      <td>1.000000</td>\n",
       "      <td>0.000000</td>\n",
       "    </tr>\n",
       "    <tr>\n",
       "      <th>3</th>\n",
       "      <td>0.915198</td>\n",
       "      <td>0.017600</td>\n",
       "      <td>0.147201</td>\n",
       "      <td>0.004665</td>\n",
       "      <td>0.1</td>\n",
       "      <td>0.01</td>\n",
       "      <td>{'C': 0.1, 'gamma': 0.01}</td>\n",
       "      <td>0.638095</td>\n",
       "      <td>0.564356</td>\n",
       "      <td>0.707071</td>\n",
       "      <td>0.571429</td>\n",
       "      <td>0.731959</td>\n",
       "      <td>0.642</td>\n",
       "      <td>0.067863</td>\n",
       "      <td>8</td>\n",
       "      <td>0.670886</td>\n",
       "      <td>0.704261</td>\n",
       "      <td>0.663342</td>\n",
       "      <td>0.708955</td>\n",
       "      <td>0.667494</td>\n",
       "      <td>0.682987</td>\n",
       "      <td>0.019490</td>\n",
       "    </tr>\n",
       "    <tr>\n",
       "      <th>4</th>\n",
       "      <td>0.463999</td>\n",
       "      <td>0.022626</td>\n",
       "      <td>0.104800</td>\n",
       "      <td>0.004664</td>\n",
       "      <td>0.1</td>\n",
       "      <td>0.1</td>\n",
       "      <td>{'C': 0.1, 'gamma': 0.1}</td>\n",
       "      <td>0.780952</td>\n",
       "      <td>0.722772</td>\n",
       "      <td>0.838384</td>\n",
       "      <td>0.785714</td>\n",
       "      <td>0.835052</td>\n",
       "      <td>0.792</td>\n",
       "      <td>0.042273</td>\n",
       "      <td>5</td>\n",
       "      <td>0.992405</td>\n",
       "      <td>0.989975</td>\n",
       "      <td>0.992519</td>\n",
       "      <td>0.997512</td>\n",
       "      <td>0.995037</td>\n",
       "      <td>0.993490</td>\n",
       "      <td>0.002571</td>\n",
       "    </tr>\n",
       "    <tr>\n",
       "      <th>5</th>\n",
       "      <td>0.464001</td>\n",
       "      <td>0.011865</td>\n",
       "      <td>0.099198</td>\n",
       "      <td>0.002993</td>\n",
       "      <td>0.1</td>\n",
       "      <td>1</td>\n",
       "      <td>{'C': 0.1, 'gamma': 1.0}</td>\n",
       "      <td>0.790476</td>\n",
       "      <td>0.712871</td>\n",
       "      <td>0.828283</td>\n",
       "      <td>0.816327</td>\n",
       "      <td>0.824742</td>\n",
       "      <td>0.794</td>\n",
       "      <td>0.042964</td>\n",
       "      <td>1</td>\n",
       "      <td>1.000000</td>\n",
       "      <td>1.000000</td>\n",
       "      <td>1.000000</td>\n",
       "      <td>1.000000</td>\n",
       "      <td>1.000000</td>\n",
       "      <td>1.000000</td>\n",
       "      <td>0.000000</td>\n",
       "    </tr>\n",
       "    <tr>\n",
       "      <th>6</th>\n",
       "      <td>0.550402</td>\n",
       "      <td>0.026484</td>\n",
       "      <td>0.127199</td>\n",
       "      <td>0.009599</td>\n",
       "      <td>1</td>\n",
       "      <td>0.01</td>\n",
       "      <td>{'C': 1, 'gamma': 0.01}</td>\n",
       "      <td>0.733333</td>\n",
       "      <td>0.683168</td>\n",
       "      <td>0.818182</td>\n",
       "      <td>0.744898</td>\n",
       "      <td>0.845361</td>\n",
       "      <td>0.764</td>\n",
       "      <td>0.058773</td>\n",
       "      <td>6</td>\n",
       "      <td>0.873418</td>\n",
       "      <td>0.892231</td>\n",
       "      <td>0.877805</td>\n",
       "      <td>0.878109</td>\n",
       "      <td>0.880893</td>\n",
       "      <td>0.880491</td>\n",
       "      <td>0.006339</td>\n",
       "    </tr>\n",
       "    <tr>\n",
       "      <th>7</th>\n",
       "      <td>0.496801</td>\n",
       "      <td>0.031437</td>\n",
       "      <td>0.127999</td>\n",
       "      <td>0.019595</td>\n",
       "      <td>1</td>\n",
       "      <td>0.1</td>\n",
       "      <td>{'C': 1, 'gamma': 0.1}</td>\n",
       "      <td>0.790476</td>\n",
       "      <td>0.712871</td>\n",
       "      <td>0.828283</td>\n",
       "      <td>0.816327</td>\n",
       "      <td>0.824742</td>\n",
       "      <td>0.794</td>\n",
       "      <td>0.042964</td>\n",
       "      <td>1</td>\n",
       "      <td>1.000000</td>\n",
       "      <td>1.000000</td>\n",
       "      <td>1.000000</td>\n",
       "      <td>1.000000</td>\n",
       "      <td>1.000000</td>\n",
       "      <td>1.000000</td>\n",
       "      <td>0.000000</td>\n",
       "    </tr>\n",
       "    <tr>\n",
       "      <th>8</th>\n",
       "      <td>0.477601</td>\n",
       "      <td>0.038252</td>\n",
       "      <td>0.105600</td>\n",
       "      <td>0.005426</td>\n",
       "      <td>1</td>\n",
       "      <td>1</td>\n",
       "      <td>{'C': 1, 'gamma': 1.0}</td>\n",
       "      <td>0.790476</td>\n",
       "      <td>0.712871</td>\n",
       "      <td>0.828283</td>\n",
       "      <td>0.816327</td>\n",
       "      <td>0.824742</td>\n",
       "      <td>0.794</td>\n",
       "      <td>0.042964</td>\n",
       "      <td>1</td>\n",
       "      <td>1.000000</td>\n",
       "      <td>1.000000</td>\n",
       "      <td>1.000000</td>\n",
       "      <td>1.000000</td>\n",
       "      <td>1.000000</td>\n",
       "      <td>1.000000</td>\n",
       "      <td>0.000000</td>\n",
       "    </tr>\n",
       "  </tbody>\n",
       "</table>\n",
       "</div>"
      ],
      "text/plain": [
       "   mean_fit_time  std_fit_time  mean_score_time  std_score_time param_C  \\\n",
       "0       2.601601      0.084724         0.337602        0.025874    0.01   \n",
       "1       1.204800      0.085731         0.303203        0.051501    0.01   \n",
       "2       0.598402      0.210880         0.125599        0.035474    0.01   \n",
       "3       0.915198      0.017600         0.147201        0.004665     0.1   \n",
       "4       0.463999      0.022626         0.104800        0.004664     0.1   \n",
       "5       0.464001      0.011865         0.099198        0.002993     0.1   \n",
       "6       0.550402      0.026484         0.127199        0.009599       1   \n",
       "7       0.496801      0.031437         0.127999        0.019595       1   \n",
       "8       0.477601      0.038252         0.105600        0.005426       1   \n",
       "\n",
       "  param_gamma                      params  split0_test_score  \\\n",
       "0        0.01  {'C': 0.01, 'gamma': 0.01}           0.114286   \n",
       "1         0.1   {'C': 0.01, 'gamma': 0.1}           0.733333   \n",
       "2           1   {'C': 0.01, 'gamma': 1.0}           0.790476   \n",
       "3        0.01   {'C': 0.1, 'gamma': 0.01}           0.638095   \n",
       "4         0.1    {'C': 0.1, 'gamma': 0.1}           0.780952   \n",
       "5           1    {'C': 0.1, 'gamma': 1.0}           0.790476   \n",
       "6        0.01     {'C': 1, 'gamma': 0.01}           0.733333   \n",
       "7         0.1      {'C': 1, 'gamma': 0.1}           0.790476   \n",
       "8           1      {'C': 1, 'gamma': 1.0}           0.790476   \n",
       "\n",
       "   split1_test_score  split2_test_score  split3_test_score  split4_test_score  \\\n",
       "0           0.118812           0.121212           0.112245           0.113402   \n",
       "1           0.683168           0.818182           0.744898           0.845361   \n",
       "2           0.712871           0.828283           0.816327           0.824742   \n",
       "3           0.564356           0.707071           0.571429           0.731959   \n",
       "4           0.722772           0.838384           0.785714           0.835052   \n",
       "5           0.712871           0.828283           0.816327           0.824742   \n",
       "6           0.683168           0.818182           0.744898           0.845361   \n",
       "7           0.712871           0.828283           0.816327           0.824742   \n",
       "8           0.712871           0.828283           0.816327           0.824742   \n",
       "\n",
       "   mean_test_score  std_test_score  rank_test_score  split0_train_score  \\\n",
       "0            0.116        0.003416                9            0.116456   \n",
       "1            0.764        0.058773                6            0.873418   \n",
       "2            0.794        0.042964                1            1.000000   \n",
       "3            0.642        0.067863                8            0.670886   \n",
       "4            0.792        0.042273                5            0.992405   \n",
       "5            0.794        0.042964                1            1.000000   \n",
       "6            0.764        0.058773                6            0.873418   \n",
       "7            0.794        0.042964                1            1.000000   \n",
       "8            0.794        0.042964                1            1.000000   \n",
       "\n",
       "   split1_train_score  split2_train_score  split3_train_score  \\\n",
       "0            0.117794            0.114713            0.116915   \n",
       "1            0.892231            0.877805            0.878109   \n",
       "2            1.000000            1.000000            1.000000   \n",
       "3            0.704261            0.663342            0.708955   \n",
       "4            0.989975            0.992519            0.997512   \n",
       "5            1.000000            1.000000            1.000000   \n",
       "6            0.892231            0.877805            0.878109   \n",
       "7            1.000000            1.000000            1.000000   \n",
       "8            1.000000            1.000000            1.000000   \n",
       "\n",
       "   split4_train_score  mean_train_score  std_train_score  \n",
       "0            0.116625          0.116501         0.001006  \n",
       "1            0.880893          0.880491         0.006339  \n",
       "2            1.000000          1.000000         0.000000  \n",
       "3            0.667494          0.682987         0.019490  \n",
       "4            0.995037          0.993490         0.002571  \n",
       "5            1.000000          1.000000         0.000000  \n",
       "6            0.880893          0.880491         0.006339  \n",
       "7            1.000000          1.000000         0.000000  \n",
       "8            1.000000          1.000000         0.000000  "
      ]
     },
     "execution_count": 11,
     "metadata": {},
     "output_type": "execute_result"
    }
   ],
   "source": [
    "print(\"\\nAll scores on the grid:\")\n",
    "pd.DataFrame(grid_search_poly.cv_results_)### ADD CODE"
   ]
  },
  {
   "cell_type": "markdown",
   "metadata": {},
   "source": [
    "## TO DO 3\n",
    "\n",
    "Now let's try a higher degree for the polynomial kernel."
   ]
  },
  {
   "cell_type": "code",
   "execution_count": 12,
   "metadata": {
    "ExecuteTime": {
     "end_time": "2018-12-16T13:44:57.048783Z",
     "start_time": "2018-12-16T13:44:42.116779Z"
    }
   },
   "outputs": [
    {
     "name": "stdout",
     "output_type": "stream",
     "text": [
      "Fitting 5 folds for each of 9 candidates, totalling 45 fits\n"
     ]
    },
    {
     "name": "stderr",
     "output_type": "stream",
     "text": [
      "[Parallel(n_jobs=-1)]: Using backend LokyBackend with 4 concurrent workers.\n",
      "[Parallel(n_jobs=-1)]: Done  33 tasks      | elapsed:   11.2s\n",
      "[Parallel(n_jobs=-1)]: Done  45 out of  45 | elapsed:   14.2s finished\n",
      "C:\\ProgramData\\Anaconda3\\lib\\site-packages\\sklearn\\model_selection\\_search.py:841: DeprecationWarning: The default of the `iid` parameter will change from True to False in version 0.22 and will be removed in 0.24. This will change numeric results when test-set sizes are unequal.\n",
      "  DeprecationWarning)\n"
     ]
    },
    {
     "name": "stdout",
     "output_type": "stream",
     "text": [
      "RESULTS FOR POLY DEGREE = 3  KERNEL\n",
      "Best parameters set found: {'C': 0.01, 'gamma': 1.0}\n",
      "Score with best parameters: 0.772\n"
     ]
    }
   ],
   "source": [
    "# parameters for poly with higher degree kernel\n",
    "parameters = {'C': [0.01, 0.1, 1],'gamma':[0.01,0.1,1.]}\n",
    "\n",
    "#run SVM with poly of higher degree kernel\n",
    "degree = 3\n",
    "\n",
    "### ADD CODE\n",
    "poly3_svm = SVC(kernel='poly',degree=degree,decision_function_shape='ovo')\n",
    "grid_search_poly3 = GridSearchCV(poly3_svm, parameters, cv=5, verbose=2, n_jobs=-1) # verbose output and using all processors\n",
    "grid_search_poly3.fit(X_train,y_train)\n",
    "\n",
    "print ('RESULTS FOR POLY DEGREE =', degree, ' KERNEL')\n",
    "\n",
    "poly3_best_params = grid_search_poly3.best_params_\n",
    "print(\"Best parameters set found:\", poly3_best_params)\n",
    "### ADD CODE\n",
    "\n",
    "poly3_score = grid_search_poly3.best_score_\n",
    "print(\"Score with best parameters:\", poly3_score)\n",
    "### ADD CODE"
   ]
  },
  {
   "cell_type": "code",
   "execution_count": 13,
   "metadata": {
    "ExecuteTime": {
     "end_time": "2018-12-16T13:44:57.260783Z",
     "start_time": "2018-12-16T13:44:57.060786Z"
    }
   },
   "outputs": [
    {
     "name": "stdout",
     "output_type": "stream",
     "text": [
      "\n",
      "All scores on the grid:\n"
     ]
    },
    {
     "data": {
      "text/html": [
       "<div>\n",
       "<style scoped>\n",
       "    .dataframe tbody tr th:only-of-type {\n",
       "        vertical-align: middle;\n",
       "    }\n",
       "\n",
       "    .dataframe tbody tr th {\n",
       "        vertical-align: top;\n",
       "    }\n",
       "\n",
       "    .dataframe thead th {\n",
       "        text-align: right;\n",
       "    }\n",
       "</style>\n",
       "<table border=\"1\" class=\"dataframe\">\n",
       "  <thead>\n",
       "    <tr style=\"text-align: right;\">\n",
       "      <th></th>\n",
       "      <th>mean_fit_time</th>\n",
       "      <th>std_fit_time</th>\n",
       "      <th>mean_score_time</th>\n",
       "      <th>std_score_time</th>\n",
       "      <th>param_C</th>\n",
       "      <th>param_gamma</th>\n",
       "      <th>params</th>\n",
       "      <th>split0_test_score</th>\n",
       "      <th>split1_test_score</th>\n",
       "      <th>split2_test_score</th>\n",
       "      <th>split3_test_score</th>\n",
       "      <th>split4_test_score</th>\n",
       "      <th>mean_test_score</th>\n",
       "      <th>std_test_score</th>\n",
       "      <th>rank_test_score</th>\n",
       "      <th>split0_train_score</th>\n",
       "      <th>split1_train_score</th>\n",
       "      <th>split2_train_score</th>\n",
       "      <th>split3_train_score</th>\n",
       "      <th>split4_train_score</th>\n",
       "      <th>mean_train_score</th>\n",
       "      <th>std_train_score</th>\n",
       "    </tr>\n",
       "  </thead>\n",
       "  <tbody>\n",
       "    <tr>\n",
       "      <th>0</th>\n",
       "      <td>1.345602</td>\n",
       "      <td>0.076589</td>\n",
       "      <td>0.204799</td>\n",
       "      <td>0.013947</td>\n",
       "      <td>0.01</td>\n",
       "      <td>0.01</td>\n",
       "      <td>{'C': 0.01, 'gamma': 0.01}</td>\n",
       "      <td>0.314286</td>\n",
       "      <td>0.316832</td>\n",
       "      <td>0.444444</td>\n",
       "      <td>0.438776</td>\n",
       "      <td>0.422680</td>\n",
       "      <td>0.386</td>\n",
       "      <td>0.059411</td>\n",
       "      <td>9</td>\n",
       "      <td>0.415190</td>\n",
       "      <td>0.453634</td>\n",
       "      <td>0.408978</td>\n",
       "      <td>0.462687</td>\n",
       "      <td>0.436725</td>\n",
       "      <td>0.435443</td>\n",
       "      <td>0.020906</td>\n",
       "    </tr>\n",
       "    <tr>\n",
       "      <th>1</th>\n",
       "      <td>0.456001</td>\n",
       "      <td>0.011027</td>\n",
       "      <td>0.103200</td>\n",
       "      <td>0.012998</td>\n",
       "      <td>0.01</td>\n",
       "      <td>0.1</td>\n",
       "      <td>{'C': 0.01, 'gamma': 0.1}</td>\n",
       "      <td>0.761905</td>\n",
       "      <td>0.693069</td>\n",
       "      <td>0.828283</td>\n",
       "      <td>0.744898</td>\n",
       "      <td>0.793814</td>\n",
       "      <td>0.764</td>\n",
       "      <td>0.045600</td>\n",
       "      <td>6</td>\n",
       "      <td>0.959494</td>\n",
       "      <td>0.964912</td>\n",
       "      <td>0.962594</td>\n",
       "      <td>0.957711</td>\n",
       "      <td>0.962779</td>\n",
       "      <td>0.961498</td>\n",
       "      <td>0.002563</td>\n",
       "    </tr>\n",
       "    <tr>\n",
       "      <th>2</th>\n",
       "      <td>0.517599</td>\n",
       "      <td>0.058877</td>\n",
       "      <td>0.119200</td>\n",
       "      <td>0.024053</td>\n",
       "      <td>0.01</td>\n",
       "      <td>1</td>\n",
       "      <td>{'C': 0.01, 'gamma': 1.0}</td>\n",
       "      <td>0.780952</td>\n",
       "      <td>0.712871</td>\n",
       "      <td>0.797980</td>\n",
       "      <td>0.765306</td>\n",
       "      <td>0.804124</td>\n",
       "      <td>0.772</td>\n",
       "      <td>0.032645</td>\n",
       "      <td>1</td>\n",
       "      <td>1.000000</td>\n",
       "      <td>1.000000</td>\n",
       "      <td>1.000000</td>\n",
       "      <td>1.000000</td>\n",
       "      <td>1.000000</td>\n",
       "      <td>1.000000</td>\n",
       "      <td>0.000000</td>\n",
       "    </tr>\n",
       "    <tr>\n",
       "      <th>3</th>\n",
       "      <td>0.909601</td>\n",
       "      <td>0.059631</td>\n",
       "      <td>0.151201</td>\n",
       "      <td>0.014622</td>\n",
       "      <td>0.1</td>\n",
       "      <td>0.01</td>\n",
       "      <td>{'C': 0.1, 'gamma': 0.01}</td>\n",
       "      <td>0.609524</td>\n",
       "      <td>0.544554</td>\n",
       "      <td>0.676768</td>\n",
       "      <td>0.540816</td>\n",
       "      <td>0.701031</td>\n",
       "      <td>0.614</td>\n",
       "      <td>0.065404</td>\n",
       "      <td>8</td>\n",
       "      <td>0.660759</td>\n",
       "      <td>0.709273</td>\n",
       "      <td>0.678304</td>\n",
       "      <td>0.728856</td>\n",
       "      <td>0.682382</td>\n",
       "      <td>0.691915</td>\n",
       "      <td>0.024136</td>\n",
       "    </tr>\n",
       "    <tr>\n",
       "      <th>4</th>\n",
       "      <td>0.411999</td>\n",
       "      <td>0.012394</td>\n",
       "      <td>0.100802</td>\n",
       "      <td>0.007755</td>\n",
       "      <td>0.1</td>\n",
       "      <td>0.1</td>\n",
       "      <td>{'C': 0.1, 'gamma': 0.1}</td>\n",
       "      <td>0.780952</td>\n",
       "      <td>0.712871</td>\n",
       "      <td>0.797980</td>\n",
       "      <td>0.765306</td>\n",
       "      <td>0.804124</td>\n",
       "      <td>0.772</td>\n",
       "      <td>0.032645</td>\n",
       "      <td>1</td>\n",
       "      <td>0.997468</td>\n",
       "      <td>1.000000</td>\n",
       "      <td>1.000000</td>\n",
       "      <td>0.997512</td>\n",
       "      <td>1.000000</td>\n",
       "      <td>0.998996</td>\n",
       "      <td>0.001230</td>\n",
       "    </tr>\n",
       "    <tr>\n",
       "      <th>5</th>\n",
       "      <td>0.408001</td>\n",
       "      <td>0.017526</td>\n",
       "      <td>0.091200</td>\n",
       "      <td>0.005880</td>\n",
       "      <td>0.1</td>\n",
       "      <td>1</td>\n",
       "      <td>{'C': 0.1, 'gamma': 1.0}</td>\n",
       "      <td>0.780952</td>\n",
       "      <td>0.712871</td>\n",
       "      <td>0.797980</td>\n",
       "      <td>0.765306</td>\n",
       "      <td>0.804124</td>\n",
       "      <td>0.772</td>\n",
       "      <td>0.032645</td>\n",
       "      <td>1</td>\n",
       "      <td>1.000000</td>\n",
       "      <td>1.000000</td>\n",
       "      <td>1.000000</td>\n",
       "      <td>1.000000</td>\n",
       "      <td>1.000000</td>\n",
       "      <td>1.000000</td>\n",
       "      <td>0.000000</td>\n",
       "    </tr>\n",
       "    <tr>\n",
       "      <th>6</th>\n",
       "      <td>0.589600</td>\n",
       "      <td>0.048172</td>\n",
       "      <td>0.155200</td>\n",
       "      <td>0.040270</td>\n",
       "      <td>1</td>\n",
       "      <td>0.01</td>\n",
       "      <td>{'C': 1, 'gamma': 0.01}</td>\n",
       "      <td>0.704762</td>\n",
       "      <td>0.673267</td>\n",
       "      <td>0.757576</td>\n",
       "      <td>0.673469</td>\n",
       "      <td>0.773196</td>\n",
       "      <td>0.716</td>\n",
       "      <td>0.041555</td>\n",
       "      <td>7</td>\n",
       "      <td>0.860759</td>\n",
       "      <td>0.889724</td>\n",
       "      <td>0.855362</td>\n",
       "      <td>0.885572</td>\n",
       "      <td>0.878412</td>\n",
       "      <td>0.873966</td>\n",
       "      <td>0.013589</td>\n",
       "    </tr>\n",
       "    <tr>\n",
       "      <th>7</th>\n",
       "      <td>0.472800</td>\n",
       "      <td>0.060895</td>\n",
       "      <td>0.123999</td>\n",
       "      <td>0.024657</td>\n",
       "      <td>1</td>\n",
       "      <td>0.1</td>\n",
       "      <td>{'C': 1, 'gamma': 0.1}</td>\n",
       "      <td>0.780952</td>\n",
       "      <td>0.712871</td>\n",
       "      <td>0.797980</td>\n",
       "      <td>0.765306</td>\n",
       "      <td>0.804124</td>\n",
       "      <td>0.772</td>\n",
       "      <td>0.032645</td>\n",
       "      <td>1</td>\n",
       "      <td>1.000000</td>\n",
       "      <td>1.000000</td>\n",
       "      <td>1.000000</td>\n",
       "      <td>1.000000</td>\n",
       "      <td>1.000000</td>\n",
       "      <td>1.000000</td>\n",
       "      <td>0.000000</td>\n",
       "    </tr>\n",
       "    <tr>\n",
       "      <th>8</th>\n",
       "      <td>0.431999</td>\n",
       "      <td>0.029394</td>\n",
       "      <td>0.119202</td>\n",
       "      <td>0.024580</td>\n",
       "      <td>1</td>\n",
       "      <td>1</td>\n",
       "      <td>{'C': 1, 'gamma': 1.0}</td>\n",
       "      <td>0.780952</td>\n",
       "      <td>0.712871</td>\n",
       "      <td>0.797980</td>\n",
       "      <td>0.765306</td>\n",
       "      <td>0.804124</td>\n",
       "      <td>0.772</td>\n",
       "      <td>0.032645</td>\n",
       "      <td>1</td>\n",
       "      <td>1.000000</td>\n",
       "      <td>1.000000</td>\n",
       "      <td>1.000000</td>\n",
       "      <td>1.000000</td>\n",
       "      <td>1.000000</td>\n",
       "      <td>1.000000</td>\n",
       "      <td>0.000000</td>\n",
       "    </tr>\n",
       "  </tbody>\n",
       "</table>\n",
       "</div>"
      ],
      "text/plain": [
       "   mean_fit_time  std_fit_time  mean_score_time  std_score_time param_C  \\\n",
       "0       1.345602      0.076589         0.204799        0.013947    0.01   \n",
       "1       0.456001      0.011027         0.103200        0.012998    0.01   \n",
       "2       0.517599      0.058877         0.119200        0.024053    0.01   \n",
       "3       0.909601      0.059631         0.151201        0.014622     0.1   \n",
       "4       0.411999      0.012394         0.100802        0.007755     0.1   \n",
       "5       0.408001      0.017526         0.091200        0.005880     0.1   \n",
       "6       0.589600      0.048172         0.155200        0.040270       1   \n",
       "7       0.472800      0.060895         0.123999        0.024657       1   \n",
       "8       0.431999      0.029394         0.119202        0.024580       1   \n",
       "\n",
       "  param_gamma                      params  split0_test_score  \\\n",
       "0        0.01  {'C': 0.01, 'gamma': 0.01}           0.314286   \n",
       "1         0.1   {'C': 0.01, 'gamma': 0.1}           0.761905   \n",
       "2           1   {'C': 0.01, 'gamma': 1.0}           0.780952   \n",
       "3        0.01   {'C': 0.1, 'gamma': 0.01}           0.609524   \n",
       "4         0.1    {'C': 0.1, 'gamma': 0.1}           0.780952   \n",
       "5           1    {'C': 0.1, 'gamma': 1.0}           0.780952   \n",
       "6        0.01     {'C': 1, 'gamma': 0.01}           0.704762   \n",
       "7         0.1      {'C': 1, 'gamma': 0.1}           0.780952   \n",
       "8           1      {'C': 1, 'gamma': 1.0}           0.780952   \n",
       "\n",
       "   split1_test_score  split2_test_score  split3_test_score  split4_test_score  \\\n",
       "0           0.316832           0.444444           0.438776           0.422680   \n",
       "1           0.693069           0.828283           0.744898           0.793814   \n",
       "2           0.712871           0.797980           0.765306           0.804124   \n",
       "3           0.544554           0.676768           0.540816           0.701031   \n",
       "4           0.712871           0.797980           0.765306           0.804124   \n",
       "5           0.712871           0.797980           0.765306           0.804124   \n",
       "6           0.673267           0.757576           0.673469           0.773196   \n",
       "7           0.712871           0.797980           0.765306           0.804124   \n",
       "8           0.712871           0.797980           0.765306           0.804124   \n",
       "\n",
       "   mean_test_score  std_test_score  rank_test_score  split0_train_score  \\\n",
       "0            0.386        0.059411                9            0.415190   \n",
       "1            0.764        0.045600                6            0.959494   \n",
       "2            0.772        0.032645                1            1.000000   \n",
       "3            0.614        0.065404                8            0.660759   \n",
       "4            0.772        0.032645                1            0.997468   \n",
       "5            0.772        0.032645                1            1.000000   \n",
       "6            0.716        0.041555                7            0.860759   \n",
       "7            0.772        0.032645                1            1.000000   \n",
       "8            0.772        0.032645                1            1.000000   \n",
       "\n",
       "   split1_train_score  split2_train_score  split3_train_score  \\\n",
       "0            0.453634            0.408978            0.462687   \n",
       "1            0.964912            0.962594            0.957711   \n",
       "2            1.000000            1.000000            1.000000   \n",
       "3            0.709273            0.678304            0.728856   \n",
       "4            1.000000            1.000000            0.997512   \n",
       "5            1.000000            1.000000            1.000000   \n",
       "6            0.889724            0.855362            0.885572   \n",
       "7            1.000000            1.000000            1.000000   \n",
       "8            1.000000            1.000000            1.000000   \n",
       "\n",
       "   split4_train_score  mean_train_score  std_train_score  \n",
       "0            0.436725          0.435443         0.020906  \n",
       "1            0.962779          0.961498         0.002563  \n",
       "2            1.000000          1.000000         0.000000  \n",
       "3            0.682382          0.691915         0.024136  \n",
       "4            1.000000          0.998996         0.001230  \n",
       "5            1.000000          1.000000         0.000000  \n",
       "6            0.878412          0.873966         0.013589  \n",
       "7            1.000000          1.000000         0.000000  \n",
       "8            1.000000          1.000000         0.000000  "
      ]
     },
     "execution_count": 13,
     "metadata": {},
     "output_type": "execute_result"
    }
   ],
   "source": [
    "print(\"\\nAll scores on the grid:\")\n",
    "pd.DataFrame(grid_search_poly3.cv_results_)### ADD CODE"
   ]
  },
  {
   "cell_type": "markdown",
   "metadata": {},
   "source": [
    "## TO DO4 \n",
    "What do you observe when fitting a higher degree polynomial on this dataset?"
   ]
  },
  {
   "cell_type": "markdown",
   "metadata": {},
   "source": [
    "**Answer:** A higher degree polynomial fit results to lower scores than the linear kernel, meaning that polynomial kernels are not the best suited for this dataset."
   ]
  },
  {
   "cell_type": "markdown",
   "metadata": {},
   "source": [
    "## TO DO 5\n",
    "Pick a model for the Radial Basis Function kernel:"
   ]
  },
  {
   "cell_type": "code",
   "execution_count": 14,
   "metadata": {
    "ExecuteTime": {
     "end_time": "2018-12-16T13:45:42.414059Z",
     "start_time": "2018-12-16T13:44:57.268787Z"
    }
   },
   "outputs": [
    {
     "name": "stdout",
     "output_type": "stream",
     "text": [
      "Fitting 5 folds for each of 16 candidates, totalling 80 fits\n"
     ]
    },
    {
     "name": "stderr",
     "output_type": "stream",
     "text": [
      "[Parallel(n_jobs=-1)]: Using backend LokyBackend with 4 concurrent workers.\n",
      "[Parallel(n_jobs=-1)]: Done  33 tasks      | elapsed:   19.8s\n",
      "[Parallel(n_jobs=-1)]: Done  80 out of  80 | elapsed:   44.1s finished\n",
      "C:\\ProgramData\\Anaconda3\\lib\\site-packages\\sklearn\\model_selection\\_search.py:841: DeprecationWarning: The default of the `iid` parameter will change from True to False in version 0.22 and will be removed in 0.24. This will change numeric results when test-set sizes are unequal.\n",
      "  DeprecationWarning)\n"
     ]
    },
    {
     "name": "stdout",
     "output_type": "stream",
     "text": [
      "RESULTS FOR rbf KERNEL\n",
      "Best parameters set found: {'C': 10, 'gamma': 0.01}\n",
      "Score with best parameters: 0.82\n"
     ]
    }
   ],
   "source": [
    "# parameters for rbf SVM\n",
    "parameters = {'C': [0.1, 1, 10, 100],'gamma':[0.001, 0.01, 0.01,0.1]}\n",
    "\n",
    "#run SVM with rbf kernel\n",
    "\n",
    "### ADD CODE\n",
    "rbf_svm = SVC(kernel='rbf',decision_function_shape='ovo')\n",
    "grid_search_rbf = GridSearchCV(rbf_svm, parameters, cv=5, verbose=2, n_jobs=-1) # verbose output and using all processors\n",
    "grid_search_rbf.fit(X_train,y_train)\n",
    "\n",
    "print ('RESULTS FOR rbf KERNEL')\n",
    "\n",
    "rbf_best_params = grid_search_rbf.best_params_\n",
    "print(\"Best parameters set found:\", rbf_best_params)\n",
    "### ADD CODE\n",
    "\n",
    "rbf_score = grid_search_rbf.best_score_\n",
    "print(\"Score with best parameters:\",rbf_score)\n",
    "### ADD CODE"
   ]
  },
  {
   "cell_type": "code",
   "execution_count": 15,
   "metadata": {
    "ExecuteTime": {
     "end_time": "2018-12-16T13:45:42.578022Z",
     "start_time": "2018-12-16T13:45:42.418021Z"
    }
   },
   "outputs": [
    {
     "name": "stdout",
     "output_type": "stream",
     "text": [
      "\n",
      "All scores on the grid:\n"
     ]
    },
    {
     "data": {
      "text/html": [
       "<div>\n",
       "<style scoped>\n",
       "    .dataframe tbody tr th:only-of-type {\n",
       "        vertical-align: middle;\n",
       "    }\n",
       "\n",
       "    .dataframe tbody tr th {\n",
       "        vertical-align: top;\n",
       "    }\n",
       "\n",
       "    .dataframe thead th {\n",
       "        text-align: right;\n",
       "    }\n",
       "</style>\n",
       "<table border=\"1\" class=\"dataframe\">\n",
       "  <thead>\n",
       "    <tr style=\"text-align: right;\">\n",
       "      <th></th>\n",
       "      <th>mean_fit_time</th>\n",
       "      <th>std_fit_time</th>\n",
       "      <th>mean_score_time</th>\n",
       "      <th>std_score_time</th>\n",
       "      <th>param_C</th>\n",
       "      <th>param_gamma</th>\n",
       "      <th>params</th>\n",
       "      <th>split0_test_score</th>\n",
       "      <th>split1_test_score</th>\n",
       "      <th>split2_test_score</th>\n",
       "      <th>split3_test_score</th>\n",
       "      <th>split4_test_score</th>\n",
       "      <th>mean_test_score</th>\n",
       "      <th>std_test_score</th>\n",
       "      <th>rank_test_score</th>\n",
       "      <th>split0_train_score</th>\n",
       "      <th>split1_train_score</th>\n",
       "      <th>split2_train_score</th>\n",
       "      <th>split3_train_score</th>\n",
       "      <th>split4_train_score</th>\n",
       "      <th>mean_train_score</th>\n",
       "      <th>std_train_score</th>\n",
       "    </tr>\n",
       "  </thead>\n",
       "  <tbody>\n",
       "    <tr>\n",
       "      <th>0</th>\n",
       "      <td>1.587201</td>\n",
       "      <td>0.073380</td>\n",
       "      <td>0.166399</td>\n",
       "      <td>0.010308</td>\n",
       "      <td>0.1</td>\n",
       "      <td>0.001</td>\n",
       "      <td>{'C': 0.1, 'gamma': 0.001}</td>\n",
       "      <td>0.114286</td>\n",
       "      <td>0.118812</td>\n",
       "      <td>0.121212</td>\n",
       "      <td>0.112245</td>\n",
       "      <td>0.113402</td>\n",
       "      <td>0.116</td>\n",
       "      <td>0.003416</td>\n",
       "      <td>15</td>\n",
       "      <td>0.116456</td>\n",
       "      <td>0.115288</td>\n",
       "      <td>0.114713</td>\n",
       "      <td>0.116915</td>\n",
       "      <td>0.116625</td>\n",
       "      <td>0.116000</td>\n",
       "      <td>0.000848</td>\n",
       "    </tr>\n",
       "    <tr>\n",
       "      <th>1</th>\n",
       "      <td>1.484000</td>\n",
       "      <td>0.205181</td>\n",
       "      <td>0.168799</td>\n",
       "      <td>0.008158</td>\n",
       "      <td>0.1</td>\n",
       "      <td>0.01</td>\n",
       "      <td>{'C': 0.1, 'gamma': 0.01}</td>\n",
       "      <td>0.571429</td>\n",
       "      <td>0.524752</td>\n",
       "      <td>0.686869</td>\n",
       "      <td>0.581633</td>\n",
       "      <td>0.608247</td>\n",
       "      <td>0.594</td>\n",
       "      <td>0.053410</td>\n",
       "      <td>13</td>\n",
       "      <td>0.622785</td>\n",
       "      <td>0.659148</td>\n",
       "      <td>0.610973</td>\n",
       "      <td>0.631841</td>\n",
       "      <td>0.610422</td>\n",
       "      <td>0.627034</td>\n",
       "      <td>0.017924</td>\n",
       "    </tr>\n",
       "    <tr>\n",
       "      <th>2</th>\n",
       "      <td>1.592804</td>\n",
       "      <td>0.066139</td>\n",
       "      <td>0.186397</td>\n",
       "      <td>0.018526</td>\n",
       "      <td>0.1</td>\n",
       "      <td>0.01</td>\n",
       "      <td>{'C': 0.1, 'gamma': 0.01}</td>\n",
       "      <td>0.571429</td>\n",
       "      <td>0.524752</td>\n",
       "      <td>0.686869</td>\n",
       "      <td>0.581633</td>\n",
       "      <td>0.608247</td>\n",
       "      <td>0.594</td>\n",
       "      <td>0.053410</td>\n",
       "      <td>13</td>\n",
       "      <td>0.622785</td>\n",
       "      <td>0.659148</td>\n",
       "      <td>0.610973</td>\n",
       "      <td>0.631841</td>\n",
       "      <td>0.610422</td>\n",
       "      <td>0.627034</td>\n",
       "      <td>0.017924</td>\n",
       "    </tr>\n",
       "    <tr>\n",
       "      <th>3</th>\n",
       "      <td>1.460800</td>\n",
       "      <td>0.053389</td>\n",
       "      <td>0.169598</td>\n",
       "      <td>0.006972</td>\n",
       "      <td>0.1</td>\n",
       "      <td>0.1</td>\n",
       "      <td>{'C': 0.1, 'gamma': 0.1}</td>\n",
       "      <td>0.114286</td>\n",
       "      <td>0.118812</td>\n",
       "      <td>0.121212</td>\n",
       "      <td>0.112245</td>\n",
       "      <td>0.113402</td>\n",
       "      <td>0.116</td>\n",
       "      <td>0.003416</td>\n",
       "      <td>15</td>\n",
       "      <td>0.116456</td>\n",
       "      <td>0.115288</td>\n",
       "      <td>0.114713</td>\n",
       "      <td>0.116915</td>\n",
       "      <td>0.116625</td>\n",
       "      <td>0.116000</td>\n",
       "      <td>0.000848</td>\n",
       "    </tr>\n",
       "    <tr>\n",
       "      <th>4</th>\n",
       "      <td>0.991201</td>\n",
       "      <td>0.041368</td>\n",
       "      <td>0.195198</td>\n",
       "      <td>0.045283</td>\n",
       "      <td>1</td>\n",
       "      <td>0.001</td>\n",
       "      <td>{'C': 1, 'gamma': 0.001}</td>\n",
       "      <td>0.695238</td>\n",
       "      <td>0.693069</td>\n",
       "      <td>0.717172</td>\n",
       "      <td>0.714286</td>\n",
       "      <td>0.783505</td>\n",
       "      <td>0.720</td>\n",
       "      <td>0.032644</td>\n",
       "      <td>9</td>\n",
       "      <td>0.756962</td>\n",
       "      <td>0.759398</td>\n",
       "      <td>0.773067</td>\n",
       "      <td>0.763682</td>\n",
       "      <td>0.751861</td>\n",
       "      <td>0.760994</td>\n",
       "      <td>0.007144</td>\n",
       "    </tr>\n",
       "    <tr>\n",
       "      <th>5</th>\n",
       "      <td>0.821601</td>\n",
       "      <td>0.080581</td>\n",
       "      <td>0.156799</td>\n",
       "      <td>0.023919</td>\n",
       "      <td>1</td>\n",
       "      <td>0.01</td>\n",
       "      <td>{'C': 1, 'gamma': 0.01}</td>\n",
       "      <td>0.780952</td>\n",
       "      <td>0.732673</td>\n",
       "      <td>0.767677</td>\n",
       "      <td>0.775510</td>\n",
       "      <td>0.845361</td>\n",
       "      <td>0.780</td>\n",
       "      <td>0.036269</td>\n",
       "      <td>6</td>\n",
       "      <td>0.888608</td>\n",
       "      <td>0.917293</td>\n",
       "      <td>0.885287</td>\n",
       "      <td>0.898010</td>\n",
       "      <td>0.875931</td>\n",
       "      <td>0.893026</td>\n",
       "      <td>0.014039</td>\n",
       "    </tr>\n",
       "    <tr>\n",
       "      <th>6</th>\n",
       "      <td>0.849600</td>\n",
       "      <td>0.033523</td>\n",
       "      <td>0.161601</td>\n",
       "      <td>0.020016</td>\n",
       "      <td>1</td>\n",
       "      <td>0.01</td>\n",
       "      <td>{'C': 1, 'gamma': 0.01}</td>\n",
       "      <td>0.780952</td>\n",
       "      <td>0.732673</td>\n",
       "      <td>0.767677</td>\n",
       "      <td>0.775510</td>\n",
       "      <td>0.845361</td>\n",
       "      <td>0.780</td>\n",
       "      <td>0.036269</td>\n",
       "      <td>6</td>\n",
       "      <td>0.888608</td>\n",
       "      <td>0.917293</td>\n",
       "      <td>0.885287</td>\n",
       "      <td>0.898010</td>\n",
       "      <td>0.875931</td>\n",
       "      <td>0.893026</td>\n",
       "      <td>0.014039</td>\n",
       "    </tr>\n",
       "    <tr>\n",
       "      <th>7</th>\n",
       "      <td>1.580243</td>\n",
       "      <td>0.104735</td>\n",
       "      <td>0.200801</td>\n",
       "      <td>0.036958</td>\n",
       "      <td>1</td>\n",
       "      <td>0.1</td>\n",
       "      <td>{'C': 1, 'gamma': 0.1}</td>\n",
       "      <td>0.666667</td>\n",
       "      <td>0.495050</td>\n",
       "      <td>0.595960</td>\n",
       "      <td>0.622449</td>\n",
       "      <td>0.711340</td>\n",
       "      <td>0.618</td>\n",
       "      <td>0.073084</td>\n",
       "      <td>12</td>\n",
       "      <td>1.000000</td>\n",
       "      <td>1.000000</td>\n",
       "      <td>1.000000</td>\n",
       "      <td>1.000000</td>\n",
       "      <td>1.000000</td>\n",
       "      <td>1.000000</td>\n",
       "      <td>0.000000</td>\n",
       "    </tr>\n",
       "    <tr>\n",
       "      <th>8</th>\n",
       "      <td>0.584002</td>\n",
       "      <td>0.020239</td>\n",
       "      <td>0.128799</td>\n",
       "      <td>0.007755</td>\n",
       "      <td>10</td>\n",
       "      <td>0.001</td>\n",
       "      <td>{'C': 10, 'gamma': 0.001}</td>\n",
       "      <td>0.771429</td>\n",
       "      <td>0.693069</td>\n",
       "      <td>0.777778</td>\n",
       "      <td>0.795918</td>\n",
       "      <td>0.865979</td>\n",
       "      <td>0.780</td>\n",
       "      <td>0.055016</td>\n",
       "      <td>6</td>\n",
       "      <td>0.893671</td>\n",
       "      <td>0.914787</td>\n",
       "      <td>0.902743</td>\n",
       "      <td>0.910448</td>\n",
       "      <td>0.885856</td>\n",
       "      <td>0.901501</td>\n",
       "      <td>0.010622</td>\n",
       "    </tr>\n",
       "    <tr>\n",
       "      <th>9</th>\n",
       "      <td>0.771201</td>\n",
       "      <td>0.034073</td>\n",
       "      <td>0.139206</td>\n",
       "      <td>0.011703</td>\n",
       "      <td>10</td>\n",
       "      <td>0.01</td>\n",
       "      <td>{'C': 10, 'gamma': 0.01}</td>\n",
       "      <td>0.790476</td>\n",
       "      <td>0.732673</td>\n",
       "      <td>0.858586</td>\n",
       "      <td>0.826531</td>\n",
       "      <td>0.896907</td>\n",
       "      <td>0.820</td>\n",
       "      <td>0.056339</td>\n",
       "      <td>1</td>\n",
       "      <td>1.000000</td>\n",
       "      <td>1.000000</td>\n",
       "      <td>1.000000</td>\n",
       "      <td>1.000000</td>\n",
       "      <td>1.000000</td>\n",
       "      <td>1.000000</td>\n",
       "      <td>0.000000</td>\n",
       "    </tr>\n",
       "    <tr>\n",
       "      <th>10</th>\n",
       "      <td>0.723198</td>\n",
       "      <td>0.010852</td>\n",
       "      <td>0.136004</td>\n",
       "      <td>0.005062</td>\n",
       "      <td>10</td>\n",
       "      <td>0.01</td>\n",
       "      <td>{'C': 10, 'gamma': 0.01}</td>\n",
       "      <td>0.790476</td>\n",
       "      <td>0.732673</td>\n",
       "      <td>0.858586</td>\n",
       "      <td>0.826531</td>\n",
       "      <td>0.896907</td>\n",
       "      <td>0.820</td>\n",
       "      <td>0.056339</td>\n",
       "      <td>1</td>\n",
       "      <td>1.000000</td>\n",
       "      <td>1.000000</td>\n",
       "      <td>1.000000</td>\n",
       "      <td>1.000000</td>\n",
       "      <td>1.000000</td>\n",
       "      <td>1.000000</td>\n",
       "      <td>0.000000</td>\n",
       "    </tr>\n",
       "    <tr>\n",
       "      <th>11</th>\n",
       "      <td>1.696802</td>\n",
       "      <td>0.129847</td>\n",
       "      <td>0.243999</td>\n",
       "      <td>0.062636</td>\n",
       "      <td>10</td>\n",
       "      <td>0.1</td>\n",
       "      <td>{'C': 10, 'gamma': 0.1}</td>\n",
       "      <td>0.657143</td>\n",
       "      <td>0.514851</td>\n",
       "      <td>0.606061</td>\n",
       "      <td>0.663265</td>\n",
       "      <td>0.721649</td>\n",
       "      <td>0.632</td>\n",
       "      <td>0.069202</td>\n",
       "      <td>10</td>\n",
       "      <td>1.000000</td>\n",
       "      <td>1.000000</td>\n",
       "      <td>1.000000</td>\n",
       "      <td>1.000000</td>\n",
       "      <td>1.000000</td>\n",
       "      <td>1.000000</td>\n",
       "      <td>0.000000</td>\n",
       "    </tr>\n",
       "    <tr>\n",
       "      <th>12</th>\n",
       "      <td>0.714398</td>\n",
       "      <td>0.066818</td>\n",
       "      <td>0.167999</td>\n",
       "      <td>0.062482</td>\n",
       "      <td>100</td>\n",
       "      <td>0.001</td>\n",
       "      <td>{'C': 100, 'gamma': 0.001}</td>\n",
       "      <td>0.809524</td>\n",
       "      <td>0.722772</td>\n",
       "      <td>0.828283</td>\n",
       "      <td>0.806122</td>\n",
       "      <td>0.865979</td>\n",
       "      <td>0.806</td>\n",
       "      <td>0.046884</td>\n",
       "      <td>5</td>\n",
       "      <td>0.997468</td>\n",
       "      <td>1.000000</td>\n",
       "      <td>1.000000</td>\n",
       "      <td>1.000000</td>\n",
       "      <td>0.997519</td>\n",
       "      <td>0.998997</td>\n",
       "      <td>0.001228</td>\n",
       "    </tr>\n",
       "    <tr>\n",
       "      <th>13</th>\n",
       "      <td>1.101601</td>\n",
       "      <td>0.074559</td>\n",
       "      <td>0.210398</td>\n",
       "      <td>0.043125</td>\n",
       "      <td>100</td>\n",
       "      <td>0.01</td>\n",
       "      <td>{'C': 100, 'gamma': 0.01}</td>\n",
       "      <td>0.780952</td>\n",
       "      <td>0.732673</td>\n",
       "      <td>0.858586</td>\n",
       "      <td>0.826531</td>\n",
       "      <td>0.896907</td>\n",
       "      <td>0.818</td>\n",
       "      <td>0.057509</td>\n",
       "      <td>3</td>\n",
       "      <td>1.000000</td>\n",
       "      <td>1.000000</td>\n",
       "      <td>1.000000</td>\n",
       "      <td>1.000000</td>\n",
       "      <td>1.000000</td>\n",
       "      <td>1.000000</td>\n",
       "      <td>0.000000</td>\n",
       "    </tr>\n",
       "    <tr>\n",
       "      <th>14</th>\n",
       "      <td>1.263199</td>\n",
       "      <td>0.194259</td>\n",
       "      <td>0.203200</td>\n",
       "      <td>0.056932</td>\n",
       "      <td>100</td>\n",
       "      <td>0.01</td>\n",
       "      <td>{'C': 100, 'gamma': 0.01}</td>\n",
       "      <td>0.780952</td>\n",
       "      <td>0.732673</td>\n",
       "      <td>0.858586</td>\n",
       "      <td>0.826531</td>\n",
       "      <td>0.896907</td>\n",
       "      <td>0.818</td>\n",
       "      <td>0.057509</td>\n",
       "      <td>3</td>\n",
       "      <td>1.000000</td>\n",
       "      <td>1.000000</td>\n",
       "      <td>1.000000</td>\n",
       "      <td>1.000000</td>\n",
       "      <td>1.000000</td>\n",
       "      <td>1.000000</td>\n",
       "      <td>0.000000</td>\n",
       "    </tr>\n",
       "    <tr>\n",
       "      <th>15</th>\n",
       "      <td>1.940802</td>\n",
       "      <td>0.254870</td>\n",
       "      <td>0.215998</td>\n",
       "      <td>0.037352</td>\n",
       "      <td>100</td>\n",
       "      <td>0.1</td>\n",
       "      <td>{'C': 100, 'gamma': 0.1}</td>\n",
       "      <td>0.657143</td>\n",
       "      <td>0.514851</td>\n",
       "      <td>0.606061</td>\n",
       "      <td>0.663265</td>\n",
       "      <td>0.721649</td>\n",
       "      <td>0.632</td>\n",
       "      <td>0.069202</td>\n",
       "      <td>10</td>\n",
       "      <td>1.000000</td>\n",
       "      <td>1.000000</td>\n",
       "      <td>1.000000</td>\n",
       "      <td>1.000000</td>\n",
       "      <td>1.000000</td>\n",
       "      <td>1.000000</td>\n",
       "      <td>0.000000</td>\n",
       "    </tr>\n",
       "  </tbody>\n",
       "</table>\n",
       "</div>"
      ],
      "text/plain": [
       "    mean_fit_time  std_fit_time  mean_score_time  std_score_time param_C  \\\n",
       "0        1.587201      0.073380         0.166399        0.010308     0.1   \n",
       "1        1.484000      0.205181         0.168799        0.008158     0.1   \n",
       "2        1.592804      0.066139         0.186397        0.018526     0.1   \n",
       "3        1.460800      0.053389         0.169598        0.006972     0.1   \n",
       "4        0.991201      0.041368         0.195198        0.045283       1   \n",
       "5        0.821601      0.080581         0.156799        0.023919       1   \n",
       "6        0.849600      0.033523         0.161601        0.020016       1   \n",
       "7        1.580243      0.104735         0.200801        0.036958       1   \n",
       "8        0.584002      0.020239         0.128799        0.007755      10   \n",
       "9        0.771201      0.034073         0.139206        0.011703      10   \n",
       "10       0.723198      0.010852         0.136004        0.005062      10   \n",
       "11       1.696802      0.129847         0.243999        0.062636      10   \n",
       "12       0.714398      0.066818         0.167999        0.062482     100   \n",
       "13       1.101601      0.074559         0.210398        0.043125     100   \n",
       "14       1.263199      0.194259         0.203200        0.056932     100   \n",
       "15       1.940802      0.254870         0.215998        0.037352     100   \n",
       "\n",
       "   param_gamma                      params  split0_test_score  \\\n",
       "0        0.001  {'C': 0.1, 'gamma': 0.001}           0.114286   \n",
       "1         0.01   {'C': 0.1, 'gamma': 0.01}           0.571429   \n",
       "2         0.01   {'C': 0.1, 'gamma': 0.01}           0.571429   \n",
       "3          0.1    {'C': 0.1, 'gamma': 0.1}           0.114286   \n",
       "4        0.001    {'C': 1, 'gamma': 0.001}           0.695238   \n",
       "5         0.01     {'C': 1, 'gamma': 0.01}           0.780952   \n",
       "6         0.01     {'C': 1, 'gamma': 0.01}           0.780952   \n",
       "7          0.1      {'C': 1, 'gamma': 0.1}           0.666667   \n",
       "8        0.001   {'C': 10, 'gamma': 0.001}           0.771429   \n",
       "9         0.01    {'C': 10, 'gamma': 0.01}           0.790476   \n",
       "10        0.01    {'C': 10, 'gamma': 0.01}           0.790476   \n",
       "11         0.1     {'C': 10, 'gamma': 0.1}           0.657143   \n",
       "12       0.001  {'C': 100, 'gamma': 0.001}           0.809524   \n",
       "13        0.01   {'C': 100, 'gamma': 0.01}           0.780952   \n",
       "14        0.01   {'C': 100, 'gamma': 0.01}           0.780952   \n",
       "15         0.1    {'C': 100, 'gamma': 0.1}           0.657143   \n",
       "\n",
       "    split1_test_score  split2_test_score  split3_test_score  \\\n",
       "0            0.118812           0.121212           0.112245   \n",
       "1            0.524752           0.686869           0.581633   \n",
       "2            0.524752           0.686869           0.581633   \n",
       "3            0.118812           0.121212           0.112245   \n",
       "4            0.693069           0.717172           0.714286   \n",
       "5            0.732673           0.767677           0.775510   \n",
       "6            0.732673           0.767677           0.775510   \n",
       "7            0.495050           0.595960           0.622449   \n",
       "8            0.693069           0.777778           0.795918   \n",
       "9            0.732673           0.858586           0.826531   \n",
       "10           0.732673           0.858586           0.826531   \n",
       "11           0.514851           0.606061           0.663265   \n",
       "12           0.722772           0.828283           0.806122   \n",
       "13           0.732673           0.858586           0.826531   \n",
       "14           0.732673           0.858586           0.826531   \n",
       "15           0.514851           0.606061           0.663265   \n",
       "\n",
       "    split4_test_score  mean_test_score  std_test_score  rank_test_score  \\\n",
       "0            0.113402            0.116        0.003416               15   \n",
       "1            0.608247            0.594        0.053410               13   \n",
       "2            0.608247            0.594        0.053410               13   \n",
       "3            0.113402            0.116        0.003416               15   \n",
       "4            0.783505            0.720        0.032644                9   \n",
       "5            0.845361            0.780        0.036269                6   \n",
       "6            0.845361            0.780        0.036269                6   \n",
       "7            0.711340            0.618        0.073084               12   \n",
       "8            0.865979            0.780        0.055016                6   \n",
       "9            0.896907            0.820        0.056339                1   \n",
       "10           0.896907            0.820        0.056339                1   \n",
       "11           0.721649            0.632        0.069202               10   \n",
       "12           0.865979            0.806        0.046884                5   \n",
       "13           0.896907            0.818        0.057509                3   \n",
       "14           0.896907            0.818        0.057509                3   \n",
       "15           0.721649            0.632        0.069202               10   \n",
       "\n",
       "    split0_train_score  split1_train_score  split2_train_score  \\\n",
       "0             0.116456            0.115288            0.114713   \n",
       "1             0.622785            0.659148            0.610973   \n",
       "2             0.622785            0.659148            0.610973   \n",
       "3             0.116456            0.115288            0.114713   \n",
       "4             0.756962            0.759398            0.773067   \n",
       "5             0.888608            0.917293            0.885287   \n",
       "6             0.888608            0.917293            0.885287   \n",
       "7             1.000000            1.000000            1.000000   \n",
       "8             0.893671            0.914787            0.902743   \n",
       "9             1.000000            1.000000            1.000000   \n",
       "10            1.000000            1.000000            1.000000   \n",
       "11            1.000000            1.000000            1.000000   \n",
       "12            0.997468            1.000000            1.000000   \n",
       "13            1.000000            1.000000            1.000000   \n",
       "14            1.000000            1.000000            1.000000   \n",
       "15            1.000000            1.000000            1.000000   \n",
       "\n",
       "    split3_train_score  split4_train_score  mean_train_score  std_train_score  \n",
       "0             0.116915            0.116625          0.116000         0.000848  \n",
       "1             0.631841            0.610422          0.627034         0.017924  \n",
       "2             0.631841            0.610422          0.627034         0.017924  \n",
       "3             0.116915            0.116625          0.116000         0.000848  \n",
       "4             0.763682            0.751861          0.760994         0.007144  \n",
       "5             0.898010            0.875931          0.893026         0.014039  \n",
       "6             0.898010            0.875931          0.893026         0.014039  \n",
       "7             1.000000            1.000000          1.000000         0.000000  \n",
       "8             0.910448            0.885856          0.901501         0.010622  \n",
       "9             1.000000            1.000000          1.000000         0.000000  \n",
       "10            1.000000            1.000000          1.000000         0.000000  \n",
       "11            1.000000            1.000000          1.000000         0.000000  \n",
       "12            1.000000            0.997519          0.998997         0.001228  \n",
       "13            1.000000            1.000000          1.000000         0.000000  \n",
       "14            1.000000            1.000000          1.000000         0.000000  \n",
       "15            1.000000            1.000000          1.000000         0.000000  "
      ]
     },
     "execution_count": 15,
     "metadata": {},
     "output_type": "execute_result"
    }
   ],
   "source": [
    "print(\"\\nAll scores on the grid:\")\n",
    "pd.DataFrame(grid_search_rbf.cv_results_)### ADD CODE"
   ]
  },
  {
   "cell_type": "markdown",
   "metadata": {},
   "source": [
    "## TO DO 6\n",
    "Report here the best SVM kernel and parameters"
   ]
  },
  {
   "cell_type": "code",
   "execution_count": 16,
   "metadata": {
    "ExecuteTime": {
     "end_time": "2018-12-16T13:46:56.906095Z",
     "start_time": "2018-12-16T13:45:42.582024Z"
    }
   },
   "outputs": [
    {
     "name": "stdout",
     "output_type": "stream",
     "text": [
      "Best SVM training error: 0.000000\n",
      "Best SVM test error: 0.203445\n"
     ]
    }
   ],
   "source": [
    "#get training and test error for the best SVM model from CV\n",
    "best_SVM = grid_search_rbf.best_estimator_ ### ADD CODE\n",
    "\n",
    "### ADD CODE : FIT MODEL\n",
    "best_SVM.fit(X_train,y_train)\n",
    "\n",
    "training_error = 1. - best_SVM.score(X_train,y_train)\n",
    "test_error = 1. - best_SVM.score(X_test,y_test) # may take a while ...\n",
    "\n",
    "print (\"Best SVM training error: %f\" % training_error)\n",
    "print (\"Best SVM test error: %f\" % test_error)"
   ]
  },
  {
   "cell_type": "markdown",
   "metadata": {},
   "source": [
    "## More data\n",
    "Now let's do the same but using more data points for training.\n",
    "\n",
    "### TO DO 7\n",
    "Choose a new number of data points."
   ]
  },
  {
   "cell_type": "code",
   "execution_count": 17,
   "metadata": {
    "ExecuteTime": {
     "end_time": "2018-12-16T13:46:57.914053Z",
     "start_time": "2018-12-16T13:46:56.910057Z"
    }
   },
   "outputs": [
    {
     "name": "stdout",
     "output_type": "stream",
     "text": [
      "Labels in training dataset:  [0 1 2 3 4 5 6 7 8 9]\n",
      "Frequencies in training dataset:  [204 199 202 200 192 222 170 208 198 205]\n"
     ]
    }
   ],
   "source": [
    "X = X[permutation]\n",
    "y = y[permutation]\n",
    "\n",
    "m_training = 2000 # TODO number of data points, adjust depending on the capabilities of your PC\n",
    "\n",
    "X_train, X_test = X[:m_training], X[m_training:]\n",
    "y_train, y_test = y[:m_training], y[m_training:]\n",
    "\n",
    "labels, freqs = np.unique(y_train, return_counts=True)\n",
    "print(\"Labels in training dataset: \", labels)\n",
    "print(\"Frequencies in training dataset: \", freqs)"
   ]
  },
  {
   "cell_type": "markdown",
   "metadata": {},
   "source": [
    "Let's try to use SVM with parameters obtained from the best model for $m_{training} =  500$. Since it may take a long time to run, you can decide to just let it run for some time and stop it if it does not complete. If you decide to do this, report it in the TO DO 9 cell below."
   ]
  },
  {
   "cell_type": "code",
   "execution_count": 18,
   "metadata": {
    "ExecuteTime": {
     "end_time": "2018-12-16T13:50:59.470157Z",
     "start_time": "2018-12-16T13:46:57.950055Z"
    },
    "scrolled": true
   },
   "outputs": [
    {
     "name": "stdout",
     "output_type": "stream",
     "text": [
      "Best SVM training error: 0.004000\n",
      "Best SVM test error: 0.156259\n"
     ]
    }
   ],
   "source": [
    "#get training and test error for the best SVM model from CV\n",
    "\n",
    "### ADD CODE\n",
    "best_SVM.fit(X_train,y_train)\n",
    "\n",
    "training_error = 1. - best_SVM.score(X_train,y_train) \n",
    "# 4m executin time!\n",
    "test_error = 1. - best_SVM.score(X_test,y_test)\n",
    "\n",
    "print (\"Best SVM training error: %f\" % training_error)\n",
    "print (\"Best SVM test error: %f\" % test_error)"
   ]
  },
  {
   "cell_type": "markdown",
   "metadata": {},
   "source": [
    "Just for comparison, let's also use logistic regression (with standard parameters from scikit-learn, i.e. some regularization is included)."
   ]
  },
  {
   "cell_type": "code",
   "execution_count": 19,
   "metadata": {
    "ExecuteTime": {
     "end_time": "2018-12-16T13:51:51.006185Z",
     "start_time": "2018-12-16T13:50:59.486154Z"
    }
   },
   "outputs": [
    {
     "name": "stderr",
     "output_type": "stream",
     "text": [
      "[Parallel(n_jobs=-1)]: Using backend LokyBackend with 4 concurrent workers.\n",
      "[Parallel(n_jobs=-1)]: Done  10 out of  10 | elapsed:   50.8s finished\n"
     ]
    },
    {
     "name": "stdout",
     "output_type": "stream",
     "text": [
      "Best logistic regression training error: 0.037500\n",
      "Best logistic regression test error: 0.188138\n"
     ]
    }
   ],
   "source": [
    "from sklearn import linear_model\n",
    "\n",
    "### ADD CODE\n",
    "log_reg = linear_model.LogisticRegression(solver='newton-cg',n_jobs=-1,verbose=2)\n",
    "log_reg.fit(X_train,y_train)\n",
    "\n",
    "training_error = 1. - log_reg.score(X_train,y_train) \n",
    "test_error = 1. - log_reg.score(X_test,y_test)\n",
    "\n",
    "print (\"Best logistic regression training error: %f\" % training_error)\n",
    "print (\"Best logistic regression test error: %f\" % test_error)"
   ]
  },
  {
   "cell_type": "markdown",
   "metadata": {},
   "source": [
    "## TO DO 9\n",
    "Compare and discuss:\n",
    "- the results from SVM with m=500 and with m=2000 training data points. If you stopped the SVM, include such aspect in your comparison.\n",
    "- the results of SVM and of Logistic Regression"
   ]
  },
  {
   "cell_type": "markdown",
   "metadata": {},
   "source": [
    "**Answer:**\n",
    "- SVM with fewer data points has null training error, but with $m=2000$ the test error decreases and the training error is different from zero (since it is more difficult to overfit) as one would expect to happen.\n",
    "- In this case, SVM with rbf kernel performs better than with any polynomial kernel and Logistic Regression, that is a linear model as well.  "
   ]
  },
  {
   "cell_type": "markdown",
   "metadata": {},
   "source": [
    "## TO DO 10\n",
    "Plot an item of clothing that is missclassified by logistic regression and correctly classified by SVM."
   ]
  },
  {
   "cell_type": "code",
   "execution_count": 20,
   "metadata": {
    "ExecuteTime": {
     "end_time": "2018-12-16T13:51:51.558192Z",
     "start_time": "2018-12-16T13:51:51.010184Z"
    }
   },
   "outputs": [
    {
     "name": "stdout",
     "output_type": "stream",
     "text": [
      "At index 1 of X_test:\n",
      "Classification by SVM:  3 (3 = Dress)\n",
      "Classification by LR:  1 (1 = Trousers)\n",
      "INPUT:\n"
     ]
    },
    {
     "data": {
      "image/png": "[encoded data removed]",
      "text/plain": [
       "<Figure size 432x288 with 1 Axes>"
      ]
     },
     "metadata": {
      "needs_background": "light"
     },
     "output_type": "display_data"
    },
    {
     "name": "stdout",
     "output_type": "stream",
     "text": [
      "LABEL: 3\n"
     ]
    }
   ],
   "source": [
    "LR_prediction = log_reg.predict ### ADD CODE\n",
    "SVM_prediction = best_SVM.predict ### ADD CODE\n",
    "\n",
    "### ADD CODE TO SEARCH AND VISUALIZE\n",
    "for i in range(X_test.shape[0]):\n",
    "    # Search for the first sample that is missclassified by LM but correctly classified by SVM\n",
    "    if SVM_prediction(X_test[i,:].reshape(1,-1)).item() == y_test[i] and LR_prediction(X_test[0,:].reshape(1,-1)).item() != y_test[i]:\n",
    "        print('At index',i,'of X_test:')\n",
    "        print('Classification by SVM: ', SVM_prediction(X_test[i,:].reshape(1,-1)).item(),'(3 = Dress)')\n",
    "        print('Classification by LR: ', LR_prediction(X_test[i,:].reshape(1,-1)).item(),'(1 = Trousers)')\n",
    "        plot_input(X_test,y_test,i)\n",
    "        break"
   ]
  },
  {
   "cell_type": "markdown",
   "metadata": {},
   "source": [
    "## TO DO 11\n",
    "Plot the confusion matrix for the SVM classifier and for logistic regression.\n",
    "The confusion matrix has one column for each predicted label and one row for each true label. \n",
    "It shows for each class in the corresponding row how many samples belonging to that class gets each possible output label.\n",
    "Notice that the diagonal contains the correctly classified samples, while the other cells correspond to errors.\n",
    "You can obtain it with the sklearn.metrics.confusion_matrix function (see the documentation).\n",
    "Try also to normalize the confusion matrix by dividing each row for the number of samples in each class in order to measure the accuracy on each single class.\n"
   ]
  },
  {
   "cell_type": "code",
   "execution_count": 21,
   "metadata": {
    "ExecuteTime": {
     "end_time": "2018-12-16T13:55:47.742327Z",
     "start_time": "2018-12-16T13:51:51.566186Z"
    }
   },
   "outputs": [
    {
     "name": "stdout",
     "output_type": "stream",
     "text": [
      "Labels and frequencies in test set:  [5796 5801 5798 5800 5808 5778 5830 5792 5802 5795]\n",
      "\n",
      " Confusion matrix SVM  \n",
      " \n",
      " [[4752    3  121  264   16    4  579    0   57    0]\n",
      " [  41 5466   75  186    9    0   21    0    3    0]\n",
      " [ 123    2 4392   59  680    3  493    0   46    0]\n",
      " [ 259   39   74 4981  259    0  173    0   15    0]\n",
      " [  30    8  683  184 4477    2  394    0   29    1]\n",
      " [   3    0    3   10    0 5352    8  260   41  101]\n",
      " [ 988    6  748  165  589    0 3226    0  107    1]\n",
      " [   0    0    0    0    0  218    0 5252   11  311]\n",
      " [  31    1   39   35   19   36   65   22 5548    6]\n",
      " [   2    0    3    2    0  105    1  189    2 5491]]\n",
      "\n",
      " Confusion matrix LR  \n",
      " \n",
      " [[4482   15  150  352   39   11  619    5  121    2]\n",
      " [  30 5469   79  175   13    1   27    2    5    0]\n",
      " [ 151    3 4153   75  833   16  507    0   60    0]\n",
      " [ 245   44   70 4885  323    0  187    1   43    2]\n",
      " [  36   14  804  205 4165    7  533    1   42    1]\n",
      " [  15    1    6   24    2 5075   14  368   54  219]\n",
      " [ 943   13  852  221  722   14 2895    2  166    2]\n",
      " [   0    0    0    0    0  271    0 5115   19  387]\n",
      " [  62    3   49   90   33   76   81   46 5351   11]\n",
      " [   5    0    0    6    1   84    6  192    3 5498]]\n"
     ]
    }
   ],
   "source": [
    "np.set_printoptions(precision=2, suppress=True,floatmode='fixed') # for better aligned printing of confusion matrix\n",
    "\n",
    "u, counts = np.unique(y_test, return_counts=True)\n",
    "print(\"Labels and frequencies in test set: \", counts)\n",
    "# 4m to run!!\n",
    "confusion_SVM = skm.confusion_matrix(y_test,SVM_prediction(X_test)) ### ADD CODE\n",
    "\n",
    "print(\"\\n Confusion matrix SVM  \\n \\n\", confusion_SVM)\n",
    "\n",
    "### ADD CODE TO NORMALIZE CONFUSION MATRIX AND PRINT THE NORMALIZED MATRIX\n",
    "\n",
    "confusion_LR = skm.confusion_matrix(y_test,LR_prediction(X_test)) ### ADD CODE\n",
    "\n",
    "print(\"\\n Confusion matrix LR  \\n \\n\", confusion_LR)\n",
    "\n",
    "### ADD CODE TO NORMALIZE CONFUSION MATRIX AND PRINT THE NORMALIZED MATRIX"
   ]
  },
  {
   "cell_type": "code",
   "execution_count": 24,
   "metadata": {
    "ExecuteTime": {
     "end_time": "2018-12-16T20:48:17.980466Z",
     "start_time": "2018-12-16T20:48:17.936458Z"
    }
   },
   "outputs": [
    {
     "name": "stdout",
     "output_type": "stream",
     "text": [
      "\n",
      " Normalized Confusion matrix SVM  \n",
      " \n",
      " [[0.82 0.00 0.02 0.05 0.00 0.00 0.10 0.00 0.01 0.00]\n",
      " [0.01 0.94 0.01 0.03 0.00 0.00 0.00 0.00 0.00 0.00]\n",
      " [0.02 0.00 0.76 0.01 0.12 0.00 0.08 0.00 0.01 0.00]\n",
      " [0.04 0.01 0.01 0.86 0.04 0.00 0.03 0.00 0.00 0.00]\n",
      " [0.01 0.00 0.12 0.03 0.77 0.00 0.07 0.00 0.00 0.00]\n",
      " [0.00 0.00 0.00 0.00 0.00 0.93 0.00 0.04 0.01 0.02]\n",
      " [0.17 0.00 0.13 0.03 0.10 0.00 0.55 0.00 0.02 0.00]\n",
      " [0.00 0.00 0.00 0.00 0.00 0.04 0.00 0.91 0.00 0.05]\n",
      " [0.01 0.00 0.01 0.01 0.00 0.01 0.01 0.00 0.96 0.00]\n",
      " [0.00 0.00 0.00 0.00 0.00 0.02 0.00 0.03 0.00 0.95]]\n",
      "\n",
      " Normalized Confusion matrix LR  \n",
      " \n",
      " [[0.77 0.00 0.03 0.06 0.01 0.00 0.11 0.00 0.02 0.00]\n",
      " [0.01 0.94 0.01 0.03 0.00 0.00 0.00 0.00 0.00 0.00]\n",
      " [0.03 0.00 0.72 0.01 0.14 0.00 0.09 0.00 0.01 0.00]\n",
      " [0.04 0.01 0.01 0.84 0.06 0.00 0.03 0.00 0.01 0.00]\n",
      " [0.01 0.00 0.14 0.04 0.72 0.00 0.09 0.00 0.01 0.00]\n",
      " [0.00 0.00 0.00 0.00 0.00 0.88 0.00 0.06 0.01 0.04]\n",
      " [0.16 0.00 0.15 0.04 0.12 0.00 0.50 0.00 0.03 0.00]\n",
      " [0.00 0.00 0.00 0.00 0.00 0.05 0.00 0.88 0.00 0.07]\n",
      " [0.01 0.00 0.01 0.02 0.01 0.01 0.01 0.01 0.92 0.00]\n",
      " [0.00 0.00 0.00 0.00 0.00 0.01 0.00 0.03 0.00 0.95]]\n"
     ]
    }
   ],
   "source": [
    "norm_confusion_SVM = confusion_SVM / confusion_SVM.sum(axis=1)\n",
    "print(\"\\n Normalized Confusion matrix SVM  \\n \\n\", norm_confusion_SVM)\n",
    "norm_confusion_LR = confusion_LR / confusion_LR.sum(axis=1)\n",
    "print(\"\\n Normalized Confusion matrix LR  \\n \\n\", norm_confusion_LR)"
   ]
  },
  {
   "cell_type": "code",
   "execution_count": 23,
   "metadata": {
    "ExecuteTime": {
     "end_time": "2018-12-16T13:55:49.250295Z",
     "start_time": "2018-12-16T13:55:47.814289Z"
    }
   },
   "outputs": [
    {
     "data": {
      "image/png": "[encoded data removed]",
      "text/plain": [
       "<Figure size 720x576 with 2 Axes>"
      ]
     },
     "metadata": {
      "needs_background": "light"
     },
     "output_type": "display_data"
    }
   ],
   "source": [
    "plt.figure(figsize=(10,8))\n",
    "plt.imshow(norm_confusion_SVM, interpolation='nearest', cmap='Blues')\n",
    "plt.title(\"Normalized Confusion Matrix SVM\")\n",
    "plt.ylabel('True label')\n",
    "plt.xlabel('Predicted label')\n",
    "plt.colorbar()\n",
    "plt.xticks(range(10))\n",
    "plt.yticks(range(10))\n",
    "plt.show()"
   ]
  },
  {
   "cell_type": "code",
   "execution_count": 25,
   "metadata": {
    "ExecuteTime": {
     "end_time": "2018-12-16T21:02:45.236342Z",
     "start_time": "2018-12-16T21:02:44.168117Z"
    }
   },
   "outputs": [
    {
     "data": {
      "image/png": "[encoded data removed]",
      "text/plain": [
       "<Figure size 720x576 with 2 Axes>"
      ]
     },
     "metadata": {
      "needs_background": "light"
     },
     "output_type": "display_data"
    }
   ],
   "source": [
    "plt.figure(figsize=(10,8))\n",
    "plt.imshow(norm_confusion_LR, interpolation='nearest', cmap='Blues')\n",
    "plt.title(\"Normalized Confusion Matrix SVM\")\n",
    "plt.ylabel('True label')\n",
    "plt.xlabel('Predicted label')\n",
    "plt.colorbar()\n",
    "plt.xticks(range(10))\n",
    "plt.yticks(range(10))\n",
    "plt.show()"
   ]
  },
  {
   "cell_type": "markdown",
   "metadata": {},
   "source": [
    "## TO DO 12\n",
    "Have a look at the confusion matrices and comment on the obtained accuracies. Why some classes have lower accuracies and others an higher one ? Make some guesses on the possible causes.\n"
   ]
  },
  {
   "cell_type": "markdown",
   "metadata": {},
   "source": [
    "**Answer:** From the plot above it is easy to notice that labels 2,4 and 6 have lower accuracies and they are more prone to missclassification. In fact, they represent the items pullover, coat and shirt, that look very similar to one another, whereas the highest accuracies are achieved for classes such as bag or ankle boot. Finally, from the comparison of the two confusion matrix, we can notice again that LR is worse than SVM with rbf kernel."
   ]
  },
  {
   "cell_type": "code",
   "execution_count": null,
   "metadata": {},
   "outputs": [],
   "source": []
  }
 ],
 "metadata": {
  "kernelspec": {
   "display_name": "Python 3",
   "language": "python",
   "name": "python3"
  },
  "language_info": {
   "codemirror_mode": {
    "name": "ipython",
    "version": 3
   },
   "file_extension": ".py",
   "mimetype": "text/x-python",
   "name": "python",
   "nbconvert_exporter": "python",
   "pygments_lexer": "ipython3",
   "version": "3.6.7"
  },
  "varInspector": {
   "cols": {
    "lenName": 16,
    "lenType": 16,
    "lenVar": 40
   },
   "kernels_config": {
    "python": {
     "delete_cmd_postfix": "",
     "delete_cmd_prefix": "del ",
     "library": "var_list.py",
     "varRefreshCmd": "print(var_dic_list())"
    },
    "r": {
     "delete_cmd_postfix": ") ",
     "delete_cmd_prefix": "rm(",
     "library": "var_list.r",
     "varRefreshCmd": "cat(var_dic_list()) "
    }
   },
   "position": {
    "height": "220.545px",
    "left": "1045.82px",
    "right": "20px",
    "top": "120px",
    "width": "330.545px"
   },
   "types_to_exclude": [
    "module",
    "function",
    "builtin_function_or_method",
    "instance",
    "_Feature"
   ],
   "window_display": false
  }
 },
 "nbformat": 4,
 "nbformat_minor": 2
}
