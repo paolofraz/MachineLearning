{
 "cells": [
  {
   "cell_type": "markdown",
   "metadata": {},
   "source": [
    "# Neural Networks\n",
    "\n",
    "In this notebook we are going to explore the Neural Networks for image classification. We are going to use the same dataset of the SVM notebook: Fashion MNIST (https://pravarmahajan.github.io/fashion/), a dataset of small images of clothes and accessories.\n",
    "\n",
    "The dataset labels are the following:\n",
    "\n",
    "| Label | Description |\n",
    "| --- | --- |\n",
    "| 0 | T-shirt/top |\n",
    "| 1 | Trouser |\n",
    "| 2 | Pullover |\n",
    "| 3 | Dress |\n",
    "| 4 | Coat |\n",
    "| 5 | Sandal |\n",
    "| 6 | Shirt |\n",
    "| 7 | Sneaker |\n",
    "| 8 | Bag |\n",
    "| 9 | Ankle boot |"
   ]
  },
  {
   "cell_type": "code",
   "execution_count": 11,
   "metadata": {
    "ExecuteTime": {
     "end_time": "2018-12-26T13:10:09.370806Z",
     "start_time": "2018-12-26T13:10:02.055050Z"
    }
   },
   "outputs": [],
   "source": [
    "#load the required packages\n",
    "\n",
    "%matplotlib inline  \n",
    "\n",
    "import numpy as np\n",
    "import scipy as sp\n",
    "import matplotlib.pyplot as plt\n",
    "import pandas as pd\n",
    "\n",
    "import sklearn\n",
    "from sklearn.neural_network import MLPClassifier\n",
    "from sklearn.model_selection import GridSearchCV\n",
    "from sklearn.svm import SVC"
   ]
  },
  {
   "cell_type": "code",
   "execution_count": 2,
   "metadata": {
    "ExecuteTime": {
     "end_time": "2018-12-25T18:55:57.143250Z",
     "start_time": "2018-12-25T18:55:57.121422Z"
    }
   },
   "outputs": [],
   "source": [
    "# helper function to load Fashion MNIST dataset from disk\n",
    "def load_mnist(path, kind='train'):\n",
    "    import os\n",
    "    import gzip\n",
    "    import numpy as np\n",
    "    labels_path = os.path.join(path, '%s-labels-idx1-ubyte.gz' % kind)\n",
    "    images_path = os.path.join(path, '%s-images-idx3-ubyte.gz' % kind)\n",
    "    with gzip.open(labels_path, 'rb') as lbpath:\n",
    "        labels = np.frombuffer(lbpath.read(), dtype=np.uint8,offset=8)\n",
    "    with gzip.open(images_path, 'rb') as imgpath:\n",
    "        images = np.frombuffer(imgpath.read(), dtype=np.uint8,offset=16).reshape(len(labels), 784)\n",
    "    return images, labels"
   ]
  },
  {
   "cell_type": "markdown",
   "metadata": {},
   "source": [
    "# TODO \n",
    "Place your ID (\"numero di matricola\") that will be used as seed for random generator. You can try to change the seed to see the impact of the randomization."
   ]
  },
  {
   "cell_type": "code",
   "execution_count": 3,
   "metadata": {
    "ExecuteTime": {
     "end_time": "2018-12-25T18:55:57.225580Z",
     "start_time": "2018-12-25T18:55:57.158621Z"
    }
   },
   "outputs": [],
   "source": [
    "ID = 1205687\n",
    "np.random.seed(ID)"
   ]
  },
  {
   "cell_type": "code",
   "execution_count": 4,
   "metadata": {
    "ExecuteTime": {
     "end_time": "2018-12-25T18:55:59.928279Z",
     "start_time": "2018-12-25T18:55:57.267245Z"
    }
   },
   "outputs": [],
   "source": [
    "#load the MNIST dataset and let's normalize the features so that each value is in [0,1]\n",
    "X, y = load_mnist(\"data\")\n",
    "# rescale the data\n",
    "X = X / 255.0"
   ]
  },
  {
   "cell_type": "markdown",
   "metadata": {},
   "source": [
    "Now split into training and test. Make sure that each label is present at least 10 times\n",
    "in training frequencies."
   ]
  },
  {
   "cell_type": "code",
   "execution_count": 5,
   "metadata": {
    "ExecuteTime": {
     "end_time": "2018-12-25T18:56:01.378092Z",
     "start_time": "2018-12-25T18:55:59.934730Z"
    }
   },
   "outputs": [
    {
     "name": "stdout",
     "output_type": "stream",
     "text": [
      "Labels in training dataset:  [0 1 2 3 4 5 6 7 8 9]\n",
      "Frequencies in training dataset:  [58 50 55 51 52 37 54 46 51 46]\n"
     ]
    }
   ],
   "source": [
    "#random permute the data and split into training and test taking the first 500\n",
    "#data samples as training and the rests as test\n",
    "permutation = np.random.permutation(X.shape[0])\n",
    "\n",
    "X = X[permutation]\n",
    "y = y[permutation]\n",
    "\n",
    "m_training = 500\n",
    "\n",
    "X_train, X_test = X[:m_training], X[m_training:]\n",
    "y_train, y_test = y[:m_training], y[m_training:]\n",
    "\n",
    "labels, freqs = np.unique(y_train, return_counts=True)\n",
    "print(\"Labels in training dataset: \", labels)\n",
    "print(\"Frequencies in training dataset: \", freqs)\n"
   ]
  },
  {
   "cell_type": "code",
   "execution_count": 6,
   "metadata": {
    "ExecuteTime": {
     "end_time": "2018-12-25T18:56:01.423228Z",
     "start_time": "2018-12-25T18:56:01.391484Z"
    }
   },
   "outputs": [],
   "source": [
    "#function for plotting a image and printing the corresponding label\n",
    "def plot_input(X_matrix, labels, index):\n",
    "    print(\"INPUT:\")\n",
    "    plt.imshow(\n",
    "        X_matrix[index].reshape(28,28),\n",
    "        cmap          = plt.cm.gray_r,\n",
    "        interpolation = \"nearest\"\n",
    "    )\n",
    "    plt.show()\n",
    "    print(\"LABEL: %i\"%labels[index])\n",
    "    return"
   ]
  },
  {
   "cell_type": "code",
   "execution_count": 7,
   "metadata": {
    "ExecuteTime": {
     "end_time": "2018-12-25T18:56:03.963240Z",
     "start_time": "2018-12-25T18:56:01.436123Z"
    }
   },
   "outputs": [
    {
     "name": "stdout",
     "output_type": "stream",
     "text": [
      "INPUT:\n"
     ]
    },
    {
     "data": {
      "image/png": "[encoded data removed]",
      "text/plain": [
       "<Figure size 432x288 with 1 Axes>"
      ]
     },
     "metadata": {
      "needs_background": "light"
     },
     "output_type": "display_data"
    },
    {
     "name": "stdout",
     "output_type": "stream",
     "text": [
      "LABEL: 1\n",
      "INPUT:\n"
     ]
    },
    {
     "data": {
      "image/png": "[encoded data removed]",
      "text/plain": [
       "<Figure size 432x288 with 1 Axes>"
      ]
     },
     "metadata": {
      "needs_background": "light"
     },
     "output_type": "display_data"
    },
    {
     "name": "stdout",
     "output_type": "stream",
     "text": [
      "LABEL: 5\n",
      "INPUT:\n"
     ]
    },
    {
     "data": {
      "image/png": "[encoded data removed]",
      "text/plain": [
       "<Figure size 432x288 with 1 Axes>"
      ]
     },
     "metadata": {
      "needs_background": "light"
     },
     "output_type": "display_data"
    },
    {
     "name": "stdout",
     "output_type": "stream",
     "text": [
      "LABEL: 6\n"
     ]
    }
   ],
   "source": [
    "#let's try the plotting function\n",
    "plot_input(X_train,y_train,10)\n",
    "plot_input(X_test,y_test,100)\n",
    "plot_input(X_test,y_test,10000)"
   ]
  },
  {
   "cell_type": "markdown",
   "metadata": {},
   "source": [
    "## TO DO 1\n",
    "\n",
    "Now use a Feed-forward Neural Network for prediction. Use the multi-layer perceptron classifier, with the following parameters: max_iter=300, alpha=1e-4, solver='sgd', tol=1e-4, learning_rate_init=.1, random_state=ID (this last parameter ensures the run is the same even if you run it more than once). The alpha parameter is the regularization term.\n",
    "\n",
    "Then, using the default activation function, pick four or five architectures to consider, with different numbers of hidden layers and different sizes. It is not necessary to create huge neural networks, you can limit to 3 layers and, for each layer, its maximum size can be of 100. Evaluate the architectures you chose using the GridSearchCV with cv=5.\n"
   ]
  },
  {
   "cell_type": "code",
   "execution_count": 14,
   "metadata": {
    "ExecuteTime": {
     "end_time": "2018-12-26T13:23:55.873723Z",
     "start_time": "2018-12-26T13:23:39.648571Z"
    }
   },
   "outputs": [
    {
     "name": "stdout",
     "output_type": "stream",
     "text": [
      "Fitting 5 folds for each of 5 candidates, totalling 25 fits\n"
     ]
    },
    {
     "name": "stderr",
     "output_type": "stream",
     "text": [
      "[Parallel(n_jobs=-1)]: Using backend LokyBackend with 4 concurrent workers.\n",
      "[Parallel(n_jobs=-1)]: Done  25 out of  25 | elapsed:   11.6s finished\n",
      "C:\\ProgramData\\Anaconda3\\lib\\site-packages\\sklearn\\model_selection\\_search.py:841: DeprecationWarning: The default of the `iid` parameter will change from True to False in version 0.22 and will be removed in 0.24. This will change numeric results when test-set sizes are unequal.\n",
      "  DeprecationWarning)\n"
     ]
    },
    {
     "name": "stdout",
     "output_type": "stream",
     "text": [
      "RESULTS FOR NN\n",
      "\n",
      "Best parameters set found:\n",
      "{'hidden_layer_sizes': (100,)}\n",
      "Score with best parameters:\n",
      "0.634\n",
      "\n",
      "All scores on the grid:\n"
     ]
    },
    {
     "data": {
      "text/html": [
       "<div>\n",
       "<style scoped>\n",
       "    .dataframe tbody tr th:only-of-type {\n",
       "        vertical-align: middle;\n",
       "    }\n",
       "\n",
       "    .dataframe tbody tr th {\n",
       "        vertical-align: top;\n",
       "    }\n",
       "\n",
       "    .dataframe thead th {\n",
       "        text-align: right;\n",
       "    }\n",
       "</style>\n",
       "<table border=\"1\" class=\"dataframe\">\n",
       "  <thead>\n",
       "    <tr style=\"text-align: right;\">\n",
       "      <th></th>\n",
       "      <th>mean_fit_time</th>\n",
       "      <th>std_fit_time</th>\n",
       "      <th>mean_score_time</th>\n",
       "      <th>std_score_time</th>\n",
       "      <th>param_hidden_layer_sizes</th>\n",
       "      <th>params</th>\n",
       "      <th>split0_test_score</th>\n",
       "      <th>split1_test_score</th>\n",
       "      <th>split2_test_score</th>\n",
       "      <th>split3_test_score</th>\n",
       "      <th>...</th>\n",
       "      <th>mean_test_score</th>\n",
       "      <th>std_test_score</th>\n",
       "      <th>rank_test_score</th>\n",
       "      <th>split0_train_score</th>\n",
       "      <th>split1_train_score</th>\n",
       "      <th>split2_train_score</th>\n",
       "      <th>split3_train_score</th>\n",
       "      <th>split4_train_score</th>\n",
       "      <th>mean_train_score</th>\n",
       "      <th>std_train_score</th>\n",
       "    </tr>\n",
       "  </thead>\n",
       "  <tbody>\n",
       "    <tr>\n",
       "      <th>0</th>\n",
       "      <td>0.750926</td>\n",
       "      <td>0.801315</td>\n",
       "      <td>0.001192</td>\n",
       "      <td>0.000243</td>\n",
       "      <td>(10,)</td>\n",
       "      <td>{'hidden_layer_sizes': (10,)}</td>\n",
       "      <td>0.752381</td>\n",
       "      <td>0.732673</td>\n",
       "      <td>0.242424</td>\n",
       "      <td>0.102041</td>\n",
       "      <td>...</td>\n",
       "      <td>0.474</td>\n",
       "      <td>0.260498</td>\n",
       "      <td>3</td>\n",
       "      <td>0.944304</td>\n",
       "      <td>0.994987</td>\n",
       "      <td>0.289277</td>\n",
       "      <td>0.104478</td>\n",
       "      <td>0.454094</td>\n",
       "      <td>0.557428</td>\n",
       "      <td>0.354649</td>\n",
       "    </tr>\n",
       "    <tr>\n",
       "      <th>1</th>\n",
       "      <td>1.112545</td>\n",
       "      <td>0.779482</td>\n",
       "      <td>0.001887</td>\n",
       "      <td>0.000372</td>\n",
       "      <td>(50,)</td>\n",
       "      <td>{'hidden_layer_sizes': (50,)}</td>\n",
       "      <td>0.780952</td>\n",
       "      <td>0.782178</td>\n",
       "      <td>0.343434</td>\n",
       "      <td>0.551020</td>\n",
       "      <td>...</td>\n",
       "      <td>0.612</td>\n",
       "      <td>0.164225</td>\n",
       "      <td>2</td>\n",
       "      <td>1.000000</td>\n",
       "      <td>1.000000</td>\n",
       "      <td>0.381546</td>\n",
       "      <td>0.604478</td>\n",
       "      <td>0.588089</td>\n",
       "      <td>0.714823</td>\n",
       "      <td>0.245749</td>\n",
       "    </tr>\n",
       "    <tr>\n",
       "      <th>2</th>\n",
       "      <td>1.657059</td>\n",
       "      <td>1.228077</td>\n",
       "      <td>0.002878</td>\n",
       "      <td>0.000794</td>\n",
       "      <td>(100,)</td>\n",
       "      <td>{'hidden_layer_sizes': (100,)}</td>\n",
       "      <td>0.790476</td>\n",
       "      <td>0.752475</td>\n",
       "      <td>0.545455</td>\n",
       "      <td>0.469388</td>\n",
       "      <td>...</td>\n",
       "      <td>0.634</td>\n",
       "      <td>0.122853</td>\n",
       "      <td>1</td>\n",
       "      <td>1.000000</td>\n",
       "      <td>1.000000</td>\n",
       "      <td>0.496259</td>\n",
       "      <td>0.519900</td>\n",
       "      <td>0.610422</td>\n",
       "      <td>0.725316</td>\n",
       "      <td>0.227493</td>\n",
       "    </tr>\n",
       "    <tr>\n",
       "      <th>3</th>\n",
       "      <td>0.669552</td>\n",
       "      <td>0.665559</td>\n",
       "      <td>0.001886</td>\n",
       "      <td>0.000487</td>\n",
       "      <td>(10, 10)</td>\n",
       "      <td>{'hidden_layer_sizes': (10, 10)}</td>\n",
       "      <td>0.733333</td>\n",
       "      <td>0.752475</td>\n",
       "      <td>0.101010</td>\n",
       "      <td>0.102041</td>\n",
       "      <td>...</td>\n",
       "      <td>0.430</td>\n",
       "      <td>0.287822</td>\n",
       "      <td>5</td>\n",
       "      <td>0.812658</td>\n",
       "      <td>0.992481</td>\n",
       "      <td>0.104738</td>\n",
       "      <td>0.101990</td>\n",
       "      <td>0.439206</td>\n",
       "      <td>0.490215</td>\n",
       "      <td>0.362810</td>\n",
       "    </tr>\n",
       "    <tr>\n",
       "      <th>4</th>\n",
       "      <td>0.958430</td>\n",
       "      <td>0.555401</td>\n",
       "      <td>0.002090</td>\n",
       "      <td>0.000485</td>\n",
       "      <td>(50, 50)</td>\n",
       "      <td>{'hidden_layer_sizes': (50, 50)}</td>\n",
       "      <td>0.780952</td>\n",
       "      <td>0.732673</td>\n",
       "      <td>0.111111</td>\n",
       "      <td>0.326531</td>\n",
       "      <td>...</td>\n",
       "      <td>0.474</td>\n",
       "      <td>0.254856</td>\n",
       "      <td>3</td>\n",
       "      <td>1.000000</td>\n",
       "      <td>1.000000</td>\n",
       "      <td>0.109726</td>\n",
       "      <td>0.355721</td>\n",
       "      <td>0.406948</td>\n",
       "      <td>0.574479</td>\n",
       "      <td>0.361678</td>\n",
       "    </tr>\n",
       "  </tbody>\n",
       "</table>\n",
       "<p>5 rows × 21 columns</p>\n",
       "</div>"
      ],
      "text/plain": [
       "   mean_fit_time  std_fit_time  mean_score_time  std_score_time  \\\n",
       "0       0.750926      0.801315         0.001192        0.000243   \n",
       "1       1.112545      0.779482         0.001887        0.000372   \n",
       "2       1.657059      1.228077         0.002878        0.000794   \n",
       "3       0.669552      0.665559         0.001886        0.000487   \n",
       "4       0.958430      0.555401         0.002090        0.000485   \n",
       "\n",
       "  param_hidden_layer_sizes                            params  \\\n",
       "0                    (10,)     {'hidden_layer_sizes': (10,)}   \n",
       "1                    (50,)     {'hidden_layer_sizes': (50,)}   \n",
       "2                   (100,)    {'hidden_layer_sizes': (100,)}   \n",
       "3                 (10, 10)  {'hidden_layer_sizes': (10, 10)}   \n",
       "4                 (50, 50)  {'hidden_layer_sizes': (50, 50)}   \n",
       "\n",
       "   split0_test_score  split1_test_score  split2_test_score  split3_test_score  \\\n",
       "0           0.752381           0.732673           0.242424           0.102041   \n",
       "1           0.780952           0.782178           0.343434           0.551020   \n",
       "2           0.790476           0.752475           0.545455           0.469388   \n",
       "3           0.733333           0.752475           0.101010           0.102041   \n",
       "4           0.780952           0.732673           0.111111           0.326531   \n",
       "\n",
       "        ...         mean_test_score  std_test_score  rank_test_score  \\\n",
       "0       ...                   0.474        0.260498                3   \n",
       "1       ...                   0.612        0.164225                2   \n",
       "2       ...                   0.634        0.122853                1   \n",
       "3       ...                   0.430        0.287822                5   \n",
       "4       ...                   0.474        0.254856                3   \n",
       "\n",
       "   split0_train_score  split1_train_score  split2_train_score  \\\n",
       "0            0.944304            0.994987            0.289277   \n",
       "1            1.000000            1.000000            0.381546   \n",
       "2            1.000000            1.000000            0.496259   \n",
       "3            0.812658            0.992481            0.104738   \n",
       "4            1.000000            1.000000            0.109726   \n",
       "\n",
       "   split3_train_score  split4_train_score  mean_train_score  std_train_score  \n",
       "0            0.104478            0.454094          0.557428         0.354649  \n",
       "1            0.604478            0.588089          0.714823         0.245749  \n",
       "2            0.519900            0.610422          0.725316         0.227493  \n",
       "3            0.101990            0.439206          0.490215         0.362810  \n",
       "4            0.355721            0.406948          0.574479         0.361678  \n",
       "\n",
       "[5 rows x 21 columns]"
      ]
     },
     "execution_count": 14,
     "metadata": {},
     "output_type": "execute_result"
    }
   ],
   "source": [
    "parameters = {'hidden_layer_sizes': [(10,), (50,), (100,), (10,10,), (50,50,)]}\n",
    "\n",
    "mlp = MLPClassifier(max_iter=300, alpha=1e-4,\n",
    "                    solver='sgd', tol=1e-4, random_state=ID,\n",
    "                    learning_rate_init=.1)\n",
    "\n",
    "#ADD YOUR CODE\n",
    "grid_search_CV = GridSearchCV(mlp, parameters, cv=5, n_jobs=-1,verbose=1,return_train_score=True)\n",
    "grid_search_CV.fit(X_train,y_train)\n",
    "\n",
    "print ('RESULTS FOR NN\\n')\n",
    "\n",
    "print(\"Best parameters set found:\")\n",
    "#ADD YOUR CODE\n",
    "print(grid_search_CV.best_params_)\n",
    "\n",
    "print(\"Score with best parameters:\")\n",
    "#ADD YOUR CODE\n",
    "print(grid_search_CV.best_score_)\n",
    "\n",
    "print(\"\\nAll scores on the grid:\")\n",
    "#ADD YOUR CODE\n",
    "pd.DataFrame(grid_search_CV.cv_results_)"
   ]
  },
  {
   "cell_type": "markdown",
   "metadata": {},
   "source": [
    "### QUESTION 1\n",
    "\n",
    "What do you observe for different architectures and their scores? How the nummber of layers and their sizes affect the performances?"
   ]
  },
  {
   "cell_type": "markdown",
   "metadata": {
    "collapsed": true
   },
   "source": [
    "**Answer:** It seems that the size of the layers affects the performance the most. In fact, there is an improvement only by increasing the 1 hidden layer size from (10,) up to (100,), and since (50,) still performs just slightly worse than (100,) maybe it is not necessary to increase the size any further. On the other hand, by adding one extra layer, as in (10,10,) and (50,50,), there is not a relevant improvement on the score, regardless of its size, and the results are similar to the simplest architecture (10,)."
   ]
  },
  {
   "cell_type": "markdown",
   "metadata": {},
   "source": [
    "### TO DO 2\n",
    "\n",
    "Now get training and test error for a NN with best parameters from above. Use verbose=True\n",
    "in input so to see how loss changes in iterations"
   ]
  },
  {
   "cell_type": "code",
   "execution_count": 15,
   "metadata": {
    "ExecuteTime": {
     "end_time": "2018-12-26T13:37:41.050334Z",
     "start_time": "2018-12-26T13:37:34.448804Z"
    }
   },
   "outputs": [
    {
     "name": "stdout",
     "output_type": "stream",
     "text": [
      "\n",
      "RESULTS FOR BEST NN\n",
      "\n",
      "Best NN training error: 0.000000\n",
      "Best NN test error: 0.211866\n"
     ]
    }
   ],
   "source": [
    "#get training and test error for the best NN model from CV\n",
    "\n",
    "#ADD YOUR CODE\n",
    "best_NN = grid_search_CV.best_estimator_\n",
    "best_NN.fit(X_train,y_train)\n",
    "\n",
    "training_error = 1. - best_NN.score(X_train,y_train) #ADD YOUR CODE\n",
    "test_error     = 1. - best_NN.score(X_test,y_test)#ADD YOUR CODE\n",
    "\n",
    "print ('\\nRESULTS FOR BEST NN\\n')\n",
    "\n",
    "print (\"Best NN training error: %f\" % training_error)\n",
    "print (\"Best NN test error: %f\" % test_error)"
   ]
  },
  {
   "cell_type": "markdown",
   "metadata": {},
   "source": [
    "## More data \n",
    "Now let's do the same but using 10000 (or less if it takes too long on your machine) data points for training. Use the same NN architectures as before, but you can try more if you want!"
   ]
  },
  {
   "cell_type": "code",
   "execution_count": 16,
   "metadata": {
    "ExecuteTime": {
     "end_time": "2018-12-26T13:40:29.174994Z",
     "start_time": "2018-12-26T13:40:28.197127Z"
    }
   },
   "outputs": [
    {
     "name": "stdout",
     "output_type": "stream",
     "text": [
      "Labels and frequencies in training dataset: \n"
     ]
    },
    {
     "data": {
      "text/plain": [
       "(array([0, 1, 2, 3, 4, 5, 6, 7, 8, 9], dtype=uint8),\n",
       " array([ 971,  947, 1001, 1024,  995, 1010,  986, 1048, 1018, 1000],\n",
       "       dtype=int64))"
      ]
     },
     "execution_count": 16,
     "metadata": {},
     "output_type": "execute_result"
    }
   ],
   "source": [
    "X = X[permutation]\n",
    "y = y[permutation]\n",
    "\n",
    "m_training = 10000\n",
    "\n",
    "X_train, X_test = X[:m_training], X[m_training:]\n",
    "y_train, y_test = y[:m_training], y[m_training:]\n",
    "\n",
    "print(\"Labels and frequencies in training dataset: \")\n",
    "np.unique(y_train, return_counts=True)"
   ]
  },
  {
   "cell_type": "markdown",
   "metadata": {},
   "source": [
    "## TO DO 3\n",
    "\n",
    "Now train the NNs with the added data points. Feel free to try more different architectures than before if you want, or less if it takes too much time. We suggest that you use 'verbose=True' so have an idea of how long it takes to run 1 iteration (eventually reduce also the number of iterations to 50)."
   ]
  },
  {
   "cell_type": "code",
   "execution_count": 18,
   "metadata": {
    "ExecuteTime": {
     "end_time": "2018-12-26T13:47:13.057602Z",
     "start_time": "2018-12-26T13:44:33.826687Z"
    }
   },
   "outputs": [
    {
     "name": "stdout",
     "output_type": "stream",
     "text": [
      "Fitting 5 folds for each of 5 candidates, totalling 25 fits\n"
     ]
    },
    {
     "name": "stderr",
     "output_type": "stream",
     "text": [
      "[Parallel(n_jobs=-1)]: Using backend LokyBackend with 4 concurrent workers.\n",
      "[Parallel(n_jobs=-1)]: Done  25 out of  25 | elapsed:  2.2min finished\n",
      "C:\\ProgramData\\Anaconda3\\lib\\site-packages\\sklearn\\model_selection\\_search.py:841: DeprecationWarning: The default of the `iid` parameter will change from True to False in version 0.22 and will be removed in 0.24. This will change numeric results when test-set sizes are unequal.\n",
      "  DeprecationWarning)\n"
     ]
    },
    {
     "name": "stdout",
     "output_type": "stream",
     "text": [
      "Iteration 1, loss = 0.87257533\n",
      "Iteration 2, loss = 0.51583343\n",
      "Iteration 3, loss = 0.44735617\n",
      "Iteration 4, loss = 0.41506469\n",
      "Iteration 5, loss = 0.37855081\n",
      "Iteration 6, loss = 0.35864969\n",
      "Iteration 7, loss = 0.34364252\n",
      "Iteration 8, loss = 0.33609083\n",
      "Iteration 9, loss = 0.32117758\n",
      "Iteration 10, loss = 0.30937654\n",
      "Iteration 11, loss = 0.29808127\n",
      "Iteration 12, loss = 0.28665574\n",
      "Iteration 13, loss = 0.26738932\n",
      "Iteration 14, loss = 0.27436230\n",
      "Iteration 15, loss = 0.25742648\n",
      "Iteration 16, loss = 0.24680732\n",
      "Iteration 17, loss = 0.23518012\n",
      "Iteration 18, loss = 0.23648219\n",
      "Iteration 19, loss = 0.22212830\n",
      "Iteration 20, loss = 0.21038004\n",
      "Iteration 21, loss = 0.21287999\n",
      "Iteration 22, loss = 0.20313975\n",
      "Iteration 23, loss = 0.20193961\n",
      "Iteration 24, loss = 0.19388297\n",
      "Iteration 25, loss = 0.19111305\n",
      "Iteration 26, loss = 0.18873219\n",
      "Iteration 27, loss = 0.17693679\n",
      "Iteration 28, loss = 0.16521010\n",
      "Iteration 29, loss = 0.17399420\n",
      "Iteration 30, loss = 0.17020813\n",
      "Iteration 31, loss = 0.15441192\n",
      "Iteration 32, loss = 0.15437221\n",
      "Iteration 33, loss = 0.14550450\n",
      "Iteration 34, loss = 0.14935297\n",
      "Iteration 35, loss = 0.13545668\n",
      "Iteration 36, loss = 0.13538989\n",
      "Iteration 37, loss = 0.12407752\n",
      "Iteration 38, loss = 0.12650397\n",
      "Iteration 39, loss = 0.12426674\n",
      "Iteration 40, loss = 0.12022675\n",
      "Iteration 41, loss = 0.11252641\n",
      "Iteration 42, loss = 0.11987628\n",
      "Iteration 43, loss = 0.11002293\n",
      "Iteration 44, loss = 0.09961504\n",
      "Iteration 45, loss = 0.10525016\n",
      "Iteration 46, loss = 0.12075174\n",
      "Iteration 47, loss = 0.10822311\n",
      "Iteration 48, loss = 0.11363468\n",
      "Iteration 49, loss = 0.08876436\n",
      "Iteration 50, loss = 0.08608109\n",
      "Iteration 51, loss = 0.08584769\n",
      "Iteration 52, loss = 0.08780046\n",
      "Iteration 53, loss = 0.08705507\n",
      "Iteration 54, loss = 0.09266564\n",
      "Iteration 55, loss = 0.07869982\n",
      "Iteration 56, loss = 0.07586676\n",
      "Iteration 57, loss = 0.07034232\n",
      "Iteration 58, loss = 0.06759099\n",
      "Iteration 59, loss = 0.07065973\n",
      "Iteration 60, loss = 0.07383981\n",
      "Iteration 61, loss = 0.07685595\n",
      "Iteration 62, loss = 0.06865847\n",
      "Iteration 63, loss = 0.05792629\n",
      "Iteration 64, loss = 0.05961791\n",
      "Iteration 65, loss = 0.06632346\n",
      "Iteration 66, loss = 0.06117922\n",
      "Iteration 67, loss = 0.06202341\n",
      "Iteration 68, loss = 0.05932555\n",
      "Iteration 69, loss = 0.04961666\n",
      "Iteration 70, loss = 0.06003741\n",
      "Iteration 71, loss = 0.04975191\n",
      "Iteration 72, loss = 0.04440004\n",
      "Iteration 73, loss = 0.04511918\n",
      "Iteration 74, loss = 0.06820206\n",
      "Iteration 75, loss = 0.06557130\n",
      "Iteration 76, loss = 0.04242470\n",
      "Iteration 77, loss = 0.03743917\n",
      "Iteration 78, loss = 0.03879404\n",
      "Iteration 79, loss = 0.03458189\n",
      "Iteration 80, loss = 0.04130749\n",
      "Iteration 81, loss = 0.03564198\n",
      "Iteration 82, loss = 0.04297413\n",
      "Iteration 83, loss = 0.03022206\n",
      "Iteration 84, loss = 0.02943180\n",
      "Iteration 85, loss = 0.03130992\n",
      "Iteration 86, loss = 0.03926946\n",
      "Iteration 87, loss = 0.04380614\n",
      "Iteration 88, loss = 0.05051129\n",
      "Iteration 89, loss = 0.02879283\n",
      "Iteration 90, loss = 0.03860802\n",
      "Iteration 91, loss = 0.02715471\n",
      "Iteration 92, loss = 0.02449101\n",
      "Iteration 93, loss = 0.02126345\n",
      "Iteration 94, loss = 0.02662361\n",
      "Iteration 95, loss = 0.02608349\n",
      "Iteration 96, loss = 0.03102428\n",
      "Iteration 97, loss = 0.02523713\n",
      "Iteration 98, loss = 0.02098545\n",
      "Iteration 99, loss = 0.03210868\n",
      "Iteration 100, loss = 0.02456664\n",
      "\n",
      "RESULTS FOR NN\n",
      "\n",
      "Best parameters set found:\n",
      "{'hidden_layer_sizes': (50,)}\n",
      "Score with best parameters:\n",
      "0.8315\n",
      "\n",
      "All scores on the grid:\n",
      "[0.756  0.8315 0.8098 0.5992 0.7363]\n"
     ]
    },
    {
     "name": "stderr",
     "output_type": "stream",
     "text": [
      "C:\\ProgramData\\Anaconda3\\lib\\site-packages\\sklearn\\neural_network\\multilayer_perceptron.py:562: ConvergenceWarning: Stochastic Optimizer: Maximum iterations (100) reached and the optimization hasn't converged yet.\n",
      "  % self.max_iter, ConvergenceWarning)\n"
     ]
    }
   ],
   "source": [
    "#for NN we try the same architectures as before\n",
    "parameters = {'hidden_layer_sizes': [(10,), (50,), (100,), (10,10,), (50,50,)]}\n",
    "\n",
    "mlp_large = MLPClassifier(max_iter=100, alpha=1e-4,\n",
    "                    solver='sgd', tol=1e-4, random_state=ID,\n",
    "                    learning_rate_init=.1, verbose=True)\n",
    "\n",
    "mlp_large_CV = GridSearchCV(mlp_large, parameters, cv=5, n_jobs=-1,verbose=2,return_train_score=True)\n",
    "mlp_large_CV.fit(X_train,y_train)\n",
    "\n",
    "#ADD YOUR CODE\n",
    "\n",
    "print ('\\nRESULTS FOR NN\\n')\n",
    "\n",
    "print(\"Best parameters set found:\")\n",
    "print(mlp_large_CV.best_params_)\n",
    "\n",
    "print(\"Score with best parameters:\")\n",
    "print(mlp_large_CV.best_score_)\n",
    "\n",
    "print(\"\\nAll scores on the grid:\")\n",
    "print(mlp_large_CV.cv_results_['mean_test_score'])"
   ]
  },
  {
   "cell_type": "markdown",
   "metadata": {},
   "source": [
    "## QUESTION 2\n",
    "Describe your architecture choices and the results you observe with respect to the layers and sizes used."
   ]
  },
  {
   "cell_type": "markdown",
   "metadata": {},
   "source": [
    "**Answer:** I choose 1 or 2 hidden layers of different sizes, up to 100 neurons. Similar with the case of fewer data, the best architecture is (50,), i.e. the one with 1 layer and even not of the biggest size ( (100,) is slightly worse). Notice that again 2 hidden layers do no outperform the simplest (10,), like in the previous case."
   ]
  },
  {
   "cell_type": "markdown",
   "metadata": {},
   "source": [
    "## TO DO 4\n",
    "\n",
    "Get the train and test error for the best NN you obtained with 10000 points. This time you can run for 100 iterations. \n"
   ]
  },
  {
   "cell_type": "code",
   "execution_count": 19,
   "metadata": {
    "ExecuteTime": {
     "end_time": "2018-12-26T13:59:59.307547Z",
     "start_time": "2018-12-26T13:59:37.365260Z"
    }
   },
   "outputs": [
    {
     "name": "stdout",
     "output_type": "stream",
     "text": [
      "Iteration 1, loss = 0.87257533\n",
      "Iteration 2, loss = 0.51583343\n",
      "Iteration 3, loss = 0.44735617\n",
      "Iteration 4, loss = 0.41506469\n",
      "Iteration 5, loss = 0.37855081\n",
      "Iteration 6, loss = 0.35864969\n",
      "Iteration 7, loss = 0.34364252\n",
      "Iteration 8, loss = 0.33609083\n",
      "Iteration 9, loss = 0.32117758\n",
      "Iteration 10, loss = 0.30937654\n",
      "Iteration 11, loss = 0.29808127\n",
      "Iteration 12, loss = 0.28665574\n",
      "Iteration 13, loss = 0.26738932\n",
      "Iteration 14, loss = 0.27436230\n",
      "Iteration 15, loss = 0.25742648\n",
      "Iteration 16, loss = 0.24680732\n",
      "Iteration 17, loss = 0.23518012\n",
      "Iteration 18, loss = 0.23648219\n",
      "Iteration 19, loss = 0.22212830\n",
      "Iteration 20, loss = 0.21038004\n",
      "Iteration 21, loss = 0.21287999\n",
      "Iteration 22, loss = 0.20313975\n",
      "Iteration 23, loss = 0.20193961\n",
      "Iteration 24, loss = 0.19388297\n",
      "Iteration 25, loss = 0.19111305\n",
      "Iteration 26, loss = 0.18873219\n",
      "Iteration 27, loss = 0.17693679\n",
      "Iteration 28, loss = 0.16521010\n",
      "Iteration 29, loss = 0.17399420\n",
      "Iteration 30, loss = 0.17020813\n",
      "Iteration 31, loss = 0.15441192\n",
      "Iteration 32, loss = 0.15437221\n",
      "Iteration 33, loss = 0.14550450\n",
      "Iteration 34, loss = 0.14935297\n",
      "Iteration 35, loss = 0.13545668\n",
      "Iteration 36, loss = 0.13538989\n",
      "Iteration 37, loss = 0.12407752\n",
      "Iteration 38, loss = 0.12650397\n",
      "Iteration 39, loss = 0.12426674\n",
      "Iteration 40, loss = 0.12022675\n",
      "Iteration 41, loss = 0.11252641\n",
      "Iteration 42, loss = 0.11987628\n",
      "Iteration 43, loss = 0.11002293\n",
      "Iteration 44, loss = 0.09961504\n",
      "Iteration 45, loss = 0.10525016\n",
      "Iteration 46, loss = 0.12075174\n",
      "Iteration 47, loss = 0.10822311\n",
      "Iteration 48, loss = 0.11363468\n",
      "Iteration 49, loss = 0.08876436\n",
      "Iteration 50, loss = 0.08608109\n",
      "Iteration 51, loss = 0.08584769\n",
      "Iteration 52, loss = 0.08780046\n",
      "Iteration 53, loss = 0.08705507\n",
      "Iteration 54, loss = 0.09266564\n",
      "Iteration 55, loss = 0.07869982\n",
      "Iteration 56, loss = 0.07586676\n",
      "Iteration 57, loss = 0.07034232\n",
      "Iteration 58, loss = 0.06759099\n",
      "Iteration 59, loss = 0.07065973\n",
      "Iteration 60, loss = 0.07383981\n",
      "Iteration 61, loss = 0.07685595\n",
      "Iteration 62, loss = 0.06865847\n",
      "Iteration 63, loss = 0.05792629\n",
      "Iteration 64, loss = 0.05961791\n",
      "Iteration 65, loss = 0.06632346\n",
      "Iteration 66, loss = 0.06117922\n",
      "Iteration 67, loss = 0.06202341\n",
      "Iteration 68, loss = 0.05932555\n",
      "Iteration 69, loss = 0.04961666\n",
      "Iteration 70, loss = 0.06003741\n",
      "Iteration 71, loss = 0.04975191\n",
      "Iteration 72, loss = 0.04440004\n",
      "Iteration 73, loss = 0.04511918\n",
      "Iteration 74, loss = 0.06820206\n",
      "Iteration 75, loss = 0.06557130\n",
      "Iteration 76, loss = 0.04242470\n",
      "Iteration 77, loss = 0.03743917\n",
      "Iteration 78, loss = 0.03879404\n",
      "Iteration 79, loss = 0.03458189\n",
      "Iteration 80, loss = 0.04130749\n",
      "Iteration 81, loss = 0.03564198\n",
      "Iteration 82, loss = 0.04297413\n",
      "Iteration 83, loss = 0.03022206\n",
      "Iteration 84, loss = 0.02943180\n",
      "Iteration 85, loss = 0.03130992\n",
      "Iteration 86, loss = 0.03926946\n",
      "Iteration 87, loss = 0.04380614\n",
      "Iteration 88, loss = 0.05051129\n",
      "Iteration 89, loss = 0.02879283\n",
      "Iteration 90, loss = 0.03860802\n",
      "Iteration 91, loss = 0.02715471\n",
      "Iteration 92, loss = 0.02449101\n",
      "Iteration 93, loss = 0.02126345\n",
      "Iteration 94, loss = 0.02662361\n",
      "Iteration 95, loss = 0.02608349\n",
      "Iteration 96, loss = 0.03102428\n",
      "Iteration 97, loss = 0.02523713\n",
      "Iteration 98, loss = 0.02098545\n",
      "Iteration 99, loss = 0.03210868\n",
      "Iteration 100, loss = 0.02456664\n"
     ]
    },
    {
     "name": "stderr",
     "output_type": "stream",
     "text": [
      "C:\\ProgramData\\Anaconda3\\lib\\site-packages\\sklearn\\neural_network\\multilayer_perceptron.py:562: ConvergenceWarning: Stochastic Optimizer: Maximum iterations (100) reached and the optimization hasn't converged yet.\n",
      "  % self.max_iter, ConvergenceWarning)\n"
     ]
    },
    {
     "name": "stdout",
     "output_type": "stream",
     "text": [
      "RESULTS FOR BEST NN\n",
      "\n",
      "Best NN training error: 0.002800\n",
      "Best NN test error: 0.148780\n"
     ]
    }
   ],
   "source": [
    "#get training and test error for the best NN model from CV\n",
    "\n",
    "#ADD YOUR CODE\n",
    "best_NN_large = mlp_large_CV.best_estimator_\n",
    "best_NN_large.fit(X_train,y_train)\n",
    "\n",
    "training_error = 1. - best_NN_large.score(X_train,y_train) #ADD YOUR CODE\n",
    "test_error     = 1. - best_NN_large.score(X_test,y_test) #ADD YOUR CODE\n",
    "\n",
    "print ('RESULTS FOR BEST NN\\n')\n",
    "\n",
    "print (\"Best NN training error: %f\" % training_error)\n",
    "print (\"Best NN test error: %f\" % test_error)"
   ]
  },
  {
   "cell_type": "markdown",
   "metadata": {},
   "source": [
    "## QUESTION 3\n",
    "\n",
    "Compare the train and test error you got with a large number of samples with the best one you obtained with only 500 data points. Are the architectures the same or do they differ? What about the errors you get?"
   ]
  },
  {
   "cell_type": "markdown",
   "metadata": {},
   "source": [
    "**Answer:** As I expected, the test error decreases with more training data and the training error is still close to zero. The architectures are similar, both made of 1 hidden layer, but the size changes from 100 to 50. However, even if the size is twice as bigger in one case, notice from the CV model selection that they have similar performance for both training sets. "
   ]
  },
  {
   "cell_type": "markdown",
   "metadata": {},
   "source": [
    "### TO DO 5\n",
    "\n",
    "Plot a digit that was missclassified by NN with m=500 training data points and it is now instead correctly classified by NN with m=10000 training data points."
   ]
  },
  {
   "cell_type": "code",
   "execution_count": 25,
   "metadata": {
    "ExecuteTime": {
     "end_time": "2018-12-26T14:22:00.400730Z",
     "start_time": "2018-12-26T14:21:59.729092Z"
    }
   },
   "outputs": [
    {
     "name": "stdout",
     "output_type": "stream",
     "text": [
      "At index 9 of X_test, y_test is 1\n",
      "Classification by NN:  2 (2 = Pullover)\n",
      "Classification by large NN:  1 (1 = Trousers)\n",
      "INPUT:\n"
     ]
    },
    {
     "data": {
      "image/png": "[encoded data removed]",
      "text/plain": [
       "<Figure size 432x288 with 1 Axes>"
      ]
     },
     "metadata": {
      "needs_background": "light"
     },
     "output_type": "display_data"
    },
    {
     "name": "stdout",
     "output_type": "stream",
     "text": [
      "LABEL: 1\n"
     ]
    }
   ],
   "source": [
    "NN_prediction = best_NN.predict #ADD YOUR CODE\n",
    "large_NN_prediction = best_NN_large.predict #ADD YOUR CODE\n",
    "\n",
    "#ADD YOUR CODE\n",
    "for i in range(X_test.shape[0]):\n",
    "    # Search for the first sample that is missclassified \n",
    "    if NN_prediction(X_test[i,:].reshape(1,-1)).item() != y_test[i] and large_NN_prediction(X_test[i,:].reshape(1,-1)).item() == y_test[i]:\n",
    "        print('At index',i,'of X_test, y_test is',y_test[i])\n",
    "        print('Classification by NN: ', NN_prediction(X_test[i,:].reshape(1,-1)).item(),'(2 = Pullover)')\n",
    "        print('Classification by large NN: ', large_NN_prediction(X_test[i,:].reshape(1,-1)).item(),'(1 = Trousers)')\n",
    "        plot_input(X_test,y_test,i)  \n",
    "        break"
   ]
  },
  {
   "cell_type": "markdown",
   "metadata": {},
   "source": [
    "Let's plot the weigths of the multi-layer perceptron classifier, for the best NN we get with 500 data points and with 50000 data points. Notice that the code assumes that the NNs are called \"mlp\" and \"best_mlp_large\" , you could need to replace with your variable names.\n",
    "\n"
   ]
  },
  {
   "cell_type": "code",
   "execution_count": 27,
   "metadata": {
    "ExecuteTime": {
     "end_time": "2018-12-26T14:25:11.884470Z",
     "start_time": "2018-12-26T14:25:05.038091Z"
    }
   },
   "outputs": [
    {
     "name": "stdout",
     "output_type": "stream",
     "text": [
      "Weights with 500 data points:\n"
     ]
    },
    {
     "data": {
      "image/png": "[encoded data removed]",
      "text/plain": [
       "<Figure size 432x288 with 16 Axes>"
      ]
     },
     "metadata": {},
     "output_type": "display_data"
    },
    {
     "name": "stdout",
     "output_type": "stream",
     "text": [
      "Weights with 10000 data points:\n"
     ]
    },
    {
     "data": {
      "image/png": "[encoded data removed]",
      "text/plain": [
       "<Figure size 432x288 with 16 Axes>"
      ]
     },
     "metadata": {},
     "output_type": "display_data"
    }
   ],
   "source": [
    "print(\"Weights with 500 data points:\")\n",
    "\n",
    "mlp = best_NN\n",
    "best_mlp_large = best_NN_large\n",
    "\n",
    "fig, axes = plt.subplots(4, 4)\n",
    "vmin, vmax = mlp.coefs_[0].min(), mlp.coefs_[0].max()\n",
    "for coef, ax in zip(mlp.coefs_[0].T, axes.ravel()):\n",
    "    ax.matshow(coef.reshape(28, 28), cmap=plt.cm.gray, vmin=.5 * vmin, vmax=.5 * vmax)\n",
    "    ax.set_xticks(())\n",
    "    ax.set_yticks(())\n",
    "\n",
    "plt.show()\n",
    "\n",
    "print(\"Weights with 10000 data points:\")\n",
    "\n",
    "fig, axes = plt.subplots(4, 4)\n",
    "vmin, vmax = best_mlp_large.coefs_[0].min(), best_mlp_large.coefs_[0].max()\n",
    "for coef, ax in zip(mlp.coefs_[0].T, axes.ravel()):\n",
    "    ax.matshow(coef.reshape(28, 28), cmap=plt.cm.gray, vmin=.5 * vmin, vmax=.5 * vmax)\n",
    "    ax.set_xticks(())\n",
    "    ax.set_yticks(())\n",
    "plt.show()"
   ]
  },
  {
   "cell_type": "markdown",
   "metadata": {},
   "source": [
    "## QUESTION 4\n",
    "\n",
    "Describe what do you observe by looking at the weights"
   ]
  },
  {
   "cell_type": "markdown",
   "metadata": {},
   "source": [
    "**Answer:** The plots corresponding to the bigger training set have a smoother appearance, whereas in the first case they have some sort of structure. This means that maybe not all the neurons were used and some have very large coefficients, so the learning rate could have been too high and it can be more difficult to generalize, as it is confirmed by the test errors."
   ]
  },
  {
   "cell_type": "markdown",
   "metadata": {},
   "source": [
    "### TO DO 7\n",
    "\n",
    "Report the best SVM model and its parameters, you found in the last notebook. Fit it on a few data points and compute its training and test scores."
   ]
  },
  {
   "cell_type": "code",
   "execution_count": 34,
   "metadata": {
    "ExecuteTime": {
     "end_time": "2018-12-26T15:39:13.222409Z",
     "start_time": "2018-12-26T15:37:18.133410Z"
    }
   },
   "outputs": [
    {
     "name": "stdout",
     "output_type": "stream",
     "text": [
      "RESULTS FOR SVM\n",
      "Training score SVM:\n",
      "0.014399999999999968\n",
      "Test score SVM:\n",
      "0.13560000000000005\n"
     ]
    }
   ],
   "source": [
    "m_training = 5000\n",
    "\n",
    "X_train, X_test = X[:m_training], X[m_training:2*m_training]\n",
    "y_train, y_test = y[:m_training], y[m_training:2*m_training]\n",
    "\n",
    "# best parameters found in the SVM notebook {'C': 10, 'gamma': 0.01}\n",
    "# Create the SVM and perform the fit\n",
    "\n",
    "#ADD YOUR CODE\n",
    "\n",
    "SVM = SVC(C=10,kernel='rbf',gamma=0.01,decision_function_shape='ovo')\n",
    "SVM.fit(X_train,y_train)\n",
    "\n",
    "print ('RESULTS FOR SVM')\n",
    "\n",
    "SVM_training_error = 1. - SVM.score(X_train,y_train)#ADD YOUR CODE\n",
    "print(\"Training score SVM:\")\n",
    "print(SVM_training_error)\n",
    "\n",
    "SVM_test_error = 1. - SVM.score(X_test,y_test)#ADD YOUR CODE\n",
    "print(\"Test score SVM:\")\n",
    "print(SVM_test_error)"
   ]
  },
  {
   "cell_type": "markdown",
   "metadata": {
    "collapsed": true
   },
   "source": [
    "## QUESTION 5\n",
    "Compare the results of SVM and of NN. Which one would you preferer? Which are its tradeoffs?"
   ]
  },
  {
   "cell_type": "markdown",
   "metadata": {
    "collapsed": true
   },
   "source": [
    "**Answer:** SVM and NN have similar test scores (~0.14) so there is not a clear winner. The SVM takes more time to fit and compute the scores with half of the training set size $m_train = 5000$ (TO DO 7) but the CV parameter grid search is more intuitive. The choice of the NN architecture is instead more heuristic and more computational power and time are required to find the best model (TO DO 3), but after that the fit and scores computation are faster (TO DO 4). In conclusion, for this specific exercise, I would choose the SVM with a rbf kernel because it requires fewer training data and it leads to a smaller test score."
   ]
  },
  {
   "cell_type": "code",
   "execution_count": null,
   "metadata": {},
   "outputs": [],
   "source": []
  }
 ],
 "metadata": {
  "kernelspec": {
   "display_name": "Python 3",
   "language": "python",
   "name": "python3"
  },
  "language_info": {
   "codemirror_mode": {
    "name": "ipython",
    "version": 3
   },
   "file_extension": ".py",
   "mimetype": "text/x-python",
   "name": "python",
   "nbconvert_exporter": "python",
   "pygments_lexer": "ipython3",
   "version": "3.6.7"
  },
  "varInspector": {
   "cols": {
    "lenName": 16,
    "lenType": 16,
    "lenVar": 40
   },
   "kernels_config": {
    "python": {
     "delete_cmd_postfix": "",
     "delete_cmd_prefix": "del ",
     "library": "var_list.py",
     "varRefreshCmd": "print(var_dic_list())"
    },
    "r": {
     "delete_cmd_postfix": ") ",
     "delete_cmd_prefix": "rm(",
     "library": "var_list.r",
     "varRefreshCmd": "cat(var_dic_list()) "
    }
   },
   "types_to_exclude": [
    "module",
    "function",
    "builtin_function_or_method",
    "instance",
    "_Feature"
   ],
   "window_display": false
  }
 },
 "nbformat": 4,
 "nbformat_minor": 2
}
